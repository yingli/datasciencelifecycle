{
  "cells": [
    {
      "cell_type": "markdown",
      "metadata": {
        "id": "xEzmUkvDuLTO"
      },
      "source": [
        "# MATH 493 Group Project: Predicting Churners"
      ]
    },
    {
      "cell_type": "markdown",
      "metadata": {
        "id": "_wLMdGnLOHry"
      },
      "source": [
        "We create several logistic regression and decision tree models as tools to predict whether a merchant will stop making purchases."
      ]
    },
    {
      "cell_type": "markdown",
      "metadata": {
        "id": "iX7GbObbN2ES"
      },
      "source": [
        "Grace Flitsch, Lilly Nikkel, Carson Slater, Carrie Snodgrass\n",
        "\n",
        "Advised by: Dr. Ying Li"
      ]
    },
    {
      "cell_type": "code",
      "execution_count": 1,
      "metadata": {
        "id": "WBmlCSkRgM07"
      },
      "outputs": [],
      "source": [
        "#from google.colab import drive\n",
        "#drive.mount('/content/drive')"
      ]
    },
    {
      "cell_type": "markdown",
      "metadata": {
        "id": "J6FwILXENzAu"
      },
      "source": [
        "Importing packages."
      ]
    },
    {
      "cell_type": "code",
      "execution_count": 2,
      "metadata": {
        "id": "TJSK2qo5gIWX"
      },
      "outputs": [],
      "source": [
        "import pandas as pd\n",
        "import numpy as np\n",
        "\n",
        "from sklearn import preprocessing\n",
        "\n",
        "import matplotlib.pyplot as plt \n",
        "\n",
        "from sklearn.linear_model import LogisticRegression\n",
        "from sklearn.model_selection import train_test_split\n",
        "from sklearn import metrics\n",
        "\n",
        "import seaborn as sns\n",
        "\n",
        "import statsmodels.api as sm\n"
      ]
    },
    {
      "cell_type": "markdown",
      "metadata": {
        "id": "IKUFQIRT44z-"
      },
      "source": [
        "Utility Functions\n",
        "- @author Ying Li, Carrie Snodgrass, Lilly Nikkel, Grace Flitsch\n",
        "- PRECONDITIONS: various\n",
        "- POSTCONTITIONS: various\n",
        "- PARAMETERS: various\n"
      ]
    },
    {
      "cell_type": "code",
      "execution_count": 3,
      "metadata": {
        "id": "K_ggZC413gNu"
      },
      "outputs": [],
      "source": [
        "def prep_data(filename, dropna,datecol):\n",
        "    baskets = pd.read_csv(filename, parse_dates = [datecol])\n",
        "    if dropna:\n",
        "        baskets.dropna(inplace=True)\n",
        "    for s in baskets.columns:\n",
        "        if (\"id\" in s):\n",
        "            baskets.loc[:,s] = baskets.loc[:,s].astype(int)\n",
        "            #baskets.loc[:,s] = pd.Categorical(baskets.loc[:,s].apply(lambda x: floor(x))) \n",
        "            # -- making them into categorical has undesirable effect\n",
        "    if datecol:\n",
        "        baskets['date'] = baskets[datecol].dt.date\n",
        "        baskets['year'] = baskets[datecol].dt.year\n",
        "        baskets['month'] = baskets[datecol].dt.month\n",
        "        baskets['month1'] = baskets[datecol].apply(lambda t: t.strftime(\"%Y-%m\"))\n",
        "        baskets['month_num'] = (baskets['year'] - 2021) * 12 + baskets['month']\n",
        "        baskets['week_num'] = baskets[datecol].dt.isocalendar().week\n",
        "        baskets['week_num'] = (baskets['year'] - 2021) * 52 + baskets['week_num']\n",
        "        baskets['week1'] = baskets[datecol].apply(lambda t: t.strftime(\"%Y-%W\")) # this makes the beginning of Jan 2022 as week 2022-00 , not 2022-52\n",
        "        baskets.loc[baskets['week_num']==104,'week_num'] = 52\n",
        "        baskets['day'] = baskets[datecol].dt.day\n",
        "        baskets['hour'] = baskets[datecol].dt.hour\n",
        "        baskets['weekday'] = baskets[datecol].dt.weekday\n",
        "        baskets[\"spent\"] = baskets[\"qty\"] * baskets[\"price\"]\n",
        "    return baskets\n",
        "\n",
        "def get_merchant_attributes(baskets):\n",
        "    merchant_attributes = baskets.groupby(['merchant_id']).agg(\n",
        "        total_spent = ('spent', 'sum'), \n",
        "        num_orders = ('order_id', 'nunique'), \n",
        "        first_month = ('month_num', 'min'), \n",
        "        last_month = ('month_num', 'max'), \n",
        "        num_months = ('month_num', 'nunique'), \n",
        "        num_weeks = ('week_num', 'nunique'), \n",
        "        num_days = ('date', 'nunique'), \n",
        "        num_skus = ('sku_id','nunique'), \n",
        "        num_top_cats = ('top_cat_id','nunique'), \n",
        "        num_sub_cats = ('sub_cat_id','nunique'),\n",
        "        quantity_purchased = ('qty', 'sum')\n",
        "    ).reset_index()\n",
        "    merchant_attributes['avg_spent_per_order'] = merchant_attributes.total_spent / merchant_attributes.num_orders\n",
        "    merchant_attributes['tenure_month'] = merchant_attributes.last_month - merchant_attributes.first_month +1\n",
        "    merchant_attributes['avg_units_per_order'] = merchant_attributes.quantity_purchased / merchant_attributes.num_orders\n",
        "    \n",
        "    merchant_attributes.loc[merchant_attributes['last_month'] <= 19, 'churner'] = 1.0 \n",
        "    merchant_attributes.loc[merchant_attributes['last_month'] > 19, 'churner'] = 0.0  # creating churning category\n",
        "   \n",
        "    return merchant_attributes\n",
        "\n",
        "\n",
        "def get_merchant_order_attributes(baskets):\n",
        "    merchant_order_attributes = baskets.groupby(['merchant_id', 'order_id']).agg(\n",
        "        total_spent = ('spent', 'sum'), \n",
        "        num_orders = ('order_id', 'nunique'), \n",
        "        first_month = ('month_num', 'min'), \n",
        "        last_month = ('month_num', 'max'), \n",
        "        num_months = ('month_num', 'nunique'), \n",
        "        num_weeks = ('week_num', 'nunique'), \n",
        "        num_days = ('date', 'nunique'), \n",
        "        num_skus = ('sku_id','nunique'), \n",
        "        num_top_cats = ('top_cat_id','nunique'), \n",
        "        num_sub_cats = ('sub_cat_id','nunique'),\n",
        "        quantity_purchased = ('qty', 'sum')\n",
        "    ).reset_index()\n",
        "    merchant_order_attributes['avg_spent_per_order'] = merchant_order_attributes.total_spent / merchant_order_attributes.num_orders\n",
        "    merchant_order_attributes['tenure_month'] = merchant_order_attributes.last_month - merchant_order_attributes.first_month +1\n",
        "    merchant_order_attributes['avg_units_per_order'] = merchant_order_attributes.quantity_purchased / merchant_order_attributes.num_orders\n",
        "    \n",
        "    merchant_order_attributes.loc[merchant_order_attributes['last_month'] <= 19, 'churner'] = 1.0 \n",
        "    merchant_order_attributes.loc[merchant_order_attributes['last_month'] > 19, 'churner'] = 0.0  # creating churning category\n",
        "   \n",
        "    return merchant_order_attributes\n",
        "\n",
        "\n",
        "def get_merchant_attributes2(merchant_orders):\n",
        "    merchant_attributes = merchant_orders.groupby(['merchant_id']).agg(\n",
        "        total_spent = ('total_spent', 'sum'), \n",
        "        num_orders = ('num_orders', 'sum'), \n",
        "        first_month = ('first_month', 'min'), \n",
        "        last_month = ('last_month', 'max'), \n",
        "        avg_unique_sku_per_order = ('num_skus','mean'), \n",
        "        avg_unique_top_cat_per_order = ('num_top_cats','mean'), \n",
        "        avg_unique_sub_cat_per_order = ('num_sub_cats','mean'),\n",
        "        quantity_purchased = ('quantity_purchased', 'sum')\n",
        "    ).reset_index()\n",
        "    merchant_attributes['avg_spent_per_order'] = merchant_attributes.total_spent / merchant_attributes.num_orders\n",
        "    merchant_attributes['tenure_month'] = merchant_attributes.last_month - merchant_attributes.first_month +1\n",
        "    merchant_attributes['avg_units_per_order'] = merchant_attributes.quantity_purchased / merchant_attributes.num_orders\n",
        "    \n",
        "    merchant_attributes.loc[merchant_attributes['last_month'] <= 17, 'churner'] = 1.0 \n",
        "    merchant_attributes.loc[merchant_attributes['last_month'] > 17, 'churner'] = 0.0  # creating churning category\n",
        "   \n",
        "    return merchant_attributes\n",
        "\n",
        "\n",
        "def get_order_attributes(baskets):\n",
        "    order_attributes = baskets.groupby(['order_id']).agg(\n",
        "        merchant_id = ('merchant_id','max'),\n",
        "        total_spent = ('spent', 'sum'), \n",
        "        quantity_purchased = ('qty', 'sum'),\n",
        "        num_skus = ('sku_id','nunique'), \n",
        "        num_top_cats = ('top_cat_id','nunique'), \n",
        "        num_sub_cats = ('sub_cat_id','nunique'),\n",
        "        month = ('month_num', 'max')\n",
        "    ).reset_index()\n",
        "    return order_attributes\n",
        "\n",
        "def time_since():\n",
        "  baskets.placed_at.sort_values(ascending = False)\n",
        "  baskets['intermediate'] = baskets.groupby(by='merchant_id').placed_at.diff()\n",
        "\n",
        "def time_since2():\n",
        "  test_baskets.placed_at.sort_values(ascending = False)\n",
        "  test_baskets['intermediate'] = test_baskets.groupby(by = 'merchant_id').placed_at.diff()\n",
        "\n",
        "def prep_days_since(baskets):\n",
        "      baskets['days_since'] = baskets['since'].dt.days\n",
        "      return baskets "
      ]
    },
    {
      "cell_type": "markdown",
      "metadata": {},
      "source": [
        "### YINGLI:\n",
        "* comments on the functions in the above cell\n",
        "* avg per order attributes in merchant_order_attribute does not make sense because it is by order, so num_order ==1\n",
        "\n",
        "* these below three functions should be combined into one\n",
        "* the call to baskets.placed_at.sort_values actually had no impact when you did not save the returns\n",
        "* you should not sort a single columns and then operate on the whole dataframe which was not sorted at all\n",
        "* in the case of awantunai data because it is somewhat sorted by \"placed_at\" in the raw data, this may have worked incidentally "
      ]
    },
    {
      "cell_type": "markdown",
      "metadata": {
        "id": "-YbzqnxDPCmY"
      },
      "source": [
        "### Getting Familiar with Dataset"
      ]
    },
    {
      "cell_type": "markdown",
      "metadata": {
        "id": "mZsVSgb9FfT_"
      },
      "source": [
        "We prepare the data by reading the file, removing empty values, and separating the placed_at field into multiple time fields."
      ]
    },
    {
      "cell_type": "code",
      "execution_count": 4,
      "metadata": {
        "id": "pv6Z_9x-bV3k"
      },
      "outputs": [],
      "source": [
        "baskets = prep_data('new_baskets_adhie.csv', True, 'placed_at')"
      ]
    },
    {
      "cell_type": "markdown",
      "metadata": {
        "id": "kfsFwcd7w98d"
      },
      "source": [
        "New dataframe for testing predictive models on other data (all attributes associated with this dataframe begin with test_...)"
      ]
    },
    {
      "cell_type": "code",
      "execution_count": 5,
      "metadata": {
        "id": "3AJKjEOQlsRH"
      },
      "outputs": [],
      "source": [
        "test_baskets = prep_data('new_baskets_full.csv', True, 'placed_at')"
      ]
    },
    {
      "cell_type": "markdown",
      "metadata": {
        "id": "dK3hMRdXFxdt"
      },
      "source": [
        "We aggregate the data around merchants."
      ]
    },
    {
      "cell_type": "code",
      "execution_count": 6,
      "metadata": {
        "id": "qkFdBDAbV2x8"
      },
      "outputs": [],
      "source": [
        "merchants = get_merchant_attributes(baskets)"
      ]
    },
    {
      "cell_type": "markdown",
      "metadata": {
        "id": "q6-1hTA-xjTJ"
      },
      "source": []
    },
    {
      "cell_type": "code",
      "execution_count": 7,
      "metadata": {
        "id": "3QAzaHCnl9FR"
      },
      "outputs": [],
      "source": [
        "test_merchants = get_merchant_attributes(test_baskets)"
      ]
    },
    {
      "cell_type": "markdown",
      "metadata": {
        "id": "ugX1ontWLS9D"
      },
      "source": [
        "Merchants basket has churner column from merchant_attributes."
      ]
    },
    {
      "cell_type": "markdown",
      "metadata": {
        "id": "rMa17X9WF1MG"
      },
      "source": [
        "We aggregate the data around orders."
      ]
    },
    {
      "cell_type": "code",
      "execution_count": 8,
      "metadata": {
        "id": "YCS15_FZ1rVN"
      },
      "outputs": [],
      "source": [
        "orders = get_order_attributes(baskets[baskets['month_num']<19])"
      ]
    },
    {
      "cell_type": "code",
      "execution_count": 9,
      "metadata": {
        "id": "ZfDmfQExmDZ5"
      },
      "outputs": [],
      "source": [
        "test_orders = get_order_attributes(test_baskets[test_baskets['month_num']<19])"
      ]
    },
    {
      "cell_type": "markdown",
      "metadata": {
        "id": "UVgU50KTMZKm"
      },
      "source": [
        "### Adding a column for time since previous order"
      ]
    },
    {
      "cell_type": "markdown",
      "metadata": {
        "id": "uSufSGg93OEq"
      },
      "source": [
        "'since' column indicates the time since the previous order for that merchant"
      ]
    },
    {
      "cell_type": "code",
      "execution_count": 10,
      "metadata": {
        "id": "dd1WXadnmieY"
      },
      "outputs": [],
      "source": [
        "time_since()"
      ]
    },
    {
      "cell_type": "code",
      "execution_count": 11,
      "metadata": {
        "id": "JTTC4cN3nU_S"
      },
      "outputs": [],
      "source": [
        "time_since2()"
      ]
    },
    {
      "cell_type": "code",
      "execution_count": 12,
      "metadata": {
        "id": "9vGOm4TbmP-m"
      },
      "outputs": [],
      "source": [
        "time2 = test_baskets.groupby(by='order_id').agg(\n",
        "    since = ('intermediate', 'max'))"
      ]
    },
    {
      "cell_type": "code",
      "execution_count": 13,
      "metadata": {
        "id": "wD86ZDjGP3gd"
      },
      "outputs": [],
      "source": [
        "time = baskets.groupby(by='order_id').agg(\n",
        "    since = ('intermediate','max'))"
      ]
    },
    {
      "cell_type": "code",
      "execution_count": 14,
      "metadata": {
        "colab": {
          "base_uri": "https://localhost:8080/",
          "height": 455
        },
        "id": "21nIMyg3G3Tn",
        "outputId": "0c663a7a-0676-46f3-b5a3-6cb53b23c0a2"
      },
      "outputs": [
        {
          "data": {
            "text/html": [
              "<div>\n",
              "<style scoped>\n",
              "    .dataframe tbody tr th:only-of-type {\n",
              "        vertical-align: middle;\n",
              "    }\n",
              "\n",
              "    .dataframe tbody tr th {\n",
              "        vertical-align: top;\n",
              "    }\n",
              "\n",
              "    .dataframe thead th {\n",
              "        text-align: right;\n",
              "    }\n",
              "</style>\n",
              "<table border=\"1\" class=\"dataframe\">\n",
              "  <thead>\n",
              "    <tr style=\"text-align: right;\">\n",
              "      <th></th>\n",
              "      <th>since</th>\n",
              "    </tr>\n",
              "    <tr>\n",
              "      <th>order_id</th>\n",
              "      <th></th>\n",
              "    </tr>\n",
              "  </thead>\n",
              "  <tbody>\n",
              "    <tr>\n",
              "      <th>1</th>\n",
              "      <td>0 days 00:00:00</td>\n",
              "    </tr>\n",
              "    <tr>\n",
              "      <th>2</th>\n",
              "      <td>0 days 00:00:00</td>\n",
              "    </tr>\n",
              "    <tr>\n",
              "      <th>3</th>\n",
              "      <td>0 days 00:00:00</td>\n",
              "    </tr>\n",
              "    <tr>\n",
              "      <th>4</th>\n",
              "      <td>0 days 00:36:04.004000</td>\n",
              "    </tr>\n",
              "    <tr>\n",
              "      <th>5</th>\n",
              "      <td>0 days 01:18:14.269000</td>\n",
              "    </tr>\n",
              "    <tr>\n",
              "      <th>...</th>\n",
              "      <td>...</td>\n",
              "    </tr>\n",
              "    <tr>\n",
              "      <th>41580</th>\n",
              "      <td>1 days 01:17:37.453000</td>\n",
              "    </tr>\n",
              "    <tr>\n",
              "      <th>41581</th>\n",
              "      <td>0 days 00:15:33.509000</td>\n",
              "    </tr>\n",
              "    <tr>\n",
              "      <th>41582</th>\n",
              "      <td>2 days 00:16:55.420000</td>\n",
              "    </tr>\n",
              "    <tr>\n",
              "      <th>41583</th>\n",
              "      <td>6 days 01:01:21.209000</td>\n",
              "    </tr>\n",
              "    <tr>\n",
              "      <th>41584</th>\n",
              "      <td>1 days 01:02:12.033000</td>\n",
              "    </tr>\n",
              "  </tbody>\n",
              "</table>\n",
              "<p>41581 rows × 1 columns</p>\n",
              "</div>"
            ],
            "text/plain": [
              "                          since\n",
              "order_id                       \n",
              "1               0 days 00:00:00\n",
              "2               0 days 00:00:00\n",
              "3               0 days 00:00:00\n",
              "4        0 days 00:36:04.004000\n",
              "5        0 days 01:18:14.269000\n",
              "...                         ...\n",
              "41580    1 days 01:17:37.453000\n",
              "41581    0 days 00:15:33.509000\n",
              "41582    2 days 00:16:55.420000\n",
              "41583    6 days 01:01:21.209000\n",
              "41584    1 days 01:02:12.033000\n",
              "\n",
              "[41581 rows x 1 columns]"
            ]
          },
          "execution_count": 14,
          "metadata": {},
          "output_type": "execute_result"
        }
      ],
      "source": [
        "time"
      ]
    },
    {
      "cell_type": "markdown",
      "metadata": {},
      "source": [
        "### YINGLI:\n",
        "* comments on results of \"time\"\n",
        "* After running “since”, I ran query: time.loc[time.since.isna()]\n",
        "* obtained 12 rows of order IDs that have \"since\" of value \"NaT\" \n",
        "* It is very confusing to me why these 12 orders got NaT but not others\n",
        "* I double checked to see if these orders are the only order and has only one SKU for some merchants, but it is not the case\n",
        "* since you also executed \"dropna\" later before modeling, you drop the first order for each merchant to start with, to maintain consistency and clear logic\n",
        "\n",
        "order_id since\n",
        "\n",
        "11\tNaT\n",
        "\n",
        "60\tNaT\n",
        "\n",
        "3630\tNaT\n",
        "\n",
        "4182\tNaT\n",
        "\n",
        "7364\tNaT\n",
        "\n",
        "7378\tNaT\n",
        "\n",
        "7632\tNaT\n",
        "\n",
        "7640\tNaT\n",
        "\n",
        "10390\tNaT\n",
        "\n",
        "12321\tNaT\n",
        "\n",
        "13550\tNaT\n",
        "\n",
        "13658\tNaT\n"
      ]
    },
    {
      "cell_type": "code",
      "execution_count": 16,
      "metadata": {
        "colab": {
          "base_uri": "https://localhost:8080/",
          "height": 455
        },
        "id": "uspkuBei2uQf",
        "outputId": "ead2528e-e2e5-4917-c88c-1e14d0102228"
      },
      "outputs": [
        {
          "data": {
            "text/html": [
              "<div>\n",
              "<style scoped>\n",
              "    .dataframe tbody tr th:only-of-type {\n",
              "        vertical-align: middle;\n",
              "    }\n",
              "\n",
              "    .dataframe tbody tr th {\n",
              "        vertical-align: top;\n",
              "    }\n",
              "\n",
              "    .dataframe thead th {\n",
              "        text-align: right;\n",
              "    }\n",
              "</style>\n",
              "<table border=\"1\" class=\"dataframe\">\n",
              "  <thead>\n",
              "    <tr style=\"text-align: right;\">\n",
              "      <th></th>\n",
              "      <th>merchant_id</th>\n",
              "      <th>total_spent</th>\n",
              "      <th>quantity_purchased</th>\n",
              "      <th>num_skus</th>\n",
              "      <th>num_top_cats</th>\n",
              "      <th>num_sub_cats</th>\n",
              "      <th>month</th>\n",
              "    </tr>\n",
              "    <tr>\n",
              "      <th>order_id</th>\n",
              "      <th></th>\n",
              "      <th></th>\n",
              "      <th></th>\n",
              "      <th></th>\n",
              "      <th></th>\n",
              "      <th></th>\n",
              "      <th></th>\n",
              "    </tr>\n",
              "  </thead>\n",
              "  <tbody>\n",
              "    <tr>\n",
              "      <th>1</th>\n",
              "      <td>9</td>\n",
              "      <td>1541000.0</td>\n",
              "      <td>6</td>\n",
              "      <td>4</td>\n",
              "      <td>1</td>\n",
              "      <td>1</td>\n",
              "      <td>6</td>\n",
              "    </tr>\n",
              "    <tr>\n",
              "      <th>2</th>\n",
              "      <td>10</td>\n",
              "      <td>185500.0</td>\n",
              "      <td>10</td>\n",
              "      <td>2</td>\n",
              "      <td>1</td>\n",
              "      <td>1</td>\n",
              "      <td>6</td>\n",
              "    </tr>\n",
              "    <tr>\n",
              "      <th>3</th>\n",
              "      <td>11</td>\n",
              "      <td>1472500.0</td>\n",
              "      <td>23</td>\n",
              "      <td>9</td>\n",
              "      <td>3</td>\n",
              "      <td>4</td>\n",
              "      <td>6</td>\n",
              "    </tr>\n",
              "    <tr>\n",
              "      <th>4</th>\n",
              "      <td>11</td>\n",
              "      <td>549000.0</td>\n",
              "      <td>3</td>\n",
              "      <td>3</td>\n",
              "      <td>2</td>\n",
              "      <td>2</td>\n",
              "      <td>6</td>\n",
              "    </tr>\n",
              "    <tr>\n",
              "      <th>5</th>\n",
              "      <td>11</td>\n",
              "      <td>116000.0</td>\n",
              "      <td>1</td>\n",
              "      <td>1</td>\n",
              "      <td>1</td>\n",
              "      <td>1</td>\n",
              "      <td>6</td>\n",
              "    </tr>\n",
              "    <tr>\n",
              "      <th>...</th>\n",
              "      <td>...</td>\n",
              "      <td>...</td>\n",
              "      <td>...</td>\n",
              "      <td>...</td>\n",
              "      <td>...</td>\n",
              "      <td>...</td>\n",
              "      <td>...</td>\n",
              "    </tr>\n",
              "    <tr>\n",
              "      <th>30019</th>\n",
              "      <td>190</td>\n",
              "      <td>925000.0</td>\n",
              "      <td>7</td>\n",
              "      <td>3</td>\n",
              "      <td>1</td>\n",
              "      <td>1</td>\n",
              "      <td>18</td>\n",
              "    </tr>\n",
              "    <tr>\n",
              "      <th>30020</th>\n",
              "      <td>46</td>\n",
              "      <td>243000.0</td>\n",
              "      <td>3</td>\n",
              "      <td>2</td>\n",
              "      <td>2</td>\n",
              "      <td>2</td>\n",
              "      <td>18</td>\n",
              "    </tr>\n",
              "    <tr>\n",
              "      <th>30021</th>\n",
              "      <td>190</td>\n",
              "      <td>617000.0</td>\n",
              "      <td>7</td>\n",
              "      <td>4</td>\n",
              "      <td>2</td>\n",
              "      <td>2</td>\n",
              "      <td>18</td>\n",
              "    </tr>\n",
              "    <tr>\n",
              "      <th>30022</th>\n",
              "      <td>206</td>\n",
              "      <td>10627000.0</td>\n",
              "      <td>59</td>\n",
              "      <td>22</td>\n",
              "      <td>7</td>\n",
              "      <td>6</td>\n",
              "      <td>18</td>\n",
              "    </tr>\n",
              "    <tr>\n",
              "      <th>30023</th>\n",
              "      <td>190</td>\n",
              "      <td>4034000.0</td>\n",
              "      <td>9</td>\n",
              "      <td>5</td>\n",
              "      <td>1</td>\n",
              "      <td>1</td>\n",
              "      <td>18</td>\n",
              "    </tr>\n",
              "  </tbody>\n",
              "</table>\n",
              "<p>30012 rows × 7 columns</p>\n",
              "</div>"
            ],
            "text/plain": [
              "          merchant_id  total_spent  quantity_purchased  num_skus  \\\n",
              "order_id                                                           \n",
              "1                   9    1541000.0                   6         4   \n",
              "2                  10     185500.0                  10         2   \n",
              "3                  11    1472500.0                  23         9   \n",
              "4                  11     549000.0                   3         3   \n",
              "5                  11     116000.0                   1         1   \n",
              "...               ...          ...                 ...       ...   \n",
              "30019             190     925000.0                   7         3   \n",
              "30020              46     243000.0                   3         2   \n",
              "30021             190     617000.0                   7         4   \n",
              "30022             206   10627000.0                  59        22   \n",
              "30023             190    4034000.0                   9         5   \n",
              "\n",
              "          num_top_cats  num_sub_cats  month  \n",
              "order_id                                     \n",
              "1                    1             1      6  \n",
              "2                    1             1      6  \n",
              "3                    3             4      6  \n",
              "4                    2             2      6  \n",
              "5                    1             1      6  \n",
              "...                ...           ...    ...  \n",
              "30019                1             1     18  \n",
              "30020                2             2     18  \n",
              "30021                2             2     18  \n",
              "30022                7             6     18  \n",
              "30023                1             1     18  \n",
              "\n",
              "[30012 rows x 7 columns]"
            ]
          },
          "execution_count": 16,
          "metadata": {},
          "output_type": "execute_result"
        }
      ],
      "source": [
        "orders.set_index(keys='order_id')"
      ]
    },
    {
      "cell_type": "code",
      "execution_count": 17,
      "metadata": {
        "colab": {
          "base_uri": "https://localhost:8080/",
          "height": 455
        },
        "id": "j-UbAYNGniQu",
        "outputId": "770faad6-dc7c-4894-92a3-8797e141547b"
      },
      "outputs": [
        {
          "data": {
            "text/html": [
              "<div>\n",
              "<style scoped>\n",
              "    .dataframe tbody tr th:only-of-type {\n",
              "        vertical-align: middle;\n",
              "    }\n",
              "\n",
              "    .dataframe tbody tr th {\n",
              "        vertical-align: top;\n",
              "    }\n",
              "\n",
              "    .dataframe thead th {\n",
              "        text-align: right;\n",
              "    }\n",
              "</style>\n",
              "<table border=\"1\" class=\"dataframe\">\n",
              "  <thead>\n",
              "    <tr style=\"text-align: right;\">\n",
              "      <th></th>\n",
              "      <th>merchant_id</th>\n",
              "      <th>total_spent</th>\n",
              "      <th>quantity_purchased</th>\n",
              "      <th>num_skus</th>\n",
              "      <th>num_top_cats</th>\n",
              "      <th>num_sub_cats</th>\n",
              "      <th>month</th>\n",
              "    </tr>\n",
              "    <tr>\n",
              "      <th>order_id</th>\n",
              "      <th></th>\n",
              "      <th></th>\n",
              "      <th></th>\n",
              "      <th></th>\n",
              "      <th></th>\n",
              "      <th></th>\n",
              "      <th></th>\n",
              "    </tr>\n",
              "  </thead>\n",
              "  <tbody>\n",
              "    <tr>\n",
              "      <th>1</th>\n",
              "      <td>58</td>\n",
              "      <td>16921950.0</td>\n",
              "      <td>394</td>\n",
              "      <td>44</td>\n",
              "      <td>15</td>\n",
              "      <td>24</td>\n",
              "      <td>18</td>\n",
              "    </tr>\n",
              "    <tr>\n",
              "      <th>2</th>\n",
              "      <td>46</td>\n",
              "      <td>414270000.0</td>\n",
              "      <td>2380</td>\n",
              "      <td>8</td>\n",
              "      <td>2</td>\n",
              "      <td>3</td>\n",
              "      <td>4</td>\n",
              "    </tr>\n",
              "    <tr>\n",
              "      <th>3</th>\n",
              "      <td>61</td>\n",
              "      <td>415100000.0</td>\n",
              "      <td>2300</td>\n",
              "      <td>7</td>\n",
              "      <td>2</td>\n",
              "      <td>4</td>\n",
              "      <td>4</td>\n",
              "    </tr>\n",
              "    <tr>\n",
              "      <th>4</th>\n",
              "      <td>80</td>\n",
              "      <td>473650000.0</td>\n",
              "      <td>2650</td>\n",
              "      <td>8</td>\n",
              "      <td>2</td>\n",
              "      <td>4</td>\n",
              "      <td>4</td>\n",
              "    </tr>\n",
              "    <tr>\n",
              "      <th>5</th>\n",
              "      <td>36</td>\n",
              "      <td>380900000.0</td>\n",
              "      <td>2000</td>\n",
              "      <td>7</td>\n",
              "      <td>2</td>\n",
              "      <td>4</td>\n",
              "      <td>4</td>\n",
              "    </tr>\n",
              "    <tr>\n",
              "      <th>...</th>\n",
              "      <td>...</td>\n",
              "      <td>...</td>\n",
              "      <td>...</td>\n",
              "      <td>...</td>\n",
              "      <td>...</td>\n",
              "      <td>...</td>\n",
              "      <td>...</td>\n",
              "    </tr>\n",
              "    <tr>\n",
              "      <th>57647</th>\n",
              "      <td>76</td>\n",
              "      <td>830500.0</td>\n",
              "      <td>23</td>\n",
              "      <td>5</td>\n",
              "      <td>3</td>\n",
              "      <td>4</td>\n",
              "      <td>18</td>\n",
              "    </tr>\n",
              "    <tr>\n",
              "      <th>57649</th>\n",
              "      <td>1587</td>\n",
              "      <td>981500.0</td>\n",
              "      <td>9</td>\n",
              "      <td>5</td>\n",
              "      <td>3</td>\n",
              "      <td>3</td>\n",
              "      <td>18</td>\n",
              "    </tr>\n",
              "    <tr>\n",
              "      <th>57653</th>\n",
              "      <td>1961</td>\n",
              "      <td>1147400.0</td>\n",
              "      <td>67</td>\n",
              "      <td>4</td>\n",
              "      <td>4</td>\n",
              "      <td>4</td>\n",
              "      <td>18</td>\n",
              "    </tr>\n",
              "    <tr>\n",
              "      <th>57655</th>\n",
              "      <td>2112</td>\n",
              "      <td>124500.0</td>\n",
              "      <td>1</td>\n",
              "      <td>1</td>\n",
              "      <td>1</td>\n",
              "      <td>1</td>\n",
              "      <td>18</td>\n",
              "    </tr>\n",
              "    <tr>\n",
              "      <th>57656</th>\n",
              "      <td>2112</td>\n",
              "      <td>77500.0</td>\n",
              "      <td>5</td>\n",
              "      <td>1</td>\n",
              "      <td>1</td>\n",
              "      <td>1</td>\n",
              "      <td>18</td>\n",
              "    </tr>\n",
              "  </tbody>\n",
              "</table>\n",
              "<p>57486 rows × 7 columns</p>\n",
              "</div>"
            ],
            "text/plain": [
              "          merchant_id  total_spent  quantity_purchased  num_skus  \\\n",
              "order_id                                                           \n",
              "1                  58   16921950.0                 394        44   \n",
              "2                  46  414270000.0                2380         8   \n",
              "3                  61  415100000.0                2300         7   \n",
              "4                  80  473650000.0                2650         8   \n",
              "5                  36  380900000.0                2000         7   \n",
              "...               ...          ...                 ...       ...   \n",
              "57647              76     830500.0                  23         5   \n",
              "57649            1587     981500.0                   9         5   \n",
              "57653            1961    1147400.0                  67         4   \n",
              "57655            2112     124500.0                   1         1   \n",
              "57656            2112      77500.0                   5         1   \n",
              "\n",
              "          num_top_cats  num_sub_cats  month  \n",
              "order_id                                     \n",
              "1                   15            24     18  \n",
              "2                    2             3      4  \n",
              "3                    2             4      4  \n",
              "4                    2             4      4  \n",
              "5                    2             4      4  \n",
              "...                ...           ...    ...  \n",
              "57647                3             4     18  \n",
              "57649                3             3     18  \n",
              "57653                4             4     18  \n",
              "57655                1             1     18  \n",
              "57656                1             1     18  \n",
              "\n",
              "[57486 rows x 7 columns]"
            ]
          },
          "execution_count": 17,
          "metadata": {},
          "output_type": "execute_result"
        }
      ],
      "source": [
        "test_orders.set_index(keys = 'order_id')"
      ]
    },
    {
      "cell_type": "code",
      "execution_count": 18,
      "metadata": {
        "id": "nu_a0Ty0ydhW"
      },
      "outputs": [],
      "source": [
        "orders2 = orders.merge(time, on ='order_id')"
      ]
    },
    {
      "cell_type": "code",
      "execution_count": 19,
      "metadata": {
        "id": "YlhEBzP9nnd5"
      },
      "outputs": [],
      "source": [
        "test_orders2 = test_orders.merge(time2, on = 'order_id')"
      ]
    },
    {
      "cell_type": "markdown",
      "metadata": {
        "id": "VfgiB6xTKuoL"
      },
      "source": [
        "# Making final dataframe"
      ]
    },
    {
      "cell_type": "markdown",
      "metadata": {},
      "source": [
        "### YINGLI:\n",
        "* comments about the concept and computation of \"since'\n",
        "* the variable \"since\" created this way has zero for the merchant's first order in history, but it should not be zero.\n",
        "* should it be NaT? or should it be artificially set to a huge value to indicate the first order that has no logical definition of \"since\"\n",
        "* or should the first order of earch merchant be discarded because you want to predict churn and we should not be predicting churn on the first order? "
      ]
    },
    {
      "cell_type": "code",
      "execution_count": 20,
      "metadata": {
        "colab": {
          "base_uri": "https://localhost:8080/",
          "height": 206
        },
        "id": "PWceJkZ7Mqjf",
        "outputId": "d7293d40-c884-4b30-e89b-12e66a85dc71"
      },
      "outputs": [
        {
          "data": {
            "text/html": [
              "<div>\n",
              "<style scoped>\n",
              "    .dataframe tbody tr th:only-of-type {\n",
              "        vertical-align: middle;\n",
              "    }\n",
              "\n",
              "    .dataframe tbody tr th {\n",
              "        vertical-align: top;\n",
              "    }\n",
              "\n",
              "    .dataframe thead th {\n",
              "        text-align: right;\n",
              "    }\n",
              "</style>\n",
              "<table border=\"1\" class=\"dataframe\">\n",
              "  <thead>\n",
              "    <tr style=\"text-align: right;\">\n",
              "      <th></th>\n",
              "      <th>order_id</th>\n",
              "      <th>merchant_id</th>\n",
              "      <th>total_spent</th>\n",
              "      <th>quantity_purchased</th>\n",
              "      <th>num_skus</th>\n",
              "      <th>num_top_cats</th>\n",
              "      <th>num_sub_cats</th>\n",
              "      <th>month</th>\n",
              "      <th>since</th>\n",
              "    </tr>\n",
              "  </thead>\n",
              "  <tbody>\n",
              "    <tr>\n",
              "      <th>0</th>\n",
              "      <td>1</td>\n",
              "      <td>9</td>\n",
              "      <td>1541000.0</td>\n",
              "      <td>6</td>\n",
              "      <td>4</td>\n",
              "      <td>1</td>\n",
              "      <td>1</td>\n",
              "      <td>6</td>\n",
              "      <td>0 days 00:00:00</td>\n",
              "    </tr>\n",
              "    <tr>\n",
              "      <th>1</th>\n",
              "      <td>2</td>\n",
              "      <td>10</td>\n",
              "      <td>185500.0</td>\n",
              "      <td>10</td>\n",
              "      <td>2</td>\n",
              "      <td>1</td>\n",
              "      <td>1</td>\n",
              "      <td>6</td>\n",
              "      <td>0 days 00:00:00</td>\n",
              "    </tr>\n",
              "    <tr>\n",
              "      <th>2</th>\n",
              "      <td>3</td>\n",
              "      <td>11</td>\n",
              "      <td>1472500.0</td>\n",
              "      <td>23</td>\n",
              "      <td>9</td>\n",
              "      <td>3</td>\n",
              "      <td>4</td>\n",
              "      <td>6</td>\n",
              "      <td>0 days 00:00:00</td>\n",
              "    </tr>\n",
              "    <tr>\n",
              "      <th>3</th>\n",
              "      <td>4</td>\n",
              "      <td>11</td>\n",
              "      <td>549000.0</td>\n",
              "      <td>3</td>\n",
              "      <td>3</td>\n",
              "      <td>2</td>\n",
              "      <td>2</td>\n",
              "      <td>6</td>\n",
              "      <td>0 days 00:36:04.004000</td>\n",
              "    </tr>\n",
              "    <tr>\n",
              "      <th>4</th>\n",
              "      <td>5</td>\n",
              "      <td>11</td>\n",
              "      <td>116000.0</td>\n",
              "      <td>1</td>\n",
              "      <td>1</td>\n",
              "      <td>1</td>\n",
              "      <td>1</td>\n",
              "      <td>6</td>\n",
              "      <td>0 days 01:18:14.269000</td>\n",
              "    </tr>\n",
              "  </tbody>\n",
              "</table>\n",
              "</div>"
            ],
            "text/plain": [
              "   order_id  merchant_id  total_spent  quantity_purchased  num_skus  \\\n",
              "0         1            9    1541000.0                   6         4   \n",
              "1         2           10     185500.0                  10         2   \n",
              "2         3           11    1472500.0                  23         9   \n",
              "3         4           11     549000.0                   3         3   \n",
              "4         5           11     116000.0                   1         1   \n",
              "\n",
              "   num_top_cats  num_sub_cats  month                  since  \n",
              "0             1             1      6        0 days 00:00:00  \n",
              "1             1             1      6        0 days 00:00:00  \n",
              "2             3             4      6        0 days 00:00:00  \n",
              "3             2             2      6 0 days 00:36:04.004000  \n",
              "4             1             1      6 0 days 01:18:14.269000  "
            ]
          },
          "execution_count": 20,
          "metadata": {},
          "output_type": "execute_result"
        }
      ],
      "source": [
        "orders2.head()"
      ]
    },
    {
      "cell_type": "markdown",
      "metadata": {},
      "source": [
        "### YINGLI \n",
        "* commnets on below cells\n",
        "* the switch over to use df to name the dataframces makes it hard to follow the code\n",
        "* it does not help to follow because there are multiple concepts here: orders, merchants, baskets, and for two different raw datasets"
      ]
    },
    {
      "cell_type": "code",
      "execution_count": 21,
      "metadata": {
        "id": "d-Vab3WbLZrW"
      },
      "outputs": [],
      "source": [
        "df = orders2"
      ]
    },
    {
      "cell_type": "code",
      "execution_count": 22,
      "metadata": {
        "id": "JkXALq1Vnsrd"
      },
      "outputs": [],
      "source": [
        "df2 = test_orders2"
      ]
    },
    {
      "cell_type": "code",
      "execution_count": 23,
      "metadata": {
        "id": "hfPjsO8fK4Ys"
      },
      "outputs": [],
      "source": [
        "df = df.drop(columns =['num_top_cats', 'num_sub_cats'])"
      ]
    },
    {
      "cell_type": "code",
      "execution_count": 24,
      "metadata": {
        "colab": {
          "base_uri": "https://localhost:8080/",
          "height": 424
        },
        "id": "PYsN_mTsr0SF",
        "outputId": "9b99ead1-1620-4b2d-edc6-e81efe097097"
      },
      "outputs": [
        {
          "data": {
            "text/html": [
              "<div>\n",
              "<style scoped>\n",
              "    .dataframe tbody tr th:only-of-type {\n",
              "        vertical-align: middle;\n",
              "    }\n",
              "\n",
              "    .dataframe tbody tr th {\n",
              "        vertical-align: top;\n",
              "    }\n",
              "\n",
              "    .dataframe thead th {\n",
              "        text-align: right;\n",
              "    }\n",
              "</style>\n",
              "<table border=\"1\" class=\"dataframe\">\n",
              "  <thead>\n",
              "    <tr style=\"text-align: right;\">\n",
              "      <th></th>\n",
              "      <th>order_id</th>\n",
              "      <th>merchant_id</th>\n",
              "      <th>total_spent</th>\n",
              "      <th>quantity_purchased</th>\n",
              "      <th>num_skus</th>\n",
              "      <th>month</th>\n",
              "      <th>since</th>\n",
              "    </tr>\n",
              "  </thead>\n",
              "  <tbody>\n",
              "    <tr>\n",
              "      <th>0</th>\n",
              "      <td>1</td>\n",
              "      <td>9</td>\n",
              "      <td>1541000.0</td>\n",
              "      <td>6</td>\n",
              "      <td>4</td>\n",
              "      <td>6</td>\n",
              "      <td>0 days 00:00:00</td>\n",
              "    </tr>\n",
              "    <tr>\n",
              "      <th>1</th>\n",
              "      <td>2</td>\n",
              "      <td>10</td>\n",
              "      <td>185500.0</td>\n",
              "      <td>10</td>\n",
              "      <td>2</td>\n",
              "      <td>6</td>\n",
              "      <td>0 days 00:00:00</td>\n",
              "    </tr>\n",
              "    <tr>\n",
              "      <th>2</th>\n",
              "      <td>3</td>\n",
              "      <td>11</td>\n",
              "      <td>1472500.0</td>\n",
              "      <td>23</td>\n",
              "      <td>9</td>\n",
              "      <td>6</td>\n",
              "      <td>0 days 00:00:00</td>\n",
              "    </tr>\n",
              "    <tr>\n",
              "      <th>3</th>\n",
              "      <td>4</td>\n",
              "      <td>11</td>\n",
              "      <td>549000.0</td>\n",
              "      <td>3</td>\n",
              "      <td>3</td>\n",
              "      <td>6</td>\n",
              "      <td>0 days 00:36:04.004000</td>\n",
              "    </tr>\n",
              "    <tr>\n",
              "      <th>4</th>\n",
              "      <td>5</td>\n",
              "      <td>11</td>\n",
              "      <td>116000.0</td>\n",
              "      <td>1</td>\n",
              "      <td>1</td>\n",
              "      <td>6</td>\n",
              "      <td>0 days 01:18:14.269000</td>\n",
              "    </tr>\n",
              "    <tr>\n",
              "      <th>...</th>\n",
              "      <td>...</td>\n",
              "      <td>...</td>\n",
              "      <td>...</td>\n",
              "      <td>...</td>\n",
              "      <td>...</td>\n",
              "      <td>...</td>\n",
              "      <td>...</td>\n",
              "    </tr>\n",
              "    <tr>\n",
              "      <th>30007</th>\n",
              "      <td>30019</td>\n",
              "      <td>190</td>\n",
              "      <td>925000.0</td>\n",
              "      <td>7</td>\n",
              "      <td>3</td>\n",
              "      <td>18</td>\n",
              "      <td>0 days 00:19:09.405000</td>\n",
              "    </tr>\n",
              "    <tr>\n",
              "      <th>30008</th>\n",
              "      <td>30020</td>\n",
              "      <td>46</td>\n",
              "      <td>243000.0</td>\n",
              "      <td>3</td>\n",
              "      <td>2</td>\n",
              "      <td>18</td>\n",
              "      <td>3 days 08:30:27.796000</td>\n",
              "    </tr>\n",
              "    <tr>\n",
              "      <th>30009</th>\n",
              "      <td>30021</td>\n",
              "      <td>190</td>\n",
              "      <td>617000.0</td>\n",
              "      <td>7</td>\n",
              "      <td>4</td>\n",
              "      <td>18</td>\n",
              "      <td>0 days 00:11:32.835000</td>\n",
              "    </tr>\n",
              "    <tr>\n",
              "      <th>30010</th>\n",
              "      <td>30022</td>\n",
              "      <td>206</td>\n",
              "      <td>10627000.0</td>\n",
              "      <td>59</td>\n",
              "      <td>22</td>\n",
              "      <td>18</td>\n",
              "      <td>1 days 00:15:58.007000</td>\n",
              "    </tr>\n",
              "    <tr>\n",
              "      <th>30011</th>\n",
              "      <td>30023</td>\n",
              "      <td>190</td>\n",
              "      <td>4034000.0</td>\n",
              "      <td>9</td>\n",
              "      <td>5</td>\n",
              "      <td>18</td>\n",
              "      <td>0 days 00:16:52.733000</td>\n",
              "    </tr>\n",
              "  </tbody>\n",
              "</table>\n",
              "<p>30012 rows × 7 columns</p>\n",
              "</div>"
            ],
            "text/plain": [
              "       order_id  merchant_id  total_spent  quantity_purchased  num_skus  \\\n",
              "0             1            9    1541000.0                   6         4   \n",
              "1             2           10     185500.0                  10         2   \n",
              "2             3           11    1472500.0                  23         9   \n",
              "3             4           11     549000.0                   3         3   \n",
              "4             5           11     116000.0                   1         1   \n",
              "...         ...          ...          ...                 ...       ...   \n",
              "30007     30019          190     925000.0                   7         3   \n",
              "30008     30020           46     243000.0                   3         2   \n",
              "30009     30021          190     617000.0                   7         4   \n",
              "30010     30022          206   10627000.0                  59        22   \n",
              "30011     30023          190    4034000.0                   9         5   \n",
              "\n",
              "       month                  since  \n",
              "0          6        0 days 00:00:00  \n",
              "1          6        0 days 00:00:00  \n",
              "2          6        0 days 00:00:00  \n",
              "3          6 0 days 00:36:04.004000  \n",
              "4          6 0 days 01:18:14.269000  \n",
              "...      ...                    ...  \n",
              "30007     18 0 days 00:19:09.405000  \n",
              "30008     18 3 days 08:30:27.796000  \n",
              "30009     18 0 days 00:11:32.835000  \n",
              "30010     18 1 days 00:15:58.007000  \n",
              "30011     18 0 days 00:16:52.733000  \n",
              "\n",
              "[30012 rows x 7 columns]"
            ]
          },
          "execution_count": 24,
          "metadata": {},
          "output_type": "execute_result"
        }
      ],
      "source": [
        "df"
      ]
    },
    {
      "cell_type": "code",
      "execution_count": 25,
      "metadata": {
        "id": "HtuyHF6fnv4o"
      },
      "outputs": [],
      "source": [
        "df2 = df2.drop(columns = ['num_top_cats', 'num_sub_cats'])"
      ]
    },
    {
      "cell_type": "code",
      "execution_count": 26,
      "metadata": {
        "colab": {
          "base_uri": "https://localhost:8080/",
          "height": 424
        },
        "id": "pScL7gegrJxw",
        "outputId": "d32270e3-dd0e-4908-c1f7-7aa74957c9c2"
      },
      "outputs": [
        {
          "data": {
            "text/html": [
              "<div>\n",
              "<style scoped>\n",
              "    .dataframe tbody tr th:only-of-type {\n",
              "        vertical-align: middle;\n",
              "    }\n",
              "\n",
              "    .dataframe tbody tr th {\n",
              "        vertical-align: top;\n",
              "    }\n",
              "\n",
              "    .dataframe thead th {\n",
              "        text-align: right;\n",
              "    }\n",
              "</style>\n",
              "<table border=\"1\" class=\"dataframe\">\n",
              "  <thead>\n",
              "    <tr style=\"text-align: right;\">\n",
              "      <th></th>\n",
              "      <th>order_id</th>\n",
              "      <th>merchant_id</th>\n",
              "      <th>total_spent</th>\n",
              "      <th>quantity_purchased</th>\n",
              "      <th>num_skus</th>\n",
              "      <th>month</th>\n",
              "      <th>since</th>\n",
              "    </tr>\n",
              "  </thead>\n",
              "  <tbody>\n",
              "    <tr>\n",
              "      <th>0</th>\n",
              "      <td>1</td>\n",
              "      <td>58</td>\n",
              "      <td>16921950.0</td>\n",
              "      <td>394</td>\n",
              "      <td>44</td>\n",
              "      <td>18</td>\n",
              "      <td>181 days 04:40:25.142000</td>\n",
              "    </tr>\n",
              "    <tr>\n",
              "      <th>1</th>\n",
              "      <td>2</td>\n",
              "      <td>46</td>\n",
              "      <td>414270000.0</td>\n",
              "      <td>2380</td>\n",
              "      <td>8</td>\n",
              "      <td>4</td>\n",
              "      <td>0 days 00:00:00</td>\n",
              "    </tr>\n",
              "    <tr>\n",
              "      <th>2</th>\n",
              "      <td>3</td>\n",
              "      <td>61</td>\n",
              "      <td>415100000.0</td>\n",
              "      <td>2300</td>\n",
              "      <td>7</td>\n",
              "      <td>4</td>\n",
              "      <td>0 days 00:00:00</td>\n",
              "    </tr>\n",
              "    <tr>\n",
              "      <th>3</th>\n",
              "      <td>4</td>\n",
              "      <td>80</td>\n",
              "      <td>473650000.0</td>\n",
              "      <td>2650</td>\n",
              "      <td>8</td>\n",
              "      <td>4</td>\n",
              "      <td>0 days 00:00:00</td>\n",
              "    </tr>\n",
              "    <tr>\n",
              "      <th>4</th>\n",
              "      <td>5</td>\n",
              "      <td>36</td>\n",
              "      <td>380900000.0</td>\n",
              "      <td>2000</td>\n",
              "      <td>7</td>\n",
              "      <td>4</td>\n",
              "      <td>0 days 00:00:00</td>\n",
              "    </tr>\n",
              "    <tr>\n",
              "      <th>...</th>\n",
              "      <td>...</td>\n",
              "      <td>...</td>\n",
              "      <td>...</td>\n",
              "      <td>...</td>\n",
              "      <td>...</td>\n",
              "      <td>...</td>\n",
              "      <td>...</td>\n",
              "    </tr>\n",
              "    <tr>\n",
              "      <th>57481</th>\n",
              "      <td>57647</td>\n",
              "      <td>76</td>\n",
              "      <td>830500.0</td>\n",
              "      <td>23</td>\n",
              "      <td>5</td>\n",
              "      <td>18</td>\n",
              "      <td>1 days 02:57:57.525000</td>\n",
              "    </tr>\n",
              "    <tr>\n",
              "      <th>57482</th>\n",
              "      <td>57649</td>\n",
              "      <td>1587</td>\n",
              "      <td>981500.0</td>\n",
              "      <td>9</td>\n",
              "      <td>5</td>\n",
              "      <td>18</td>\n",
              "      <td>0 days 00:06:13.870000</td>\n",
              "    </tr>\n",
              "    <tr>\n",
              "      <th>57483</th>\n",
              "      <td>57653</td>\n",
              "      <td>1961</td>\n",
              "      <td>1147400.0</td>\n",
              "      <td>67</td>\n",
              "      <td>4</td>\n",
              "      <td>18</td>\n",
              "      <td>0 days 22:22:31.521000</td>\n",
              "    </tr>\n",
              "    <tr>\n",
              "      <th>57484</th>\n",
              "      <td>57655</td>\n",
              "      <td>2112</td>\n",
              "      <td>124500.0</td>\n",
              "      <td>1</td>\n",
              "      <td>1</td>\n",
              "      <td>18</td>\n",
              "      <td>0 days 00:03:27.197000</td>\n",
              "    </tr>\n",
              "    <tr>\n",
              "      <th>57485</th>\n",
              "      <td>57656</td>\n",
              "      <td>2112</td>\n",
              "      <td>77500.0</td>\n",
              "      <td>5</td>\n",
              "      <td>1</td>\n",
              "      <td>18</td>\n",
              "      <td>0 days 00:01:48.013000</td>\n",
              "    </tr>\n",
              "  </tbody>\n",
              "</table>\n",
              "<p>57486 rows × 7 columns</p>\n",
              "</div>"
            ],
            "text/plain": [
              "       order_id  merchant_id  total_spent  quantity_purchased  num_skus  \\\n",
              "0             1           58   16921950.0                 394        44   \n",
              "1             2           46  414270000.0                2380         8   \n",
              "2             3           61  415100000.0                2300         7   \n",
              "3             4           80  473650000.0                2650         8   \n",
              "4             5           36  380900000.0                2000         7   \n",
              "...         ...          ...          ...                 ...       ...   \n",
              "57481     57647           76     830500.0                  23         5   \n",
              "57482     57649         1587     981500.0                   9         5   \n",
              "57483     57653         1961    1147400.0                  67         4   \n",
              "57484     57655         2112     124500.0                   1         1   \n",
              "57485     57656         2112      77500.0                   5         1   \n",
              "\n",
              "       month                    since  \n",
              "0         18 181 days 04:40:25.142000  \n",
              "1          4          0 days 00:00:00  \n",
              "2          4          0 days 00:00:00  \n",
              "3          4          0 days 00:00:00  \n",
              "4          4          0 days 00:00:00  \n",
              "...      ...                      ...  \n",
              "57481     18   1 days 02:57:57.525000  \n",
              "57482     18   0 days 00:06:13.870000  \n",
              "57483     18   0 days 22:22:31.521000  \n",
              "57484     18   0 days 00:03:27.197000  \n",
              "57485     18   0 days 00:01:48.013000  \n",
              "\n",
              "[57486 rows x 7 columns]"
            ]
          },
          "execution_count": 26,
          "metadata": {},
          "output_type": "execute_result"
        }
      ],
      "source": [
        "df2"
      ]
    },
    {
      "cell_type": "code",
      "execution_count": 27,
      "metadata": {
        "id": "21Hs-BjANeie"
      },
      "outputs": [],
      "source": [
        "df['churner'] = 0"
      ]
    },
    {
      "cell_type": "code",
      "execution_count": 28,
      "metadata": {
        "id": "dls1woztn3VU"
      },
      "outputs": [],
      "source": [
        "df2['churner'] = 0\n",
        "df2['c_tenure'] = 0"
      ]
    },
    {
      "cell_type": "markdown",
      "metadata": {},
      "source": [
        "### YINGLI:\n",
        "* this below could have been easily cleaned up by putting together with the setting of \"churner\" variable"
      ]
    },
    {
      "cell_type": "code",
      "execution_count": 29,
      "metadata": {
        "id": "SGCEtP9-2_C2"
      },
      "outputs": [],
      "source": [
        "df['c_tenure'] = 0"
      ]
    },
    {
      "cell_type": "markdown",
      "metadata": {
        "id": "pGkBNBMmTjJf"
      },
      "source": [
        "Getting churn and tenure info from merchants and assigning it to the final dataframe"
      ]
    },
    {
      "cell_type": "markdown",
      "metadata": {},
      "source": [
        "### YINGLI:\n",
        "* the below element wise operation is always much slower\n",
        "* it would be faster to do column/dataframe wise operation \n",
        "* the below could be done by setting \"merchant_id\" as index on order table and join with merchant table to get the churn and first_month columns\n",
        "* overall, the order table preparation should be combined into the funtion of \"get_order_attributes\"\n"
      ]
    },
    {
      "cell_type": "code",
      "execution_count": 30,
      "metadata": {
        "colab": {
          "base_uri": "https://localhost:8080/"
        },
        "id": "KNhrA_RoKuKo",
        "outputId": "fb29836c-afb2-449e-fd8c-7c336763f77d"
      },
      "outputs": [
        {
          "name": "stderr",
          "output_type": "stream",
          "text": [
            "/var/folders/kf/38b2x8pj2x50xtns4nqt6ysw0000gn/T/ipykernel_22112/450304214.py:3: SettingWithCopyWarning: \n",
            "A value is trying to be set on a copy of a slice from a DataFrame\n",
            "\n",
            "See the caveats in the documentation: https://pandas.pydata.org/pandas-docs/stable/user_guide/indexing.html#returning-a-view-versus-a-copy\n",
            "  row['churner'] = (merchants[merchants['merchant_id']== row['merchant_id']]).churner\n",
            "/var/folders/kf/38b2x8pj2x50xtns4nqt6ysw0000gn/T/ipykernel_22112/450304214.py:4: SettingWithCopyWarning: \n",
            "A value is trying to be set on a copy of a slice from a DataFrame\n",
            "\n",
            "See the caveats in the documentation: https://pandas.pydata.org/pandas-docs/stable/user_guide/indexing.html#returning-a-view-versus-a-copy\n",
            "  row['c_tenure'] = row['month'] - (merchants[merchants['merchant_id']== row['merchant_id']]).first_month\n"
          ]
        }
      ],
      "source": [
        "for index in df.index:\n",
        "  row = df.loc[index]\n",
        "  row['churner'] = (merchants[merchants['merchant_id']== row['merchant_id']]).churner\n",
        "  row['c_tenure'] = row['month'] - (merchants[merchants['merchant_id']== row['merchant_id']]).first_month \n",
        "  df.loc[index] = row"
      ]
    },
    {
      "cell_type": "code",
      "execution_count": 31,
      "metadata": {
        "id": "m-8eXM6Vn-HD"
      },
      "outputs": [
        {
          "name": "stderr",
          "output_type": "stream",
          "text": [
            "/var/folders/kf/38b2x8pj2x50xtns4nqt6ysw0000gn/T/ipykernel_22112/1649858472.py:3: SettingWithCopyWarning: \n",
            "A value is trying to be set on a copy of a slice from a DataFrame\n",
            "\n",
            "See the caveats in the documentation: https://pandas.pydata.org/pandas-docs/stable/user_guide/indexing.html#returning-a-view-versus-a-copy\n",
            "  row['churner'] = (test_merchants[test_merchants['merchant_id']== row['merchant_id']]).churner\n",
            "/var/folders/kf/38b2x8pj2x50xtns4nqt6ysw0000gn/T/ipykernel_22112/1649858472.py:4: SettingWithCopyWarning: \n",
            "A value is trying to be set on a copy of a slice from a DataFrame\n",
            "\n",
            "See the caveats in the documentation: https://pandas.pydata.org/pandas-docs/stable/user_guide/indexing.html#returning-a-view-versus-a-copy\n",
            "  row['c_tenure'] = row['month'] - (test_merchants[test_merchants['merchant_id']== row['merchant_id']]).first_month\n"
          ]
        }
      ],
      "source": [
        "for index in df2.index:\n",
        "  row = df2.loc[index]\n",
        "  row['churner'] = (test_merchants[test_merchants['merchant_id']== row['merchant_id']]).churner\n",
        "  row['c_tenure'] = row['month'] - (test_merchants[test_merchants['merchant_id']== row['merchant_id']]).first_month \n",
        "  df2.loc[index] = row"
      ]
    },
    {
      "cell_type": "markdown",
      "metadata": {
        "id": "aDzCZnVtM6-x"
      },
      "source": [
        "We use the since category to create a days since variable, measuring the days since last order, as an integer. "
      ]
    },
    {
      "cell_type": "code",
      "execution_count": 32,
      "metadata": {
        "colab": {
          "base_uri": "https://localhost:8080/",
          "height": 424
        },
        "id": "-GO8kk-aMt_D",
        "outputId": "fd737ad5-de6a-4a60-df7e-fc9d0d7cc6ce"
      },
      "outputs": [
        {
          "data": {
            "text/html": [
              "<div>\n",
              "<style scoped>\n",
              "    .dataframe tbody tr th:only-of-type {\n",
              "        vertical-align: middle;\n",
              "    }\n",
              "\n",
              "    .dataframe tbody tr th {\n",
              "        vertical-align: top;\n",
              "    }\n",
              "\n",
              "    .dataframe thead th {\n",
              "        text-align: right;\n",
              "    }\n",
              "</style>\n",
              "<table border=\"1\" class=\"dataframe\">\n",
              "  <thead>\n",
              "    <tr style=\"text-align: right;\">\n",
              "      <th></th>\n",
              "      <th>order_id</th>\n",
              "      <th>merchant_id</th>\n",
              "      <th>total_spent</th>\n",
              "      <th>quantity_purchased</th>\n",
              "      <th>num_skus</th>\n",
              "      <th>month</th>\n",
              "      <th>since</th>\n",
              "      <th>churner</th>\n",
              "      <th>c_tenure</th>\n",
              "      <th>days_since</th>\n",
              "    </tr>\n",
              "  </thead>\n",
              "  <tbody>\n",
              "    <tr>\n",
              "      <th>0</th>\n",
              "      <td>1</td>\n",
              "      <td>9</td>\n",
              "      <td>1541000.0</td>\n",
              "      <td>6</td>\n",
              "      <td>4</td>\n",
              "      <td>6</td>\n",
              "      <td>0 days 00:00:00</td>\n",
              "      <td>0</td>\n",
              "      <td>0</td>\n",
              "      <td>0.0</td>\n",
              "    </tr>\n",
              "    <tr>\n",
              "      <th>1</th>\n",
              "      <td>2</td>\n",
              "      <td>10</td>\n",
              "      <td>185500.0</td>\n",
              "      <td>10</td>\n",
              "      <td>2</td>\n",
              "      <td>6</td>\n",
              "      <td>0 days 00:00:00</td>\n",
              "      <td>1</td>\n",
              "      <td>0</td>\n",
              "      <td>0.0</td>\n",
              "    </tr>\n",
              "    <tr>\n",
              "      <th>2</th>\n",
              "      <td>3</td>\n",
              "      <td>11</td>\n",
              "      <td>1472500.0</td>\n",
              "      <td>23</td>\n",
              "      <td>9</td>\n",
              "      <td>6</td>\n",
              "      <td>0 days 00:00:00</td>\n",
              "      <td>0</td>\n",
              "      <td>0</td>\n",
              "      <td>0.0</td>\n",
              "    </tr>\n",
              "    <tr>\n",
              "      <th>3</th>\n",
              "      <td>4</td>\n",
              "      <td>11</td>\n",
              "      <td>549000.0</td>\n",
              "      <td>3</td>\n",
              "      <td>3</td>\n",
              "      <td>6</td>\n",
              "      <td>0 days 00:36:04.004000</td>\n",
              "      <td>0</td>\n",
              "      <td>0</td>\n",
              "      <td>0.0</td>\n",
              "    </tr>\n",
              "    <tr>\n",
              "      <th>4</th>\n",
              "      <td>5</td>\n",
              "      <td>11</td>\n",
              "      <td>116000.0</td>\n",
              "      <td>1</td>\n",
              "      <td>1</td>\n",
              "      <td>6</td>\n",
              "      <td>0 days 01:18:14.269000</td>\n",
              "      <td>0</td>\n",
              "      <td>0</td>\n",
              "      <td>0.0</td>\n",
              "    </tr>\n",
              "    <tr>\n",
              "      <th>...</th>\n",
              "      <td>...</td>\n",
              "      <td>...</td>\n",
              "      <td>...</td>\n",
              "      <td>...</td>\n",
              "      <td>...</td>\n",
              "      <td>...</td>\n",
              "      <td>...</td>\n",
              "      <td>...</td>\n",
              "      <td>...</td>\n",
              "      <td>...</td>\n",
              "    </tr>\n",
              "    <tr>\n",
              "      <th>30007</th>\n",
              "      <td>30019</td>\n",
              "      <td>190</td>\n",
              "      <td>925000.0</td>\n",
              "      <td>7</td>\n",
              "      <td>3</td>\n",
              "      <td>18</td>\n",
              "      <td>0 days 00:19:09.405000</td>\n",
              "      <td>0</td>\n",
              "      <td>8</td>\n",
              "      <td>0.0</td>\n",
              "    </tr>\n",
              "    <tr>\n",
              "      <th>30008</th>\n",
              "      <td>30020</td>\n",
              "      <td>46</td>\n",
              "      <td>243000.0</td>\n",
              "      <td>3</td>\n",
              "      <td>2</td>\n",
              "      <td>18</td>\n",
              "      <td>3 days 08:30:27.796000</td>\n",
              "      <td>0</td>\n",
              "      <td>9</td>\n",
              "      <td>3.0</td>\n",
              "    </tr>\n",
              "    <tr>\n",
              "      <th>30009</th>\n",
              "      <td>30021</td>\n",
              "      <td>190</td>\n",
              "      <td>617000.0</td>\n",
              "      <td>7</td>\n",
              "      <td>4</td>\n",
              "      <td>18</td>\n",
              "      <td>0 days 00:11:32.835000</td>\n",
              "      <td>0</td>\n",
              "      <td>8</td>\n",
              "      <td>0.0</td>\n",
              "    </tr>\n",
              "    <tr>\n",
              "      <th>30010</th>\n",
              "      <td>30022</td>\n",
              "      <td>206</td>\n",
              "      <td>10627000.0</td>\n",
              "      <td>59</td>\n",
              "      <td>22</td>\n",
              "      <td>18</td>\n",
              "      <td>1 days 00:15:58.007000</td>\n",
              "      <td>0</td>\n",
              "      <td>8</td>\n",
              "      <td>1.0</td>\n",
              "    </tr>\n",
              "    <tr>\n",
              "      <th>30011</th>\n",
              "      <td>30023</td>\n",
              "      <td>190</td>\n",
              "      <td>4034000.0</td>\n",
              "      <td>9</td>\n",
              "      <td>5</td>\n",
              "      <td>18</td>\n",
              "      <td>0 days 00:16:52.733000</td>\n",
              "      <td>0</td>\n",
              "      <td>8</td>\n",
              "      <td>0.0</td>\n",
              "    </tr>\n",
              "  </tbody>\n",
              "</table>\n",
              "<p>30012 rows × 10 columns</p>\n",
              "</div>"
            ],
            "text/plain": [
              "       order_id  merchant_id  total_spent  quantity_purchased  num_skus  \\\n",
              "0             1            9    1541000.0                   6         4   \n",
              "1             2           10     185500.0                  10         2   \n",
              "2             3           11    1472500.0                  23         9   \n",
              "3             4           11     549000.0                   3         3   \n",
              "4             5           11     116000.0                   1         1   \n",
              "...         ...          ...          ...                 ...       ...   \n",
              "30007     30019          190     925000.0                   7         3   \n",
              "30008     30020           46     243000.0                   3         2   \n",
              "30009     30021          190     617000.0                   7         4   \n",
              "30010     30022          206   10627000.0                  59        22   \n",
              "30011     30023          190    4034000.0                   9         5   \n",
              "\n",
              "       month                  since  churner  c_tenure  days_since  \n",
              "0          6        0 days 00:00:00        0         0         0.0  \n",
              "1          6        0 days 00:00:00        1         0         0.0  \n",
              "2          6        0 days 00:00:00        0         0         0.0  \n",
              "3          6 0 days 00:36:04.004000        0         0         0.0  \n",
              "4          6 0 days 01:18:14.269000        0         0         0.0  \n",
              "...      ...                    ...      ...       ...         ...  \n",
              "30007     18 0 days 00:19:09.405000        0         8         0.0  \n",
              "30008     18 3 days 08:30:27.796000        0         9         3.0  \n",
              "30009     18 0 days 00:11:32.835000        0         8         0.0  \n",
              "30010     18 1 days 00:15:58.007000        0         8         1.0  \n",
              "30011     18 0 days 00:16:52.733000        0         8         0.0  \n",
              "\n",
              "[30012 rows x 10 columns]"
            ]
          },
          "execution_count": 32,
          "metadata": {},
          "output_type": "execute_result"
        }
      ],
      "source": [
        "df = prep_days_since(df)\n",
        "df"
      ]
    },
    {
      "cell_type": "markdown",
      "metadata": {},
      "source": [
        "### YINGLI:\n",
        "* below experimental code should have been cleaned up"
      ]
    },
    {
      "cell_type": "code",
      "execution_count": 33,
      "metadata": {
        "id": "maEh9MP7K3gZ"
      },
      "outputs": [],
      "source": [
        "df_save = df"
      ]
    },
    {
      "cell_type": "code",
      "execution_count": 34,
      "metadata": {
        "id": "91kLpo0bQTLS"
      },
      "outputs": [],
      "source": [
        "df = df.reset_index(drop=True)"
      ]
    },
    {
      "cell_type": "code",
      "execution_count": 35,
      "metadata": {
        "id": "q3LvXkxKRGU4"
      },
      "outputs": [],
      "source": [
        "df = df.set_index(keys='order_id')"
      ]
    },
    {
      "cell_type": "code",
      "execution_count": 36,
      "metadata": {
        "colab": {
          "base_uri": "https://localhost:8080/",
          "height": 455
        },
        "id": "EbX8FsDp2TyC",
        "outputId": "b8d6c681-e8b8-4e44-8831-e56b89762e67"
      },
      "outputs": [
        {
          "data": {
            "text/html": [
              "<div>\n",
              "<style scoped>\n",
              "    .dataframe tbody tr th:only-of-type {\n",
              "        vertical-align: middle;\n",
              "    }\n",
              "\n",
              "    .dataframe tbody tr th {\n",
              "        vertical-align: top;\n",
              "    }\n",
              "\n",
              "    .dataframe thead th {\n",
              "        text-align: right;\n",
              "    }\n",
              "</style>\n",
              "<table border=\"1\" class=\"dataframe\">\n",
              "  <thead>\n",
              "    <tr style=\"text-align: right;\">\n",
              "      <th></th>\n",
              "      <th>merchant_id</th>\n",
              "      <th>total_spent</th>\n",
              "      <th>quantity_purchased</th>\n",
              "      <th>num_skus</th>\n",
              "      <th>month</th>\n",
              "      <th>since</th>\n",
              "      <th>churner</th>\n",
              "      <th>c_tenure</th>\n",
              "      <th>days_since</th>\n",
              "    </tr>\n",
              "    <tr>\n",
              "      <th>order_id</th>\n",
              "      <th></th>\n",
              "      <th></th>\n",
              "      <th></th>\n",
              "      <th></th>\n",
              "      <th></th>\n",
              "      <th></th>\n",
              "      <th></th>\n",
              "      <th></th>\n",
              "      <th></th>\n",
              "    </tr>\n",
              "  </thead>\n",
              "  <tbody>\n",
              "    <tr>\n",
              "      <th>1</th>\n",
              "      <td>9</td>\n",
              "      <td>1541000.0</td>\n",
              "      <td>6</td>\n",
              "      <td>4</td>\n",
              "      <td>6</td>\n",
              "      <td>0 days 00:00:00</td>\n",
              "      <td>0</td>\n",
              "      <td>0</td>\n",
              "      <td>0.0</td>\n",
              "    </tr>\n",
              "    <tr>\n",
              "      <th>2</th>\n",
              "      <td>10</td>\n",
              "      <td>185500.0</td>\n",
              "      <td>10</td>\n",
              "      <td>2</td>\n",
              "      <td>6</td>\n",
              "      <td>0 days 00:00:00</td>\n",
              "      <td>1</td>\n",
              "      <td>0</td>\n",
              "      <td>0.0</td>\n",
              "    </tr>\n",
              "    <tr>\n",
              "      <th>3</th>\n",
              "      <td>11</td>\n",
              "      <td>1472500.0</td>\n",
              "      <td>23</td>\n",
              "      <td>9</td>\n",
              "      <td>6</td>\n",
              "      <td>0 days 00:00:00</td>\n",
              "      <td>0</td>\n",
              "      <td>0</td>\n",
              "      <td>0.0</td>\n",
              "    </tr>\n",
              "    <tr>\n",
              "      <th>4</th>\n",
              "      <td>11</td>\n",
              "      <td>549000.0</td>\n",
              "      <td>3</td>\n",
              "      <td>3</td>\n",
              "      <td>6</td>\n",
              "      <td>0 days 00:36:04.004000</td>\n",
              "      <td>0</td>\n",
              "      <td>0</td>\n",
              "      <td>0.0</td>\n",
              "    </tr>\n",
              "    <tr>\n",
              "      <th>5</th>\n",
              "      <td>11</td>\n",
              "      <td>116000.0</td>\n",
              "      <td>1</td>\n",
              "      <td>1</td>\n",
              "      <td>6</td>\n",
              "      <td>0 days 01:18:14.269000</td>\n",
              "      <td>0</td>\n",
              "      <td>0</td>\n",
              "      <td>0.0</td>\n",
              "    </tr>\n",
              "    <tr>\n",
              "      <th>...</th>\n",
              "      <td>...</td>\n",
              "      <td>...</td>\n",
              "      <td>...</td>\n",
              "      <td>...</td>\n",
              "      <td>...</td>\n",
              "      <td>...</td>\n",
              "      <td>...</td>\n",
              "      <td>...</td>\n",
              "      <td>...</td>\n",
              "    </tr>\n",
              "    <tr>\n",
              "      <th>30019</th>\n",
              "      <td>190</td>\n",
              "      <td>925000.0</td>\n",
              "      <td>7</td>\n",
              "      <td>3</td>\n",
              "      <td>18</td>\n",
              "      <td>0 days 00:19:09.405000</td>\n",
              "      <td>0</td>\n",
              "      <td>8</td>\n",
              "      <td>0.0</td>\n",
              "    </tr>\n",
              "    <tr>\n",
              "      <th>30020</th>\n",
              "      <td>46</td>\n",
              "      <td>243000.0</td>\n",
              "      <td>3</td>\n",
              "      <td>2</td>\n",
              "      <td>18</td>\n",
              "      <td>3 days 08:30:27.796000</td>\n",
              "      <td>0</td>\n",
              "      <td>9</td>\n",
              "      <td>3.0</td>\n",
              "    </tr>\n",
              "    <tr>\n",
              "      <th>30021</th>\n",
              "      <td>190</td>\n",
              "      <td>617000.0</td>\n",
              "      <td>7</td>\n",
              "      <td>4</td>\n",
              "      <td>18</td>\n",
              "      <td>0 days 00:11:32.835000</td>\n",
              "      <td>0</td>\n",
              "      <td>8</td>\n",
              "      <td>0.0</td>\n",
              "    </tr>\n",
              "    <tr>\n",
              "      <th>30022</th>\n",
              "      <td>206</td>\n",
              "      <td>10627000.0</td>\n",
              "      <td>59</td>\n",
              "      <td>22</td>\n",
              "      <td>18</td>\n",
              "      <td>1 days 00:15:58.007000</td>\n",
              "      <td>0</td>\n",
              "      <td>8</td>\n",
              "      <td>1.0</td>\n",
              "    </tr>\n",
              "    <tr>\n",
              "      <th>30023</th>\n",
              "      <td>190</td>\n",
              "      <td>4034000.0</td>\n",
              "      <td>9</td>\n",
              "      <td>5</td>\n",
              "      <td>18</td>\n",
              "      <td>0 days 00:16:52.733000</td>\n",
              "      <td>0</td>\n",
              "      <td>8</td>\n",
              "      <td>0.0</td>\n",
              "    </tr>\n",
              "  </tbody>\n",
              "</table>\n",
              "<p>30012 rows × 9 columns</p>\n",
              "</div>"
            ],
            "text/plain": [
              "          merchant_id  total_spent  quantity_purchased  num_skus  month  \\\n",
              "order_id                                                                  \n",
              "1                   9    1541000.0                   6         4      6   \n",
              "2                  10     185500.0                  10         2      6   \n",
              "3                  11    1472500.0                  23         9      6   \n",
              "4                  11     549000.0                   3         3      6   \n",
              "5                  11     116000.0                   1         1      6   \n",
              "...               ...          ...                 ...       ...    ...   \n",
              "30019             190     925000.0                   7         3     18   \n",
              "30020              46     243000.0                   3         2     18   \n",
              "30021             190     617000.0                   7         4     18   \n",
              "30022             206   10627000.0                  59        22     18   \n",
              "30023             190    4034000.0                   9         5     18   \n",
              "\n",
              "                          since  churner  c_tenure  days_since  \n",
              "order_id                                                        \n",
              "1               0 days 00:00:00        0         0         0.0  \n",
              "2               0 days 00:00:00        1         0         0.0  \n",
              "3               0 days 00:00:00        0         0         0.0  \n",
              "4        0 days 00:36:04.004000        0         0         0.0  \n",
              "5        0 days 01:18:14.269000        0         0         0.0  \n",
              "...                         ...      ...       ...         ...  \n",
              "30019    0 days 00:19:09.405000        0         8         0.0  \n",
              "30020    3 days 08:30:27.796000        0         9         3.0  \n",
              "30021    0 days 00:11:32.835000        0         8         0.0  \n",
              "30022    1 days 00:15:58.007000        0         8         1.0  \n",
              "30023    0 days 00:16:52.733000        0         8         0.0  \n",
              "\n",
              "[30012 rows x 9 columns]"
            ]
          },
          "execution_count": 36,
          "metadata": {},
          "output_type": "execute_result"
        }
      ],
      "source": [
        "df"
      ]
    },
    {
      "cell_type": "code",
      "execution_count": 37,
      "metadata": {
        "colab": {
          "base_uri": "https://localhost:8080/",
          "height": 424
        },
        "id": "uMnWE9RILUer",
        "outputId": "8b1e8b3b-3a24-41cd-8851-ab37b241dec5"
      },
      "outputs": [
        {
          "data": {
            "text/html": [
              "<div>\n",
              "<style scoped>\n",
              "    .dataframe tbody tr th:only-of-type {\n",
              "        vertical-align: middle;\n",
              "    }\n",
              "\n",
              "    .dataframe tbody tr th {\n",
              "        vertical-align: top;\n",
              "    }\n",
              "\n",
              "    .dataframe thead th {\n",
              "        text-align: right;\n",
              "    }\n",
              "</style>\n",
              "<table border=\"1\" class=\"dataframe\">\n",
              "  <thead>\n",
              "    <tr style=\"text-align: right;\">\n",
              "      <th></th>\n",
              "      <th>order_id</th>\n",
              "      <th>merchant_id</th>\n",
              "      <th>total_spent</th>\n",
              "      <th>quantity_purchased</th>\n",
              "      <th>num_skus</th>\n",
              "      <th>month</th>\n",
              "      <th>since</th>\n",
              "      <th>churner</th>\n",
              "      <th>c_tenure</th>\n",
              "      <th>days_since</th>\n",
              "    </tr>\n",
              "  </thead>\n",
              "  <tbody>\n",
              "    <tr>\n",
              "      <th>0</th>\n",
              "      <td>1</td>\n",
              "      <td>9</td>\n",
              "      <td>1541000.0</td>\n",
              "      <td>6</td>\n",
              "      <td>4</td>\n",
              "      <td>6</td>\n",
              "      <td>0 days 00:00:00</td>\n",
              "      <td>0</td>\n",
              "      <td>0</td>\n",
              "      <td>0.0</td>\n",
              "    </tr>\n",
              "    <tr>\n",
              "      <th>1</th>\n",
              "      <td>2</td>\n",
              "      <td>10</td>\n",
              "      <td>185500.0</td>\n",
              "      <td>10</td>\n",
              "      <td>2</td>\n",
              "      <td>6</td>\n",
              "      <td>0 days 00:00:00</td>\n",
              "      <td>1</td>\n",
              "      <td>0</td>\n",
              "      <td>0.0</td>\n",
              "    </tr>\n",
              "    <tr>\n",
              "      <th>2</th>\n",
              "      <td>3</td>\n",
              "      <td>11</td>\n",
              "      <td>1472500.0</td>\n",
              "      <td>23</td>\n",
              "      <td>9</td>\n",
              "      <td>6</td>\n",
              "      <td>0 days 00:00:00</td>\n",
              "      <td>0</td>\n",
              "      <td>0</td>\n",
              "      <td>0.0</td>\n",
              "    </tr>\n",
              "    <tr>\n",
              "      <th>3</th>\n",
              "      <td>4</td>\n",
              "      <td>11</td>\n",
              "      <td>549000.0</td>\n",
              "      <td>3</td>\n",
              "      <td>3</td>\n",
              "      <td>6</td>\n",
              "      <td>0 days 00:36:04.004000</td>\n",
              "      <td>0</td>\n",
              "      <td>0</td>\n",
              "      <td>0.0</td>\n",
              "    </tr>\n",
              "    <tr>\n",
              "      <th>4</th>\n",
              "      <td>5</td>\n",
              "      <td>11</td>\n",
              "      <td>116000.0</td>\n",
              "      <td>1</td>\n",
              "      <td>1</td>\n",
              "      <td>6</td>\n",
              "      <td>0 days 01:18:14.269000</td>\n",
              "      <td>0</td>\n",
              "      <td>0</td>\n",
              "      <td>0.0</td>\n",
              "    </tr>\n",
              "    <tr>\n",
              "      <th>...</th>\n",
              "      <td>...</td>\n",
              "      <td>...</td>\n",
              "      <td>...</td>\n",
              "      <td>...</td>\n",
              "      <td>...</td>\n",
              "      <td>...</td>\n",
              "      <td>...</td>\n",
              "      <td>...</td>\n",
              "      <td>...</td>\n",
              "      <td>...</td>\n",
              "    </tr>\n",
              "    <tr>\n",
              "      <th>30007</th>\n",
              "      <td>30019</td>\n",
              "      <td>190</td>\n",
              "      <td>925000.0</td>\n",
              "      <td>7</td>\n",
              "      <td>3</td>\n",
              "      <td>18</td>\n",
              "      <td>0 days 00:19:09.405000</td>\n",
              "      <td>0</td>\n",
              "      <td>8</td>\n",
              "      <td>0.0</td>\n",
              "    </tr>\n",
              "    <tr>\n",
              "      <th>30008</th>\n",
              "      <td>30020</td>\n",
              "      <td>46</td>\n",
              "      <td>243000.0</td>\n",
              "      <td>3</td>\n",
              "      <td>2</td>\n",
              "      <td>18</td>\n",
              "      <td>3 days 08:30:27.796000</td>\n",
              "      <td>0</td>\n",
              "      <td>9</td>\n",
              "      <td>3.0</td>\n",
              "    </tr>\n",
              "    <tr>\n",
              "      <th>30009</th>\n",
              "      <td>30021</td>\n",
              "      <td>190</td>\n",
              "      <td>617000.0</td>\n",
              "      <td>7</td>\n",
              "      <td>4</td>\n",
              "      <td>18</td>\n",
              "      <td>0 days 00:11:32.835000</td>\n",
              "      <td>0</td>\n",
              "      <td>8</td>\n",
              "      <td>0.0</td>\n",
              "    </tr>\n",
              "    <tr>\n",
              "      <th>30010</th>\n",
              "      <td>30022</td>\n",
              "      <td>206</td>\n",
              "      <td>10627000.0</td>\n",
              "      <td>59</td>\n",
              "      <td>22</td>\n",
              "      <td>18</td>\n",
              "      <td>1 days 00:15:58.007000</td>\n",
              "      <td>0</td>\n",
              "      <td>8</td>\n",
              "      <td>1.0</td>\n",
              "    </tr>\n",
              "    <tr>\n",
              "      <th>30011</th>\n",
              "      <td>30023</td>\n",
              "      <td>190</td>\n",
              "      <td>4034000.0</td>\n",
              "      <td>9</td>\n",
              "      <td>5</td>\n",
              "      <td>18</td>\n",
              "      <td>0 days 00:16:52.733000</td>\n",
              "      <td>0</td>\n",
              "      <td>8</td>\n",
              "      <td>0.0</td>\n",
              "    </tr>\n",
              "  </tbody>\n",
              "</table>\n",
              "<p>30012 rows × 10 columns</p>\n",
              "</div>"
            ],
            "text/plain": [
              "       order_id  merchant_id  total_spent  quantity_purchased  num_skus  \\\n",
              "0             1            9    1541000.0                   6         4   \n",
              "1             2           10     185500.0                  10         2   \n",
              "2             3           11    1472500.0                  23         9   \n",
              "3             4           11     549000.0                   3         3   \n",
              "4             5           11     116000.0                   1         1   \n",
              "...         ...          ...          ...                 ...       ...   \n",
              "30007     30019          190     925000.0                   7         3   \n",
              "30008     30020           46     243000.0                   3         2   \n",
              "30009     30021          190     617000.0                   7         4   \n",
              "30010     30022          206   10627000.0                  59        22   \n",
              "30011     30023          190    4034000.0                   9         5   \n",
              "\n",
              "       month                  since  churner  c_tenure  days_since  \n",
              "0          6        0 days 00:00:00        0         0         0.0  \n",
              "1          6        0 days 00:00:00        1         0         0.0  \n",
              "2          6        0 days 00:00:00        0         0         0.0  \n",
              "3          6 0 days 00:36:04.004000        0         0         0.0  \n",
              "4          6 0 days 01:18:14.269000        0         0         0.0  \n",
              "...      ...                    ...      ...       ...         ...  \n",
              "30007     18 0 days 00:19:09.405000        0         8         0.0  \n",
              "30008     18 3 days 08:30:27.796000        0         9         3.0  \n",
              "30009     18 0 days 00:11:32.835000        0         8         0.0  \n",
              "30010     18 1 days 00:15:58.007000        0         8         1.0  \n",
              "30011     18 0 days 00:16:52.733000        0         8         0.0  \n",
              "\n",
              "[30012 rows x 10 columns]"
            ]
          },
          "execution_count": 37,
          "metadata": {},
          "output_type": "execute_result"
        }
      ],
      "source": [
        "df_save"
      ]
    },
    {
      "cell_type": "code",
      "execution_count": 38,
      "metadata": {
        "id": "xKXXImAqoOuV"
      },
      "outputs": [],
      "source": [
        "df2 = prep_days_since(df2)"
      ]
    },
    {
      "cell_type": "code",
      "execution_count": 39,
      "metadata": {
        "colab": {
          "base_uri": "https://localhost:8080/",
          "height": 424
        },
        "id": "d52iga9IhLlC",
        "outputId": "0518bc9d-1899-435a-8dbb-f748136a2eab"
      },
      "outputs": [
        {
          "data": {
            "text/html": [
              "<div>\n",
              "<style scoped>\n",
              "    .dataframe tbody tr th:only-of-type {\n",
              "        vertical-align: middle;\n",
              "    }\n",
              "\n",
              "    .dataframe tbody tr th {\n",
              "        vertical-align: top;\n",
              "    }\n",
              "\n",
              "    .dataframe thead th {\n",
              "        text-align: right;\n",
              "    }\n",
              "</style>\n",
              "<table border=\"1\" class=\"dataframe\">\n",
              "  <thead>\n",
              "    <tr style=\"text-align: right;\">\n",
              "      <th></th>\n",
              "      <th>order_id</th>\n",
              "      <th>merchant_id</th>\n",
              "      <th>total_spent</th>\n",
              "      <th>quantity_purchased</th>\n",
              "      <th>num_skus</th>\n",
              "      <th>month</th>\n",
              "      <th>since</th>\n",
              "      <th>churner</th>\n",
              "      <th>c_tenure</th>\n",
              "      <th>days_since</th>\n",
              "    </tr>\n",
              "  </thead>\n",
              "  <tbody>\n",
              "    <tr>\n",
              "      <th>0</th>\n",
              "      <td>1</td>\n",
              "      <td>58</td>\n",
              "      <td>16921950.0</td>\n",
              "      <td>394</td>\n",
              "      <td>44</td>\n",
              "      <td>18</td>\n",
              "      <td>181 days 04:40:25.142000</td>\n",
              "      <td>1</td>\n",
              "      <td>6</td>\n",
              "      <td>181.0</td>\n",
              "    </tr>\n",
              "    <tr>\n",
              "      <th>1</th>\n",
              "      <td>2</td>\n",
              "      <td>46</td>\n",
              "      <td>414270000.0</td>\n",
              "      <td>2380</td>\n",
              "      <td>8</td>\n",
              "      <td>4</td>\n",
              "      <td>0 days 00:00:00</td>\n",
              "      <td>1</td>\n",
              "      <td>0</td>\n",
              "      <td>0.0</td>\n",
              "    </tr>\n",
              "    <tr>\n",
              "      <th>2</th>\n",
              "      <td>3</td>\n",
              "      <td>61</td>\n",
              "      <td>415100000.0</td>\n",
              "      <td>2300</td>\n",
              "      <td>7</td>\n",
              "      <td>4</td>\n",
              "      <td>0 days 00:00:00</td>\n",
              "      <td>1</td>\n",
              "      <td>0</td>\n",
              "      <td>0.0</td>\n",
              "    </tr>\n",
              "    <tr>\n",
              "      <th>3</th>\n",
              "      <td>4</td>\n",
              "      <td>80</td>\n",
              "      <td>473650000.0</td>\n",
              "      <td>2650</td>\n",
              "      <td>8</td>\n",
              "      <td>4</td>\n",
              "      <td>0 days 00:00:00</td>\n",
              "      <td>1</td>\n",
              "      <td>0</td>\n",
              "      <td>0.0</td>\n",
              "    </tr>\n",
              "    <tr>\n",
              "      <th>4</th>\n",
              "      <td>5</td>\n",
              "      <td>36</td>\n",
              "      <td>380900000.0</td>\n",
              "      <td>2000</td>\n",
              "      <td>7</td>\n",
              "      <td>4</td>\n",
              "      <td>0 days 00:00:00</td>\n",
              "      <td>1</td>\n",
              "      <td>0</td>\n",
              "      <td>0.0</td>\n",
              "    </tr>\n",
              "    <tr>\n",
              "      <th>...</th>\n",
              "      <td>...</td>\n",
              "      <td>...</td>\n",
              "      <td>...</td>\n",
              "      <td>...</td>\n",
              "      <td>...</td>\n",
              "      <td>...</td>\n",
              "      <td>...</td>\n",
              "      <td>...</td>\n",
              "      <td>...</td>\n",
              "      <td>...</td>\n",
              "    </tr>\n",
              "    <tr>\n",
              "      <th>57481</th>\n",
              "      <td>57647</td>\n",
              "      <td>76</td>\n",
              "      <td>830500.0</td>\n",
              "      <td>23</td>\n",
              "      <td>5</td>\n",
              "      <td>18</td>\n",
              "      <td>1 days 02:57:57.525000</td>\n",
              "      <td>0</td>\n",
              "      <td>0</td>\n",
              "      <td>1.0</td>\n",
              "    </tr>\n",
              "    <tr>\n",
              "      <th>57482</th>\n",
              "      <td>57649</td>\n",
              "      <td>1587</td>\n",
              "      <td>981500.0</td>\n",
              "      <td>9</td>\n",
              "      <td>5</td>\n",
              "      <td>18</td>\n",
              "      <td>0 days 00:06:13.870000</td>\n",
              "      <td>1</td>\n",
              "      <td>6</td>\n",
              "      <td>0.0</td>\n",
              "    </tr>\n",
              "    <tr>\n",
              "      <th>57483</th>\n",
              "      <td>57653</td>\n",
              "      <td>1961</td>\n",
              "      <td>1147400.0</td>\n",
              "      <td>67</td>\n",
              "      <td>4</td>\n",
              "      <td>18</td>\n",
              "      <td>0 days 22:22:31.521000</td>\n",
              "      <td>0</td>\n",
              "      <td>3</td>\n",
              "      <td>0.0</td>\n",
              "    </tr>\n",
              "    <tr>\n",
              "      <th>57484</th>\n",
              "      <td>57655</td>\n",
              "      <td>2112</td>\n",
              "      <td>124500.0</td>\n",
              "      <td>1</td>\n",
              "      <td>1</td>\n",
              "      <td>18</td>\n",
              "      <td>0 days 00:03:27.197000</td>\n",
              "      <td>0</td>\n",
              "      <td>0</td>\n",
              "      <td>0.0</td>\n",
              "    </tr>\n",
              "    <tr>\n",
              "      <th>57485</th>\n",
              "      <td>57656</td>\n",
              "      <td>2112</td>\n",
              "      <td>77500.0</td>\n",
              "      <td>5</td>\n",
              "      <td>1</td>\n",
              "      <td>18</td>\n",
              "      <td>0 days 00:01:48.013000</td>\n",
              "      <td>0</td>\n",
              "      <td>0</td>\n",
              "      <td>0.0</td>\n",
              "    </tr>\n",
              "  </tbody>\n",
              "</table>\n",
              "<p>57486 rows × 10 columns</p>\n",
              "</div>"
            ],
            "text/plain": [
              "       order_id  merchant_id  total_spent  quantity_purchased  num_skus  \\\n",
              "0             1           58   16921950.0                 394        44   \n",
              "1             2           46  414270000.0                2380         8   \n",
              "2             3           61  415100000.0                2300         7   \n",
              "3             4           80  473650000.0                2650         8   \n",
              "4             5           36  380900000.0                2000         7   \n",
              "...         ...          ...          ...                 ...       ...   \n",
              "57481     57647           76     830500.0                  23         5   \n",
              "57482     57649         1587     981500.0                   9         5   \n",
              "57483     57653         1961    1147400.0                  67         4   \n",
              "57484     57655         2112     124500.0                   1         1   \n",
              "57485     57656         2112      77500.0                   5         1   \n",
              "\n",
              "       month                    since  churner  c_tenure  days_since  \n",
              "0         18 181 days 04:40:25.142000        1         6       181.0  \n",
              "1          4          0 days 00:00:00        1         0         0.0  \n",
              "2          4          0 days 00:00:00        1         0         0.0  \n",
              "3          4          0 days 00:00:00        1         0         0.0  \n",
              "4          4          0 days 00:00:00        1         0         0.0  \n",
              "...      ...                      ...      ...       ...         ...  \n",
              "57481     18   1 days 02:57:57.525000        0         0         1.0  \n",
              "57482     18   0 days 00:06:13.870000        1         6         0.0  \n",
              "57483     18   0 days 22:22:31.521000        0         3         0.0  \n",
              "57484     18   0 days 00:03:27.197000        0         0         0.0  \n",
              "57485     18   0 days 00:01:48.013000        0         0         0.0  \n",
              "\n",
              "[57486 rows x 10 columns]"
            ]
          },
          "execution_count": 39,
          "metadata": {},
          "output_type": "execute_result"
        }
      ],
      "source": [
        "df2"
      ]
    },
    {
      "cell_type": "markdown",
      "metadata": {
        "id": "EDEM6zetToUh"
      },
      "source": [
        "We split the dataframe into train and test partitions."
      ]
    },
    {
      "cell_type": "code",
      "execution_count": 40,
      "metadata": {
        "colab": {
          "base_uri": "https://localhost:8080/",
          "height": 455
        },
        "id": "ugetQGhaLbcV",
        "outputId": "81c86fa9-e7e5-4fc7-fa4f-12c2121fb863"
      },
      "outputs": [
        {
          "data": {
            "text/html": [
              "<div>\n",
              "<style scoped>\n",
              "    .dataframe tbody tr th:only-of-type {\n",
              "        vertical-align: middle;\n",
              "    }\n",
              "\n",
              "    .dataframe tbody tr th {\n",
              "        vertical-align: top;\n",
              "    }\n",
              "\n",
              "    .dataframe thead th {\n",
              "        text-align: right;\n",
              "    }\n",
              "</style>\n",
              "<table border=\"1\" class=\"dataframe\">\n",
              "  <thead>\n",
              "    <tr style=\"text-align: right;\">\n",
              "      <th></th>\n",
              "      <th>merchant_id</th>\n",
              "      <th>total_spent</th>\n",
              "      <th>quantity_purchased</th>\n",
              "      <th>num_skus</th>\n",
              "      <th>month</th>\n",
              "      <th>since</th>\n",
              "      <th>churner</th>\n",
              "      <th>c_tenure</th>\n",
              "      <th>days_since</th>\n",
              "    </tr>\n",
              "    <tr>\n",
              "      <th>order_id</th>\n",
              "      <th></th>\n",
              "      <th></th>\n",
              "      <th></th>\n",
              "      <th></th>\n",
              "      <th></th>\n",
              "      <th></th>\n",
              "      <th></th>\n",
              "      <th></th>\n",
              "      <th></th>\n",
              "    </tr>\n",
              "  </thead>\n",
              "  <tbody>\n",
              "    <tr>\n",
              "      <th>10600</th>\n",
              "      <td>59</td>\n",
              "      <td>542000.0</td>\n",
              "      <td>6</td>\n",
              "      <td>6</td>\n",
              "      <td>12</td>\n",
              "      <td>0 days 00:16:13.324000</td>\n",
              "      <td>0</td>\n",
              "      <td>3</td>\n",
              "      <td>0.0</td>\n",
              "    </tr>\n",
              "    <tr>\n",
              "      <th>20252</th>\n",
              "      <td>76</td>\n",
              "      <td>3064000.0</td>\n",
              "      <td>12</td>\n",
              "      <td>12</td>\n",
              "      <td>15</td>\n",
              "      <td>1 days 23:33:13.091000</td>\n",
              "      <td>0</td>\n",
              "      <td>5</td>\n",
              "      <td>1.0</td>\n",
              "    </tr>\n",
              "    <tr>\n",
              "      <th>29567</th>\n",
              "      <td>62</td>\n",
              "      <td>6297500.0</td>\n",
              "      <td>38</td>\n",
              "      <td>23</td>\n",
              "      <td>18</td>\n",
              "      <td>3 days 00:02:37.029000</td>\n",
              "      <td>0</td>\n",
              "      <td>9</td>\n",
              "      <td>3.0</td>\n",
              "    </tr>\n",
              "    <tr>\n",
              "      <th>28535</th>\n",
              "      <td>180</td>\n",
              "      <td>3821000.0</td>\n",
              "      <td>36</td>\n",
              "      <td>26</td>\n",
              "      <td>18</td>\n",
              "      <td>0 days 22:27:54.197000</td>\n",
              "      <td>0</td>\n",
              "      <td>8</td>\n",
              "      <td>0.0</td>\n",
              "    </tr>\n",
              "    <tr>\n",
              "      <th>11379</th>\n",
              "      <td>206</td>\n",
              "      <td>12020000.0</td>\n",
              "      <td>42</td>\n",
              "      <td>6</td>\n",
              "      <td>13</td>\n",
              "      <td>1 days 01:37:17.488000</td>\n",
              "      <td>0</td>\n",
              "      <td>3</td>\n",
              "      <td>1.0</td>\n",
              "    </tr>\n",
              "    <tr>\n",
              "      <th>...</th>\n",
              "      <td>...</td>\n",
              "      <td>...</td>\n",
              "      <td>...</td>\n",
              "      <td>...</td>\n",
              "      <td>...</td>\n",
              "      <td>...</td>\n",
              "      <td>...</td>\n",
              "      <td>...</td>\n",
              "      <td>...</td>\n",
              "    </tr>\n",
              "    <tr>\n",
              "      <th>7195</th>\n",
              "      <td>94</td>\n",
              "      <td>873000.0</td>\n",
              "      <td>14</td>\n",
              "      <td>8</td>\n",
              "      <td>11</td>\n",
              "      <td>2 days 00:46:58.501000</td>\n",
              "      <td>0</td>\n",
              "      <td>1</td>\n",
              "      <td>2.0</td>\n",
              "    </tr>\n",
              "    <tr>\n",
              "      <th>29848</th>\n",
              "      <td>190</td>\n",
              "      <td>245500.0</td>\n",
              "      <td>32</td>\n",
              "      <td>5</td>\n",
              "      <td>18</td>\n",
              "      <td>0 days 00:02:29.812000</td>\n",
              "      <td>0</td>\n",
              "      <td>8</td>\n",
              "      <td>0.0</td>\n",
              "    </tr>\n",
              "    <tr>\n",
              "      <th>6715</th>\n",
              "      <td>190</td>\n",
              "      <td>566000.0</td>\n",
              "      <td>8</td>\n",
              "      <td>4</td>\n",
              "      <td>11</td>\n",
              "      <td>0 days 00:26:20.910000</td>\n",
              "      <td>0</td>\n",
              "      <td>1</td>\n",
              "      <td>0.0</td>\n",
              "    </tr>\n",
              "    <tr>\n",
              "      <th>12243</th>\n",
              "      <td>45</td>\n",
              "      <td>1768000.0</td>\n",
              "      <td>10</td>\n",
              "      <td>8</td>\n",
              "      <td>13</td>\n",
              "      <td>2 days 00:17:22.701000</td>\n",
              "      <td>0</td>\n",
              "      <td>4</td>\n",
              "      <td>2.0</td>\n",
              "    </tr>\n",
              "    <tr>\n",
              "      <th>5032</th>\n",
              "      <td>120</td>\n",
              "      <td>1126000.0</td>\n",
              "      <td>20</td>\n",
              "      <td>8</td>\n",
              "      <td>10</td>\n",
              "      <td>4 days 00:20:38.599000</td>\n",
              "      <td>0</td>\n",
              "      <td>0</td>\n",
              "      <td>4.0</td>\n",
              "    </tr>\n",
              "  </tbody>\n",
              "</table>\n",
              "<p>24009 rows × 9 columns</p>\n",
              "</div>"
            ],
            "text/plain": [
              "          merchant_id  total_spent  quantity_purchased  num_skus  month  \\\n",
              "order_id                                                                  \n",
              "10600              59     542000.0                   6         6     12   \n",
              "20252              76    3064000.0                  12        12     15   \n",
              "29567              62    6297500.0                  38        23     18   \n",
              "28535             180    3821000.0                  36        26     18   \n",
              "11379             206   12020000.0                  42         6     13   \n",
              "...               ...          ...                 ...       ...    ...   \n",
              "7195               94     873000.0                  14         8     11   \n",
              "29848             190     245500.0                  32         5     18   \n",
              "6715              190     566000.0                   8         4     11   \n",
              "12243              45    1768000.0                  10         8     13   \n",
              "5032              120    1126000.0                  20         8     10   \n",
              "\n",
              "                          since  churner  c_tenure  days_since  \n",
              "order_id                                                        \n",
              "10600    0 days 00:16:13.324000        0         3         0.0  \n",
              "20252    1 days 23:33:13.091000        0         5         1.0  \n",
              "29567    3 days 00:02:37.029000        0         9         3.0  \n",
              "28535    0 days 22:27:54.197000        0         8         0.0  \n",
              "11379    1 days 01:37:17.488000        0         3         1.0  \n",
              "...                         ...      ...       ...         ...  \n",
              "7195     2 days 00:46:58.501000        0         1         2.0  \n",
              "29848    0 days 00:02:29.812000        0         8         0.0  \n",
              "6715     0 days 00:26:20.910000        0         1         0.0  \n",
              "12243    2 days 00:17:22.701000        0         4         2.0  \n",
              "5032     4 days 00:20:38.599000        0         0         4.0  \n",
              "\n",
              "[24009 rows x 9 columns]"
            ]
          },
          "execution_count": 40,
          "metadata": {},
          "output_type": "execute_result"
        }
      ],
      "source": [
        "train, test,= train_test_split(df, test_size=0.2)\n",
        "train"
      ]
    },
    {
      "cell_type": "markdown",
      "metadata": {
        "id": "bZME7uj-MWLv"
      },
      "source": [
        "# Logistic Regression aggregated around order ID"
      ]
    },
    {
      "cell_type": "markdown",
      "metadata": {
        "id": "HkyEi28MX-vf"
      },
      "source": [
        "We drop nonregressor variables from the dataframe."
      ]
    },
    {
      "cell_type": "code",
      "execution_count": 41,
      "metadata": {
        "id": "Y5Goq9hoQXmD"
      },
      "outputs": [],
      "source": [
        "regressiondata = train.drop(columns = ['merchant_id', 'since'])"
      ]
    },
    {
      "cell_type": "code",
      "execution_count": 42,
      "metadata": {
        "colab": {
          "base_uri": "https://localhost:8080/",
          "height": 455
        },
        "id": "WpTc4YTwRyMe",
        "outputId": "9b35e736-1093-4296-c792-b1cb3a06c711"
      },
      "outputs": [
        {
          "data": {
            "text/html": [
              "<div>\n",
              "<style scoped>\n",
              "    .dataframe tbody tr th:only-of-type {\n",
              "        vertical-align: middle;\n",
              "    }\n",
              "\n",
              "    .dataframe tbody tr th {\n",
              "        vertical-align: top;\n",
              "    }\n",
              "\n",
              "    .dataframe thead th {\n",
              "        text-align: right;\n",
              "    }\n",
              "</style>\n",
              "<table border=\"1\" class=\"dataframe\">\n",
              "  <thead>\n",
              "    <tr style=\"text-align: right;\">\n",
              "      <th></th>\n",
              "      <th>total_spent</th>\n",
              "      <th>quantity_purchased</th>\n",
              "      <th>num_skus</th>\n",
              "      <th>month</th>\n",
              "      <th>churner</th>\n",
              "      <th>c_tenure</th>\n",
              "      <th>days_since</th>\n",
              "    </tr>\n",
              "    <tr>\n",
              "      <th>order_id</th>\n",
              "      <th></th>\n",
              "      <th></th>\n",
              "      <th></th>\n",
              "      <th></th>\n",
              "      <th></th>\n",
              "      <th></th>\n",
              "      <th></th>\n",
              "    </tr>\n",
              "  </thead>\n",
              "  <tbody>\n",
              "    <tr>\n",
              "      <th>10600</th>\n",
              "      <td>542000.0</td>\n",
              "      <td>6</td>\n",
              "      <td>6</td>\n",
              "      <td>12</td>\n",
              "      <td>0</td>\n",
              "      <td>3</td>\n",
              "      <td>0.0</td>\n",
              "    </tr>\n",
              "    <tr>\n",
              "      <th>20252</th>\n",
              "      <td>3064000.0</td>\n",
              "      <td>12</td>\n",
              "      <td>12</td>\n",
              "      <td>15</td>\n",
              "      <td>0</td>\n",
              "      <td>5</td>\n",
              "      <td>1.0</td>\n",
              "    </tr>\n",
              "    <tr>\n",
              "      <th>29567</th>\n",
              "      <td>6297500.0</td>\n",
              "      <td>38</td>\n",
              "      <td>23</td>\n",
              "      <td>18</td>\n",
              "      <td>0</td>\n",
              "      <td>9</td>\n",
              "      <td>3.0</td>\n",
              "    </tr>\n",
              "    <tr>\n",
              "      <th>28535</th>\n",
              "      <td>3821000.0</td>\n",
              "      <td>36</td>\n",
              "      <td>26</td>\n",
              "      <td>18</td>\n",
              "      <td>0</td>\n",
              "      <td>8</td>\n",
              "      <td>0.0</td>\n",
              "    </tr>\n",
              "    <tr>\n",
              "      <th>11379</th>\n",
              "      <td>12020000.0</td>\n",
              "      <td>42</td>\n",
              "      <td>6</td>\n",
              "      <td>13</td>\n",
              "      <td>0</td>\n",
              "      <td>3</td>\n",
              "      <td>1.0</td>\n",
              "    </tr>\n",
              "    <tr>\n",
              "      <th>...</th>\n",
              "      <td>...</td>\n",
              "      <td>...</td>\n",
              "      <td>...</td>\n",
              "      <td>...</td>\n",
              "      <td>...</td>\n",
              "      <td>...</td>\n",
              "      <td>...</td>\n",
              "    </tr>\n",
              "    <tr>\n",
              "      <th>7195</th>\n",
              "      <td>873000.0</td>\n",
              "      <td>14</td>\n",
              "      <td>8</td>\n",
              "      <td>11</td>\n",
              "      <td>0</td>\n",
              "      <td>1</td>\n",
              "      <td>2.0</td>\n",
              "    </tr>\n",
              "    <tr>\n",
              "      <th>29848</th>\n",
              "      <td>245500.0</td>\n",
              "      <td>32</td>\n",
              "      <td>5</td>\n",
              "      <td>18</td>\n",
              "      <td>0</td>\n",
              "      <td>8</td>\n",
              "      <td>0.0</td>\n",
              "    </tr>\n",
              "    <tr>\n",
              "      <th>6715</th>\n",
              "      <td>566000.0</td>\n",
              "      <td>8</td>\n",
              "      <td>4</td>\n",
              "      <td>11</td>\n",
              "      <td>0</td>\n",
              "      <td>1</td>\n",
              "      <td>0.0</td>\n",
              "    </tr>\n",
              "    <tr>\n",
              "      <th>12243</th>\n",
              "      <td>1768000.0</td>\n",
              "      <td>10</td>\n",
              "      <td>8</td>\n",
              "      <td>13</td>\n",
              "      <td>0</td>\n",
              "      <td>4</td>\n",
              "      <td>2.0</td>\n",
              "    </tr>\n",
              "    <tr>\n",
              "      <th>5032</th>\n",
              "      <td>1126000.0</td>\n",
              "      <td>20</td>\n",
              "      <td>8</td>\n",
              "      <td>10</td>\n",
              "      <td>0</td>\n",
              "      <td>0</td>\n",
              "      <td>4.0</td>\n",
              "    </tr>\n",
              "  </tbody>\n",
              "</table>\n",
              "<p>24009 rows × 7 columns</p>\n",
              "</div>"
            ],
            "text/plain": [
              "          total_spent  quantity_purchased  num_skus  month  churner  c_tenure  \\\n",
              "order_id                                                                        \n",
              "10600        542000.0                   6         6     12        0         3   \n",
              "20252       3064000.0                  12        12     15        0         5   \n",
              "29567       6297500.0                  38        23     18        0         9   \n",
              "28535       3821000.0                  36        26     18        0         8   \n",
              "11379      12020000.0                  42         6     13        0         3   \n",
              "...               ...                 ...       ...    ...      ...       ...   \n",
              "7195         873000.0                  14         8     11        0         1   \n",
              "29848        245500.0                  32         5     18        0         8   \n",
              "6715         566000.0                   8         4     11        0         1   \n",
              "12243       1768000.0                  10         8     13        0         4   \n",
              "5032        1126000.0                  20         8     10        0         0   \n",
              "\n",
              "          days_since  \n",
              "order_id              \n",
              "10600            0.0  \n",
              "20252            1.0  \n",
              "29567            3.0  \n",
              "28535            0.0  \n",
              "11379            1.0  \n",
              "...              ...  \n",
              "7195             2.0  \n",
              "29848            0.0  \n",
              "6715             0.0  \n",
              "12243            2.0  \n",
              "5032             4.0  \n",
              "\n",
              "[24009 rows x 7 columns]"
            ]
          },
          "execution_count": 42,
          "metadata": {},
          "output_type": "execute_result"
        }
      ],
      "source": [
        "regressiondata"
      ]
    },
    {
      "cell_type": "code",
      "execution_count": 43,
      "metadata": {
        "colab": {
          "base_uri": "https://localhost:8080/",
          "height": 394
        },
        "id": "oPtVAlYLoord",
        "outputId": "6140c5dd-e64c-46f7-f37b-24ba80c5b1e9"
      },
      "outputs": [
        {
          "data": {
            "text/html": [
              "<div>\n",
              "<style scoped>\n",
              "    .dataframe tbody tr th:only-of-type {\n",
              "        vertical-align: middle;\n",
              "    }\n",
              "\n",
              "    .dataframe tbody tr th {\n",
              "        vertical-align: top;\n",
              "    }\n",
              "\n",
              "    .dataframe thead th {\n",
              "        text-align: right;\n",
              "    }\n",
              "</style>\n",
              "<table border=\"1\" class=\"dataframe\">\n",
              "  <thead>\n",
              "    <tr style=\"text-align: right;\">\n",
              "      <th></th>\n",
              "      <th>total_spent</th>\n",
              "      <th>quantity_purchased</th>\n",
              "      <th>num_skus</th>\n",
              "      <th>month</th>\n",
              "      <th>churner</th>\n",
              "      <th>c_tenure</th>\n",
              "      <th>days_since</th>\n",
              "    </tr>\n",
              "    <tr>\n",
              "      <th>order_id</th>\n",
              "      <th></th>\n",
              "      <th></th>\n",
              "      <th></th>\n",
              "      <th></th>\n",
              "      <th></th>\n",
              "      <th></th>\n",
              "      <th></th>\n",
              "    </tr>\n",
              "  </thead>\n",
              "  <tbody>\n",
              "    <tr>\n",
              "      <th>12554</th>\n",
              "      <td>15937000.0</td>\n",
              "      <td>42</td>\n",
              "      <td>13</td>\n",
              "      <td>13</td>\n",
              "      <td>0</td>\n",
              "      <td>2</td>\n",
              "      <td>3.0</td>\n",
              "    </tr>\n",
              "    <tr>\n",
              "      <th>26845</th>\n",
              "      <td>614500.0</td>\n",
              "      <td>5</td>\n",
              "      <td>5</td>\n",
              "      <td>18</td>\n",
              "      <td>0</td>\n",
              "      <td>8</td>\n",
              "      <td>0.0</td>\n",
              "    </tr>\n",
              "    <tr>\n",
              "      <th>12146</th>\n",
              "      <td>7804000.0</td>\n",
              "      <td>47</td>\n",
              "      <td>12</td>\n",
              "      <td>13</td>\n",
              "      <td>1</td>\n",
              "      <td>3</td>\n",
              "      <td>1.0</td>\n",
              "    </tr>\n",
              "    <tr>\n",
              "      <th>22917</th>\n",
              "      <td>1656500.0</td>\n",
              "      <td>10</td>\n",
              "      <td>9</td>\n",
              "      <td>16</td>\n",
              "      <td>0</td>\n",
              "      <td>6</td>\n",
              "      <td>0.0</td>\n",
              "    </tr>\n",
              "    <tr>\n",
              "      <th>13812</th>\n",
              "      <td>1640500.0</td>\n",
              "      <td>35</td>\n",
              "      <td>9</td>\n",
              "      <td>13</td>\n",
              "      <td>0</td>\n",
              "      <td>4</td>\n",
              "      <td>2.0</td>\n",
              "    </tr>\n",
              "    <tr>\n",
              "      <th>11886</th>\n",
              "      <td>850500.0</td>\n",
              "      <td>4</td>\n",
              "      <td>4</td>\n",
              "      <td>13</td>\n",
              "      <td>0</td>\n",
              "      <td>3</td>\n",
              "      <td>0.0</td>\n",
              "    </tr>\n",
              "    <tr>\n",
              "      <th>7875</th>\n",
              "      <td>138300.0</td>\n",
              "      <td>10</td>\n",
              "      <td>6</td>\n",
              "      <td>11</td>\n",
              "      <td>0</td>\n",
              "      <td>1</td>\n",
              "      <td>0.0</td>\n",
              "    </tr>\n",
              "    <tr>\n",
              "      <th>20630</th>\n",
              "      <td>720500.0</td>\n",
              "      <td>21</td>\n",
              "      <td>8</td>\n",
              "      <td>16</td>\n",
              "      <td>0</td>\n",
              "      <td>6</td>\n",
              "      <td>2.0</td>\n",
              "    </tr>\n",
              "    <tr>\n",
              "      <th>26727</th>\n",
              "      <td>3295000.0</td>\n",
              "      <td>19</td>\n",
              "      <td>12</td>\n",
              "      <td>18</td>\n",
              "      <td>0</td>\n",
              "      <td>6</td>\n",
              "      <td>0.0</td>\n",
              "    </tr>\n",
              "    <tr>\n",
              "      <th>13582</th>\n",
              "      <td>1152500.0</td>\n",
              "      <td>7</td>\n",
              "      <td>6</td>\n",
              "      <td>13</td>\n",
              "      <td>1</td>\n",
              "      <td>0</td>\n",
              "      <td>0.0</td>\n",
              "    </tr>\n",
              "  </tbody>\n",
              "</table>\n",
              "</div>"
            ],
            "text/plain": [
              "          total_spent  quantity_purchased  num_skus  month  churner  c_tenure  \\\n",
              "order_id                                                                        \n",
              "12554      15937000.0                  42        13     13        0         2   \n",
              "26845        614500.0                   5         5     18        0         8   \n",
              "12146       7804000.0                  47        12     13        1         3   \n",
              "22917       1656500.0                  10         9     16        0         6   \n",
              "13812       1640500.0                  35         9     13        0         4   \n",
              "11886        850500.0                   4         4     13        0         3   \n",
              "7875         138300.0                  10         6     11        0         1   \n",
              "20630        720500.0                  21         8     16        0         6   \n",
              "26727       3295000.0                  19        12     18        0         6   \n",
              "13582       1152500.0                   7         6     13        1         0   \n",
              "\n",
              "          days_since  \n",
              "order_id              \n",
              "12554            3.0  \n",
              "26845            0.0  \n",
              "12146            1.0  \n",
              "22917            0.0  \n",
              "13812            2.0  \n",
              "11886            0.0  \n",
              "7875             0.0  \n",
              "20630            2.0  \n",
              "26727            0.0  \n",
              "13582            0.0  "
            ]
          },
          "execution_count": 43,
          "metadata": {},
          "output_type": "execute_result"
        }
      ],
      "source": [
        "regressiondata.sample(10)"
      ]
    },
    {
      "cell_type": "markdown",
      "metadata": {
        "id": "s2jcE2RFO7oH"
      },
      "source": [
        "We remove missing values from the dataframe."
      ]
    },
    {
      "cell_type": "code",
      "execution_count": 44,
      "metadata": {
        "id": "WdRhJVKnWEin"
      },
      "outputs": [],
      "source": [
        "regressiondata = regressiondata.dropna()"
      ]
    },
    {
      "cell_type": "code",
      "execution_count": 45,
      "metadata": {
        "colab": {
          "base_uri": "https://localhost:8080/"
        },
        "id": "huOaob23Rh8N",
        "outputId": "da6f208a-e698-4fb5-ec83-e16168e803a5"
      },
      "outputs": [
        {
          "name": "stdout",
          "output_type": "stream",
          "text": [
            "<class 'pandas.core.frame.DataFrame'>\n",
            "Int64Index: 23998 entries, 10600 to 5032\n",
            "Data columns (total 7 columns):\n",
            " #   Column              Non-Null Count  Dtype  \n",
            "---  ------              --------------  -----  \n",
            " 0   total_spent         23998 non-null  float64\n",
            " 1   quantity_purchased  23998 non-null  int64  \n",
            " 2   num_skus            23998 non-null  int64  \n",
            " 3   month               23998 non-null  int64  \n",
            " 4   churner             23998 non-null  int64  \n",
            " 5   c_tenure            23998 non-null  int64  \n",
            " 6   days_since          23998 non-null  float64\n",
            "dtypes: float64(2), int64(5)\n",
            "memory usage: 1.5 MB\n"
          ]
        }
      ],
      "source": [
        "regressiondata.info()"
      ]
    },
    {
      "cell_type": "markdown",
      "metadata": {
        "id": "dnojSMDSO0ux"
      },
      "source": [
        "We separate the dataframe into regressors and regressand."
      ]
    },
    {
      "cell_type": "code",
      "execution_count": 46,
      "metadata": {
        "id": "phLuFSCPLHBB"
      },
      "outputs": [],
      "source": [
        "X = regressiondata.loc[:, regressiondata.columns != 'churner']\n",
        "y = regressiondata.loc[:, regressiondata.columns == 'churner']"
      ]
    },
    {
      "cell_type": "code",
      "execution_count": 47,
      "metadata": {
        "id": "7ma4cQH5FcZQ"
      },
      "outputs": [],
      "source": [
        "X = X.drop(columns = ['month'])"
      ]
    },
    {
      "cell_type": "code",
      "execution_count": 48,
      "metadata": {
        "colab": {
          "base_uri": "https://localhost:8080/"
        },
        "id": "2kJQGYe3UKSS",
        "outputId": "3d113788-2b21-4fe3-c7be-f729eed621bf"
      },
      "outputs": [
        {
          "name": "stdout",
          "output_type": "stream",
          "text": [
            "<class 'pandas.core.frame.DataFrame'>\n",
            "Int64Index: 23998 entries, 10600 to 5032\n",
            "Data columns (total 5 columns):\n",
            " #   Column              Non-Null Count  Dtype  \n",
            "---  ------              --------------  -----  \n",
            " 0   total_spent         23998 non-null  float64\n",
            " 1   quantity_purchased  23998 non-null  int64  \n",
            " 2   num_skus            23998 non-null  int64  \n",
            " 3   c_tenure            23998 non-null  int64  \n",
            " 4   days_since          23998 non-null  float64\n",
            "dtypes: float64(2), int64(3)\n",
            "memory usage: 1.1 MB\n",
            "<class 'pandas.core.frame.DataFrame'>\n",
            "Int64Index: 23998 entries, 10600 to 5032\n",
            "Data columns (total 1 columns):\n",
            " #   Column   Non-Null Count  Dtype\n",
            "---  ------   --------------  -----\n",
            " 0   churner  23998 non-null  int64\n",
            "dtypes: int64(1)\n",
            "memory usage: 375.0 KB\n"
          ]
        }
      ],
      "source": [
        "X.info()\n",
        "y.info()"
      ]
    },
    {
      "cell_type": "code",
      "execution_count": 49,
      "metadata": {
        "colab": {
          "base_uri": "https://localhost:8080/",
          "height": 394
        },
        "id": "PMB4tnf_W-qv",
        "outputId": "d118a2ef-27a1-4e1c-a8bd-9fd2597c0bc5"
      },
      "outputs": [
        {
          "data": {
            "text/html": [
              "<div>\n",
              "<style scoped>\n",
              "    .dataframe tbody tr th:only-of-type {\n",
              "        vertical-align: middle;\n",
              "    }\n",
              "\n",
              "    .dataframe tbody tr th {\n",
              "        vertical-align: top;\n",
              "    }\n",
              "\n",
              "    .dataframe thead th {\n",
              "        text-align: right;\n",
              "    }\n",
              "</style>\n",
              "<table border=\"1\" class=\"dataframe\">\n",
              "  <thead>\n",
              "    <tr style=\"text-align: right;\">\n",
              "      <th></th>\n",
              "      <th>total_spent</th>\n",
              "      <th>quantity_purchased</th>\n",
              "      <th>num_skus</th>\n",
              "      <th>c_tenure</th>\n",
              "      <th>days_since</th>\n",
              "    </tr>\n",
              "    <tr>\n",
              "      <th>order_id</th>\n",
              "      <th></th>\n",
              "      <th></th>\n",
              "      <th></th>\n",
              "      <th></th>\n",
              "      <th></th>\n",
              "    </tr>\n",
              "  </thead>\n",
              "  <tbody>\n",
              "    <tr>\n",
              "      <th>5900</th>\n",
              "      <td>494500.0</td>\n",
              "      <td>5</td>\n",
              "      <td>4</td>\n",
              "      <td>0</td>\n",
              "      <td>3.0</td>\n",
              "    </tr>\n",
              "    <tr>\n",
              "      <th>87</th>\n",
              "      <td>878000.0</td>\n",
              "      <td>71</td>\n",
              "      <td>7</td>\n",
              "      <td>0</td>\n",
              "      <td>0.0</td>\n",
              "    </tr>\n",
              "    <tr>\n",
              "      <th>21080</th>\n",
              "      <td>607500.0</td>\n",
              "      <td>4</td>\n",
              "      <td>4</td>\n",
              "      <td>2</td>\n",
              "      <td>2.0</td>\n",
              "    </tr>\n",
              "    <tr>\n",
              "      <th>17511</th>\n",
              "      <td>2506000.0</td>\n",
              "      <td>15</td>\n",
              "      <td>9</td>\n",
              "      <td>5</td>\n",
              "      <td>1.0</td>\n",
              "    </tr>\n",
              "    <tr>\n",
              "      <th>23318</th>\n",
              "      <td>831500.0</td>\n",
              "      <td>8</td>\n",
              "      <td>6</td>\n",
              "      <td>6</td>\n",
              "      <td>0.0</td>\n",
              "    </tr>\n",
              "    <tr>\n",
              "      <th>11956</th>\n",
              "      <td>1523500.0</td>\n",
              "      <td>8</td>\n",
              "      <td>8</td>\n",
              "      <td>2</td>\n",
              "      <td>2.0</td>\n",
              "    </tr>\n",
              "    <tr>\n",
              "      <th>18805</th>\n",
              "      <td>462000.0</td>\n",
              "      <td>5</td>\n",
              "      <td>5</td>\n",
              "      <td>5</td>\n",
              "      <td>0.0</td>\n",
              "    </tr>\n",
              "    <tr>\n",
              "      <th>7526</th>\n",
              "      <td>4025500.0</td>\n",
              "      <td>33</td>\n",
              "      <td>25</td>\n",
              "      <td>2</td>\n",
              "      <td>1.0</td>\n",
              "    </tr>\n",
              "    <tr>\n",
              "      <th>21987</th>\n",
              "      <td>250000.0</td>\n",
              "      <td>2</td>\n",
              "      <td>1</td>\n",
              "      <td>6</td>\n",
              "      <td>0.0</td>\n",
              "    </tr>\n",
              "    <tr>\n",
              "      <th>2297</th>\n",
              "      <td>252000.0</td>\n",
              "      <td>11</td>\n",
              "      <td>2</td>\n",
              "      <td>3</td>\n",
              "      <td>0.0</td>\n",
              "    </tr>\n",
              "  </tbody>\n",
              "</table>\n",
              "</div>"
            ],
            "text/plain": [
              "          total_spent  quantity_purchased  num_skus  c_tenure  days_since\n",
              "order_id                                                                 \n",
              "5900         494500.0                   5         4         0         3.0\n",
              "87           878000.0                  71         7         0         0.0\n",
              "21080        607500.0                   4         4         2         2.0\n",
              "17511       2506000.0                  15         9         5         1.0\n",
              "23318        831500.0                   8         6         6         0.0\n",
              "11956       1523500.0                   8         8         2         2.0\n",
              "18805        462000.0                   5         5         5         0.0\n",
              "7526        4025500.0                  33        25         2         1.0\n",
              "21987        250000.0                   2         1         6         0.0\n",
              "2297         252000.0                  11         2         3         0.0"
            ]
          },
          "execution_count": 49,
          "metadata": {},
          "output_type": "execute_result"
        }
      ],
      "source": [
        "X.sample(10)"
      ]
    },
    {
      "cell_type": "markdown",
      "metadata": {
        "id": "t2AM_7kBPOfK"
      },
      "source": [
        "We create a logistic regression model, using total spent (total_spent), number of products in the order (quantity_purchased), number of unique SKUs in order (num_skus), number of months the merchant has been ordering (tenure), and the number of days since the last order (days_since) as regressors. The regressand is whether or not the merchant is a churner, 1 signifying a churner and 0 signifying a non-churner. "
      ]
    },
    {
      "cell_type": "code",
      "execution_count": 50,
      "metadata": {
        "colab": {
          "base_uri": "https://localhost:8080/"
        },
        "id": "wHZwQPEPS5Xt",
        "outputId": "f19ca797-b5b6-4c64-8023-cc788b060f53"
      },
      "outputs": [
        {
          "name": "stdout",
          "output_type": "stream",
          "text": [
            "Optimization terminated successfully.\n",
            "         Current function value: 0.350486\n",
            "         Iterations 7\n",
            "                          Results: Logit\n",
            "===================================================================\n",
            "Model:                Logit            Pseudo R-squared: -0.051    \n",
            "Dependent Variable:   churner          AIC:              16831.9473\n",
            "Date:                 2022-11-28 09:51 BIC:              16872.3759\n",
            "No. Observations:     23998            Log-Likelihood:   -8411.0   \n",
            "Df Model:             4                LL-Null:          -8002.0   \n",
            "Df Residuals:         23993            LLR p-value:      1.0000    \n",
            "Converged:            1.0000           Scale:            1.0000    \n",
            "No. Iterations:       7.0000                                       \n",
            "-------------------------------------------------------------------\n",
            "                    Coef.  Std.Err.    z     P>|z|   [0.025  0.975]\n",
            "-------------------------------------------------------------------\n",
            "total_spent        -0.0000   0.0000  -0.9259 0.3545 -0.0000  0.0000\n",
            "quantity_purchased -0.0039   0.0005  -7.8247 0.0000 -0.0048 -0.0029\n",
            "num_skus           -0.0151   0.0031  -4.8833 0.0000 -0.0212 -0.0091\n",
            "c_tenure           -0.5141   0.0086 -60.0177 0.0000 -0.5309 -0.4974\n",
            "days_since          0.0242   0.0026   9.2322 0.0000  0.0191  0.0294\n",
            "===================================================================\n",
            "\n"
          ]
        }
      ],
      "source": [
        "logit_model=sm.Logit(y.astype(float),X)\n",
        "result=logit_model.fit()\n",
        "print(result.summary2())"
      ]
    },
    {
      "cell_type": "markdown",
      "metadata": {},
      "source": [
        "### YINGLI:\n",
        "* would the above results call for variable scaling so that we can see the coef for \"total_spent\"?\n",
        "* overall should we perform variable scaling? what is the reason for not scaling in this project?"
      ]
    },
    {
      "cell_type": "markdown",
      "metadata": {
        "id": "I0RA9DSExlJE"
      },
      "source": [
        "## Implementing Logistic Regression model, so it can be evaluated"
      ]
    },
    {
      "cell_type": "code",
      "execution_count": 51,
      "metadata": {
        "id": "o2USzNiJwgUx"
      },
      "outputs": [],
      "source": [
        "regressionmodeldata = df.drop(columns = ['merchant_id', 'since', 'month'])\n"
      ]
    },
    {
      "cell_type": "code",
      "execution_count": 52,
      "metadata": {
        "colab": {
          "base_uri": "https://localhost:8080/",
          "height": 455
        },
        "id": "Y0O3M92wkl-7",
        "outputId": "98bfba60-f579-44e0-d7a8-aa4df3380bf0"
      },
      "outputs": [
        {
          "data": {
            "text/html": [
              "<div>\n",
              "<style scoped>\n",
              "    .dataframe tbody tr th:only-of-type {\n",
              "        vertical-align: middle;\n",
              "    }\n",
              "\n",
              "    .dataframe tbody tr th {\n",
              "        vertical-align: top;\n",
              "    }\n",
              "\n",
              "    .dataframe thead th {\n",
              "        text-align: right;\n",
              "    }\n",
              "</style>\n",
              "<table border=\"1\" class=\"dataframe\">\n",
              "  <thead>\n",
              "    <tr style=\"text-align: right;\">\n",
              "      <th></th>\n",
              "      <th>total_spent</th>\n",
              "      <th>quantity_purchased</th>\n",
              "      <th>num_skus</th>\n",
              "      <th>churner</th>\n",
              "      <th>c_tenure</th>\n",
              "      <th>days_since</th>\n",
              "    </tr>\n",
              "    <tr>\n",
              "      <th>order_id</th>\n",
              "      <th></th>\n",
              "      <th></th>\n",
              "      <th></th>\n",
              "      <th></th>\n",
              "      <th></th>\n",
              "      <th></th>\n",
              "    </tr>\n",
              "  </thead>\n",
              "  <tbody>\n",
              "    <tr>\n",
              "      <th>1</th>\n",
              "      <td>1541000.0</td>\n",
              "      <td>6</td>\n",
              "      <td>4</td>\n",
              "      <td>0</td>\n",
              "      <td>0</td>\n",
              "      <td>0.0</td>\n",
              "    </tr>\n",
              "    <tr>\n",
              "      <th>2</th>\n",
              "      <td>185500.0</td>\n",
              "      <td>10</td>\n",
              "      <td>2</td>\n",
              "      <td>1</td>\n",
              "      <td>0</td>\n",
              "      <td>0.0</td>\n",
              "    </tr>\n",
              "    <tr>\n",
              "      <th>3</th>\n",
              "      <td>1472500.0</td>\n",
              "      <td>23</td>\n",
              "      <td>9</td>\n",
              "      <td>0</td>\n",
              "      <td>0</td>\n",
              "      <td>0.0</td>\n",
              "    </tr>\n",
              "    <tr>\n",
              "      <th>4</th>\n",
              "      <td>549000.0</td>\n",
              "      <td>3</td>\n",
              "      <td>3</td>\n",
              "      <td>0</td>\n",
              "      <td>0</td>\n",
              "      <td>0.0</td>\n",
              "    </tr>\n",
              "    <tr>\n",
              "      <th>5</th>\n",
              "      <td>116000.0</td>\n",
              "      <td>1</td>\n",
              "      <td>1</td>\n",
              "      <td>0</td>\n",
              "      <td>0</td>\n",
              "      <td>0.0</td>\n",
              "    </tr>\n",
              "    <tr>\n",
              "      <th>...</th>\n",
              "      <td>...</td>\n",
              "      <td>...</td>\n",
              "      <td>...</td>\n",
              "      <td>...</td>\n",
              "      <td>...</td>\n",
              "      <td>...</td>\n",
              "    </tr>\n",
              "    <tr>\n",
              "      <th>30019</th>\n",
              "      <td>925000.0</td>\n",
              "      <td>7</td>\n",
              "      <td>3</td>\n",
              "      <td>0</td>\n",
              "      <td>8</td>\n",
              "      <td>0.0</td>\n",
              "    </tr>\n",
              "    <tr>\n",
              "      <th>30020</th>\n",
              "      <td>243000.0</td>\n",
              "      <td>3</td>\n",
              "      <td>2</td>\n",
              "      <td>0</td>\n",
              "      <td>9</td>\n",
              "      <td>3.0</td>\n",
              "    </tr>\n",
              "    <tr>\n",
              "      <th>30021</th>\n",
              "      <td>617000.0</td>\n",
              "      <td>7</td>\n",
              "      <td>4</td>\n",
              "      <td>0</td>\n",
              "      <td>8</td>\n",
              "      <td>0.0</td>\n",
              "    </tr>\n",
              "    <tr>\n",
              "      <th>30022</th>\n",
              "      <td>10627000.0</td>\n",
              "      <td>59</td>\n",
              "      <td>22</td>\n",
              "      <td>0</td>\n",
              "      <td>8</td>\n",
              "      <td>1.0</td>\n",
              "    </tr>\n",
              "    <tr>\n",
              "      <th>30023</th>\n",
              "      <td>4034000.0</td>\n",
              "      <td>9</td>\n",
              "      <td>5</td>\n",
              "      <td>0</td>\n",
              "      <td>8</td>\n",
              "      <td>0.0</td>\n",
              "    </tr>\n",
              "  </tbody>\n",
              "</table>\n",
              "<p>30012 rows × 6 columns</p>\n",
              "</div>"
            ],
            "text/plain": [
              "          total_spent  quantity_purchased  num_skus  churner  c_tenure  \\\n",
              "order_id                                                                 \n",
              "1           1541000.0                   6         4        0         0   \n",
              "2            185500.0                  10         2        1         0   \n",
              "3           1472500.0                  23         9        0         0   \n",
              "4            549000.0                   3         3        0         0   \n",
              "5            116000.0                   1         1        0         0   \n",
              "...               ...                 ...       ...      ...       ...   \n",
              "30019        925000.0                   7         3        0         8   \n",
              "30020        243000.0                   3         2        0         9   \n",
              "30021        617000.0                   7         4        0         8   \n",
              "30022      10627000.0                  59        22        0         8   \n",
              "30023       4034000.0                   9         5        0         8   \n",
              "\n",
              "          days_since  \n",
              "order_id              \n",
              "1                0.0  \n",
              "2                0.0  \n",
              "3                0.0  \n",
              "4                0.0  \n",
              "5                0.0  \n",
              "...              ...  \n",
              "30019            0.0  \n",
              "30020            3.0  \n",
              "30021            0.0  \n",
              "30022            1.0  \n",
              "30023            0.0  \n",
              "\n",
              "[30012 rows x 6 columns]"
            ]
          },
          "execution_count": 52,
          "metadata": {},
          "output_type": "execute_result"
        }
      ],
      "source": [
        "regressionmodeldata"
      ]
    },
    {
      "cell_type": "markdown",
      "metadata": {},
      "source": [
        "### YINGLI:\n",
        "* this below experiment cell stops \"run all\", I commented it out"
      ]
    },
    {
      "cell_type": "code",
      "execution_count": 53,
      "metadata": {
        "id": "W-DJx2Ankr80"
      },
      "outputs": [],
      "source": [
        "#regressionmodeldatafull"
      ]
    },
    {
      "cell_type": "code",
      "execution_count": 54,
      "metadata": {
        "id": "FcgueYJDxbC5"
      },
      "outputs": [],
      "source": [
        "regressionmodeldata = regressionmodeldata.dropna()"
      ]
    },
    {
      "cell_type": "code",
      "execution_count": 55,
      "metadata": {
        "id": "66zMS83Ew2ww"
      },
      "outputs": [],
      "source": [
        "xx = regressionmodeldata.loc[:, regressionmodeldata.columns != 'churner']\n",
        "yy = regressionmodeldata.loc[:, regressionmodeldata.columns == 'churner']"
      ]
    },
    {
      "cell_type": "code",
      "execution_count": 56,
      "metadata": {
        "colab": {
          "base_uri": "https://localhost:8080/"
        },
        "id": "OR-hRHgyuc6z",
        "outputId": "7b1229e3-1cd7-4158-8e39-4680c39113b9"
      },
      "outputs": [
        {
          "name": "stderr",
          "output_type": "stream",
          "text": [
            "/Users/yingli/opt/anaconda3/lib/python3.9/site-packages/sklearn/utils/validation.py:1111: DataConversionWarning: A column-vector y was passed when a 1d array was expected. Please change the shape of y to (n_samples, ), for example using ravel().\n",
            "  y = column_or_1d(y, warn=True)\n"
          ]
        },
        {
          "data": {
            "text/html": [
              "<style>#sk-container-id-1 {color: black;background-color: white;}#sk-container-id-1 pre{padding: 0;}#sk-container-id-1 div.sk-toggleable {background-color: white;}#sk-container-id-1 label.sk-toggleable__label {cursor: pointer;display: block;width: 100%;margin-bottom: 0;padding: 0.3em;box-sizing: border-box;text-align: center;}#sk-container-id-1 label.sk-toggleable__label-arrow:before {content: \"▸\";float: left;margin-right: 0.25em;color: #696969;}#sk-container-id-1 label.sk-toggleable__label-arrow:hover:before {color: black;}#sk-container-id-1 div.sk-estimator:hover label.sk-toggleable__label-arrow:before {color: black;}#sk-container-id-1 div.sk-toggleable__content {max-height: 0;max-width: 0;overflow: hidden;text-align: left;background-color: #f0f8ff;}#sk-container-id-1 div.sk-toggleable__content pre {margin: 0.2em;color: black;border-radius: 0.25em;background-color: #f0f8ff;}#sk-container-id-1 input.sk-toggleable__control:checked~div.sk-toggleable__content {max-height: 200px;max-width: 100%;overflow: auto;}#sk-container-id-1 input.sk-toggleable__control:checked~label.sk-toggleable__label-arrow:before {content: \"▾\";}#sk-container-id-1 div.sk-estimator input.sk-toggleable__control:checked~label.sk-toggleable__label {background-color: #d4ebff;}#sk-container-id-1 div.sk-label input.sk-toggleable__control:checked~label.sk-toggleable__label {background-color: #d4ebff;}#sk-container-id-1 input.sk-hidden--visually {border: 0;clip: rect(1px 1px 1px 1px);clip: rect(1px, 1px, 1px, 1px);height: 1px;margin: -1px;overflow: hidden;padding: 0;position: absolute;width: 1px;}#sk-container-id-1 div.sk-estimator {font-family: monospace;background-color: #f0f8ff;border: 1px dotted black;border-radius: 0.25em;box-sizing: border-box;margin-bottom: 0.5em;}#sk-container-id-1 div.sk-estimator:hover {background-color: #d4ebff;}#sk-container-id-1 div.sk-parallel-item::after {content: \"\";width: 100%;border-bottom: 1px solid gray;flex-grow: 1;}#sk-container-id-1 div.sk-label:hover label.sk-toggleable__label {background-color: #d4ebff;}#sk-container-id-1 div.sk-serial::before {content: \"\";position: absolute;border-left: 1px solid gray;box-sizing: border-box;top: 0;bottom: 0;left: 50%;z-index: 0;}#sk-container-id-1 div.sk-serial {display: flex;flex-direction: column;align-items: center;background-color: white;padding-right: 0.2em;padding-left: 0.2em;position: relative;}#sk-container-id-1 div.sk-item {position: relative;z-index: 1;}#sk-container-id-1 div.sk-parallel {display: flex;align-items: stretch;justify-content: center;background-color: white;position: relative;}#sk-container-id-1 div.sk-item::before, #sk-container-id-1 div.sk-parallel-item::before {content: \"\";position: absolute;border-left: 1px solid gray;box-sizing: border-box;top: 0;bottom: 0;left: 50%;z-index: -1;}#sk-container-id-1 div.sk-parallel-item {display: flex;flex-direction: column;z-index: 1;position: relative;background-color: white;}#sk-container-id-1 div.sk-parallel-item:first-child::after {align-self: flex-end;width: 50%;}#sk-container-id-1 div.sk-parallel-item:last-child::after {align-self: flex-start;width: 50%;}#sk-container-id-1 div.sk-parallel-item:only-child::after {width: 0;}#sk-container-id-1 div.sk-dashed-wrapped {border: 1px dashed gray;margin: 0 0.4em 0.5em 0.4em;box-sizing: border-box;padding-bottom: 0.4em;background-color: white;}#sk-container-id-1 div.sk-label label {font-family: monospace;font-weight: bold;display: inline-block;line-height: 1.2em;}#sk-container-id-1 div.sk-label-container {text-align: center;}#sk-container-id-1 div.sk-container {/* jupyter's `normalize.less` sets `[hidden] { display: none; }` but bootstrap.min.css set `[hidden] { display: none !important; }` so we also need the `!important` here to be able to override the default hidden behavior on the sphinx rendered scikit-learn.org. See: https://github.com/scikit-learn/scikit-learn/issues/21755 */display: inline-block !important;position: relative;}#sk-container-id-1 div.sk-text-repr-fallback {display: none;}</style><div id=\"sk-container-id-1\" class=\"sk-top-container\"><div class=\"sk-text-repr-fallback\"><pre>LogisticRegression()</pre><b>In a Jupyter environment, please rerun this cell to show the HTML representation or trust the notebook. <br />On GitHub, the HTML representation is unable to render, please try loading this page with nbviewer.org.</b></div><div class=\"sk-container\" hidden><div class=\"sk-item\"><div class=\"sk-estimator sk-toggleable\"><input class=\"sk-toggleable__control sk-hidden--visually\" id=\"sk-estimator-id-1\" type=\"checkbox\" checked><label for=\"sk-estimator-id-1\" class=\"sk-toggleable__label sk-toggleable__label-arrow\">LogisticRegression</label><div class=\"sk-toggleable__content\"><pre>LogisticRegression()</pre></div></div></div></div></div>"
            ],
            "text/plain": [
              "LogisticRegression()"
            ]
          },
          "execution_count": 56,
          "metadata": {},
          "output_type": "execute_result"
        }
      ],
      "source": [
        "from sklearn.linear_model import LogisticRegression\n",
        "from sklearn import metrics\n",
        "X_train, X_test, y_train, y_test = train_test_split(xx, yy, test_size=0.3, random_state=0)\n",
        "logreg = LogisticRegression()\n",
        "logreg.fit(X_train, y_train)"
      ]
    },
    {
      "cell_type": "markdown",
      "metadata": {
        "id": "BlAtF_4MjXYX"
      },
      "source": [
        "building test for full dataset"
      ]
    },
    {
      "cell_type": "code",
      "execution_count": 57,
      "metadata": {
        "id": "Pr1HDPYRgzXV"
      },
      "outputs": [],
      "source": [
        "regressionmodeldatafull = df2.dropna()\n",
        "regressionmodeldatafull = regressionmodeldatafull.drop(columns = ['order_id', 'merchant_id', 'since', 'month'])\n",
        "xfull = regressionmodeldatafull.loc[:, regressionmodeldatafull.columns != 'churner'] \n",
        "yfull = regressionmodeldatafull.loc[:, regressionmodeldatafull.columns == 'churner']"
      ]
    },
    {
      "cell_type": "markdown",
      "metadata": {
        "id": "Yc5uXC-Vx-ZJ"
      },
      "source": [
        "## Evaluating logistic regression"
      ]
    },
    {
      "cell_type": "code",
      "execution_count": 58,
      "metadata": {
        "colab": {
          "base_uri": "https://localhost:8080/"
        },
        "id": "_hom75pvx6RB",
        "outputId": "5c2a7294-7aa8-43cf-fa5f-5d020ef62f9a"
      },
      "outputs": [
        {
          "name": "stdout",
          "output_type": "stream",
          "text": [
            "Accuracy of logistic regression classifier on test set: 0.89\n"
          ]
        }
      ],
      "source": [
        "y_pred = logreg.predict(X_test)\n",
        "print('Accuracy of logistic regression classifier on test set: {:.2f}'.format(logreg.score(X_test, y_test)))"
      ]
    },
    {
      "cell_type": "code",
      "execution_count": 59,
      "metadata": {
        "colab": {
          "base_uri": "https://localhost:8080/",
          "height": 295
        },
        "id": "C7L83tjoyRc_",
        "outputId": "c9ebbf51-512d-4b1d-e707-4e9eea0d3a4a"
      },
      "outputs": [
        {
          "data": {
            "image/png": "[encoded data removed]",
            "text/plain": [
              "<Figure size 432x288 with 1 Axes>"
            ]
          },
          "metadata": {
            "needs_background": "light"
          },
          "output_type": "display_data"
        }
      ],
      "source": [
        "from sklearn.metrics import roc_auc_score\n",
        "from sklearn.metrics import roc_curve\n",
        "logit_roc_auc = roc_auc_score(y_test, logreg.predict(X_test))\n",
        "fpr, tpr, thresholds = roc_curve(y_test, logreg.predict_proba(X_test)[:,1])\n",
        "plt.figure()\n",
        "plt.plot(fpr, tpr, label='Logistic Regression (area = %0.2f)' % logit_roc_auc)\n",
        "plt.plot([0, 1], [0, 1],'r--')\n",
        "plt.xlim([0.0, 1.0])\n",
        "plt.ylim([0.0, 1.05])\n",
        "plt.xlabel('False Positive Rate')\n",
        "plt.ylabel('True Positive Rate')\n",
        "plt.title('Receiver operating characteristic')\n",
        "plt.legend(loc=\"lower right\")\n",
        "plt.savefig('Log_ROC')\n",
        "plt.show()"
      ]
    },
    {
      "cell_type": "markdown",
      "metadata": {
        "id": "qrww5ja6jpkM"
      },
      "source": [
        "#### Testing full dataset"
      ]
    },
    {
      "cell_type": "code",
      "execution_count": 60,
      "metadata": {
        "colab": {
          "base_uri": "https://localhost:8080/"
        },
        "id": "ahopylhGjhCQ",
        "outputId": "d91e8909-c2cf-43d5-e05c-303d6c55a217"
      },
      "outputs": [
        {
          "name": "stdout",
          "output_type": "stream",
          "text": [
            "Accuracy of logistic regression classifier on test set: 0.32\n"
          ]
        }
      ],
      "source": [
        "y_predfull = logreg.predict(xfull)\n",
        "print('Accuracy of logistic regression classifier on test set: {:.2f}'.format(logreg.score(xfull, yfull)))"
      ]
    },
    {
      "cell_type": "code",
      "execution_count": 61,
      "metadata": {
        "colab": {
          "base_uri": "https://localhost:8080/"
        },
        "id": "pCR2_u3VwQvv",
        "outputId": "5605f73b-4cc7-418f-a992-f3dee6629652"
      },
      "outputs": [
        {
          "data": {
            "image/png": "[encoded data removed]",
            "text/plain": [
              "<Figure size 432x288 with 1 Axes>"
            ]
          },
          "metadata": {
            "needs_background": "light"
          },
          "output_type": "display_data"
        }
      ],
      "source": [
        "logit_roc_aucfull = roc_auc_score(yfull, logreg.predict(xfull))\n",
        "fprfull, tprfull, thresholdsfull = roc_curve(yfull, logreg.predict_proba(xfull)[:,1])\n",
        "plt.figure()\n",
        "plt.plot(fprfull, tprfull, label='Logistic Regression (area = %0.2f)' % logit_roc_auc)\n",
        "plt.plot([0, 1], [0, 1],'r--')\n",
        "plt.xlim([0.0, 1.0])\n",
        "plt.ylim([0.0, 1.05])\n",
        "plt.xlabel('False Positive Rate')\n",
        "plt.ylabel('True Positive Rate')\n",
        "plt.title('Receiver operating characteristic')\n",
        "plt.legend(loc=\"lower right\")\n",
        "plt.savefig('Log_ROC')\n",
        "plt.show()"
      ]
    },
    {
      "cell_type": "markdown",
      "metadata": {
        "id": "JsUlqfmSOAsi"
      },
      "source": [
        "# Logistic Regression aggregated around merchants"
      ]
    },
    {
      "cell_type": "markdown",
      "metadata": {
        "id": "usDl1AGuDqZ-"
      },
      "source": [
        "Creating merchants dataframe for logistic regression."
      ]
    },
    {
      "cell_type": "markdown",
      "metadata": {
        "id": "SKmeIoVWQdvL"
      },
      "source": [
        "We aggregate data by merchants and orders."
      ]
    },
    {
      "cell_type": "code",
      "execution_count": 62,
      "metadata": {
        "id": "A1Olo1PrDTe-"
      },
      "outputs": [],
      "source": [
        "merchant_orders = get_merchant_order_attributes(baskets)"
      ]
    },
    {
      "cell_type": "markdown",
      "metadata": {
        "id": "JrQmZJjARg2r"
      },
      "source": [
        "Here, I changed the classifications for merchant, for the logistic regression to run. I'm not sure why the parameter needed to change."
      ]
    },
    {
      "cell_type": "markdown",
      "metadata": {
        "id": "m0X_RBAzQjEp"
      },
      "source": [
        "We aggregate by merchants from the set aggregated by merchnats and orders to keep the fields from orders in the frame aggregated by merchants."
      ]
    },
    {
      "cell_type": "code",
      "execution_count": 63,
      "metadata": {
        "id": "xL0ber88LPTu"
      },
      "outputs": [],
      "source": [
        "merchants2 = get_merchant_attributes2(merchant_orders)"
      ]
    },
    {
      "cell_type": "markdown",
      "metadata": {
        "id": "bscOTPR_xNxX"
      },
      "source": [
        "#### Building merchant dataframe for full set."
      ]
    },
    {
      "cell_type": "code",
      "execution_count": 64,
      "metadata": {
        "id": "aofXXDxZxTDa"
      },
      "outputs": [],
      "source": [
        "merchant_orders_full = get_merchant_order_attributes(test_baskets)"
      ]
    },
    {
      "cell_type": "code",
      "execution_count": 65,
      "metadata": {
        "id": "zg57EKqFx9hp"
      },
      "outputs": [],
      "source": [
        "merchants2full = get_merchant_attributes2(merchant_orders_full)"
      ]
    },
    {
      "cell_type": "markdown",
      "metadata": {
        "id": "n1tN6MsCzAKL"
      },
      "source": [
        "### Creating Model"
      ]
    },
    {
      "cell_type": "markdown",
      "metadata": {
        "id": "wuxRFe5PQ2a3"
      },
      "source": [
        "We separate the dataframe into training and testing."
      ]
    },
    {
      "cell_type": "code",
      "execution_count": 66,
      "metadata": {
        "id": "IR9BN5mtMUdp"
      },
      "outputs": [],
      "source": [
        "train2, test2,= train_test_split( merchants2, test_size=0.2)"
      ]
    },
    {
      "cell_type": "code",
      "execution_count": 67,
      "metadata": {
        "id": "QRYpADkPMc3Q"
      },
      "outputs": [],
      "source": [
        "regressiondatamerchant = train2.drop(columns =['merchant_id', 'first_month', 'last_month', 'total_spent', 'num_orders', 'quantity_purchased'])"
      ]
    },
    {
      "cell_type": "code",
      "execution_count": 68,
      "metadata": {
        "id": "ALhP0Sr_M7hF"
      },
      "outputs": [],
      "source": [
        "regressiondatamerchant = regressiondatamerchant.dropna()"
      ]
    },
    {
      "cell_type": "code",
      "execution_count": 69,
      "metadata": {
        "id": "dGyJHGc-NhG-"
      },
      "outputs": [],
      "source": [
        "X2 = regressiondatamerchant.loc[:, regressiondatamerchant.columns != 'churner']\n",
        "y2 = regressiondatamerchant.loc[:, regressiondatamerchant.columns == 'churner']"
      ]
    },
    {
      "cell_type": "code",
      "execution_count": 70,
      "metadata": {
        "colab": {
          "base_uri": "https://localhost:8080/"
        },
        "id": "ENFaUueONtxt",
        "outputId": "378fa8cd-cb59-4fe1-dddf-4bcd410fa3d1"
      },
      "outputs": [
        {
          "name": "stdout",
          "output_type": "stream",
          "text": [
            "<class 'pandas.core.frame.DataFrame'>\n",
            "Int64Index: 263 entries, 212 to 286\n",
            "Data columns (total 6 columns):\n",
            " #   Column                        Non-Null Count  Dtype  \n",
            "---  ------                        --------------  -----  \n",
            " 0   avg_unique_sku_per_order      263 non-null    float64\n",
            " 1   avg_unique_top_cat_per_order  263 non-null    float64\n",
            " 2   avg_unique_sub_cat_per_order  263 non-null    float64\n",
            " 3   avg_spent_per_order           263 non-null    float64\n",
            " 4   tenure_month                  263 non-null    int64  \n",
            " 5   avg_units_per_order           263 non-null    float64\n",
            "dtypes: float64(5), int64(1)\n",
            "memory usage: 14.4 KB\n",
            "<class 'pandas.core.frame.DataFrame'>\n",
            "Int64Index: 263 entries, 212 to 286\n",
            "Data columns (total 1 columns):\n",
            " #   Column   Non-Null Count  Dtype  \n",
            "---  ------   --------------  -----  \n",
            " 0   churner  263 non-null    float64\n",
            "dtypes: float64(1)\n",
            "memory usage: 4.1 KB\n"
          ]
        }
      ],
      "source": [
        "X2.info()\n",
        "y2.info()"
      ]
    },
    {
      "cell_type": "markdown",
      "metadata": {
        "id": "ywoy-pYmQ89C"
      },
      "source": [
        "We create a logistic regression function to predict churning. The regressors are average unique SKUs per order (avg_unique_sku_per_order), average unique top categories per order (avg_unique_top_cat_per_order), average unique subcategories per order (avg_unique_sub_cat_per_order), average spend per order (avg_spent_per_order), how many months the merchant has purchased (tenure_month), and the average number of products per order (avg_units_per_order). "
      ]
    },
    {
      "cell_type": "code",
      "execution_count": 71,
      "metadata": {
        "colab": {
          "base_uri": "https://localhost:8080/"
        },
        "id": "yInI7MlDOEOZ",
        "outputId": "b1d8fa39-2793-49b8-a308-6b99ea82f6cd"
      },
      "outputs": [
        {
          "name": "stdout",
          "output_type": "stream",
          "text": [
            "Optimization terminated successfully.\n",
            "         Current function value: 0.295964\n",
            "         Iterations 8\n",
            "                               Results: Logit\n",
            "============================================================================\n",
            "Model:                   Logit               Pseudo R-squared:    0.417     \n",
            "Dependent Variable:      churner             AIC:                 167.6772  \n",
            "Date:                    2022-11-28 09:51    BIC:                 189.1101  \n",
            "No. Observations:        263                 Log-Likelihood:      -77.839   \n",
            "Df Model:                5                   LL-Null:             -133.52   \n",
            "Df Residuals:            257                 LLR p-value:         2.1036e-22\n",
            "Converged:               1.0000              Scale:               1.0000    \n",
            "No. Iterations:          8.0000                                             \n",
            "----------------------------------------------------------------------------\n",
            "                              Coef.  Std.Err.    z    P>|z|   [0.025  0.975]\n",
            "----------------------------------------------------------------------------\n",
            "avg_unique_sku_per_order      0.0779   0.0901  0.8645 0.3873 -0.0987  0.2545\n",
            "avg_unique_top_cat_per_order  0.0573   0.4384  0.1307 0.8960 -0.8019  0.9165\n",
            "avg_unique_sub_cat_per_order -0.1627   0.3107 -0.5236 0.6005 -0.7717  0.4463\n",
            "avg_spent_per_order           0.0000   0.0000  0.1045 0.9168 -0.0000  0.0000\n",
            "tenure_month                 -0.4453   0.0685 -6.4957 0.0000 -0.5796 -0.3109\n",
            "avg_units_per_order           0.0269   0.0068  3.9442 0.0001  0.0135  0.0402\n",
            "============================================================================\n",
            "\n"
          ]
        }
      ],
      "source": [
        "logit_model_merchant=sm.Logit(y2, X2)\n",
        "result_merchant=logit_model_merchant.fit()\n",
        "print(result_merchant.summary2())"
      ]
    },
    {
      "cell_type": "markdown",
      "metadata": {
        "id": "zYhWgqDUzs_l"
      },
      "source": [
        "building test for full dataset"
      ]
    },
    {
      "cell_type": "code",
      "execution_count": 72,
      "metadata": {
        "id": "j8dIMgeJzwcG"
      },
      "outputs": [],
      "source": [
        "regressiondatamerchantfull = merchants2full.drop(columns =['merchant_id', 'first_month', 'last_month', 'total_spent', 'num_orders', 'quantity_purchased'])\n",
        "regressiondatamerchantfull = regressiondatamerchantfull.dropna()\n",
        "xmfull = regressiondatamerchantfull.loc[:, regressiondatamerchantfull.columns != 'churner']\n",
        "ymfull = regressiondatamerchantfull.loc[:, regressiondatamerchantfull.columns == 'churner']"
      ]
    },
    {
      "cell_type": "markdown",
      "metadata": {
        "id": "Fc_ZzLOwGH1a"
      },
      "source": [
        "### Implementing Logistic Regression Model, so it can be evaluated"
      ]
    },
    {
      "cell_type": "code",
      "execution_count": 73,
      "metadata": {
        "id": "cLb9EzgqGNpY"
      },
      "outputs": [],
      "source": [
        "regressionmodeldatamerchant = merchants2.drop(columns = ['merchant_id', 'first_month', 'last_month', 'total_spent', 'num_orders', 'quantity_purchased'])"
      ]
    },
    {
      "cell_type": "code",
      "execution_count": 74,
      "metadata": {
        "id": "X9l0DWXGHFeg"
      },
      "outputs": [],
      "source": [
        "regressionmodeldatamerchant = regressionmodeldatamerchant.dropna()"
      ]
    },
    {
      "cell_type": "code",
      "execution_count": 75,
      "metadata": {
        "colab": {
          "base_uri": "https://localhost:8080/"
        },
        "id": "ZhCjJh7lIz3V",
        "outputId": "f9d495f7-0bd9-47e8-bdff-2fd6e8e92ab8"
      },
      "outputs": [
        {
          "data": {
            "text/html": [
              "<div>\n",
              "<style scoped>\n",
              "    .dataframe tbody tr th:only-of-type {\n",
              "        vertical-align: middle;\n",
              "    }\n",
              "\n",
              "    .dataframe tbody tr th {\n",
              "        vertical-align: top;\n",
              "    }\n",
              "\n",
              "    .dataframe thead th {\n",
              "        text-align: right;\n",
              "    }\n",
              "</style>\n",
              "<table border=\"1\" class=\"dataframe\">\n",
              "  <thead>\n",
              "    <tr style=\"text-align: right;\">\n",
              "      <th></th>\n",
              "      <th>avg_unique_sku_per_order</th>\n",
              "      <th>avg_unique_top_cat_per_order</th>\n",
              "      <th>avg_unique_sub_cat_per_order</th>\n",
              "      <th>avg_spent_per_order</th>\n",
              "      <th>tenure_month</th>\n",
              "      <th>avg_units_per_order</th>\n",
              "      <th>churner</th>\n",
              "    </tr>\n",
              "  </thead>\n",
              "  <tbody>\n",
              "    <tr>\n",
              "      <th>0</th>\n",
              "      <td>6.272727</td>\n",
              "      <td>3.272727</td>\n",
              "      <td>3.454545</td>\n",
              "      <td>1.072945e+06</td>\n",
              "      <td>9</td>\n",
              "      <td>9.727273</td>\n",
              "      <td>0.0</td>\n",
              "    </tr>\n",
              "    <tr>\n",
              "      <th>1</th>\n",
              "      <td>6.875000</td>\n",
              "      <td>3.875000</td>\n",
              "      <td>4.250000</td>\n",
              "      <td>1.879375e+06</td>\n",
              "      <td>10</td>\n",
              "      <td>11.000000</td>\n",
              "      <td>0.0</td>\n",
              "    </tr>\n",
              "    <tr>\n",
              "      <th>2</th>\n",
              "      <td>6.594595</td>\n",
              "      <td>3.567568</td>\n",
              "      <td>3.864865</td>\n",
              "      <td>1.028532e+06</td>\n",
              "      <td>6</td>\n",
              "      <td>15.864865</td>\n",
              "      <td>1.0</td>\n",
              "    </tr>\n",
              "    <tr>\n",
              "      <th>3</th>\n",
              "      <td>5.500000</td>\n",
              "      <td>3.000000</td>\n",
              "      <td>3.000000</td>\n",
              "      <td>5.105000e+05</td>\n",
              "      <td>2</td>\n",
              "      <td>5.500000</td>\n",
              "      <td>0.0</td>\n",
              "    </tr>\n",
              "    <tr>\n",
              "      <th>4</th>\n",
              "      <td>10.000000</td>\n",
              "      <td>4.500000</td>\n",
              "      <td>5.000000</td>\n",
              "      <td>1.344000e+06</td>\n",
              "      <td>6</td>\n",
              "      <td>10.500000</td>\n",
              "      <td>0.0</td>\n",
              "    </tr>\n",
              "    <tr>\n",
              "      <th>...</th>\n",
              "      <td>...</td>\n",
              "      <td>...</td>\n",
              "      <td>...</td>\n",
              "      <td>...</td>\n",
              "      <td>...</td>\n",
              "      <td>...</td>\n",
              "      <td>...</td>\n",
              "    </tr>\n",
              "    <tr>\n",
              "      <th>324</th>\n",
              "      <td>2.500000</td>\n",
              "      <td>1.000000</td>\n",
              "      <td>1.000000</td>\n",
              "      <td>9.675000e+05</td>\n",
              "      <td>1</td>\n",
              "      <td>4.500000</td>\n",
              "      <td>0.0</td>\n",
              "    </tr>\n",
              "    <tr>\n",
              "      <th>325</th>\n",
              "      <td>18.250000</td>\n",
              "      <td>7.500000</td>\n",
              "      <td>9.500000</td>\n",
              "      <td>4.848775e+06</td>\n",
              "      <td>1</td>\n",
              "      <td>46.750000</td>\n",
              "      <td>0.0</td>\n",
              "    </tr>\n",
              "    <tr>\n",
              "      <th>326</th>\n",
              "      <td>2.000000</td>\n",
              "      <td>2.000000</td>\n",
              "      <td>1.500000</td>\n",
              "      <td>4.465000e+05</td>\n",
              "      <td>1</td>\n",
              "      <td>2.500000</td>\n",
              "      <td>0.0</td>\n",
              "    </tr>\n",
              "    <tr>\n",
              "      <th>327</th>\n",
              "      <td>14.000000</td>\n",
              "      <td>7.000000</td>\n",
              "      <td>7.400000</td>\n",
              "      <td>1.753800e+06</td>\n",
              "      <td>1</td>\n",
              "      <td>22.000000</td>\n",
              "      <td>0.0</td>\n",
              "    </tr>\n",
              "    <tr>\n",
              "      <th>328</th>\n",
              "      <td>5.000000</td>\n",
              "      <td>3.500000</td>\n",
              "      <td>3.000000</td>\n",
              "      <td>7.182500e+05</td>\n",
              "      <td>1</td>\n",
              "      <td>5.500000</td>\n",
              "      <td>0.0</td>\n",
              "    </tr>\n",
              "  </tbody>\n",
              "</table>\n",
              "<p>329 rows × 7 columns</p>\n",
              "</div>"
            ],
            "text/plain": [
              "     avg_unique_sku_per_order  avg_unique_top_cat_per_order  \\\n",
              "0                    6.272727                      3.272727   \n",
              "1                    6.875000                      3.875000   \n",
              "2                    6.594595                      3.567568   \n",
              "3                    5.500000                      3.000000   \n",
              "4                   10.000000                      4.500000   \n",
              "..                        ...                           ...   \n",
              "324                  2.500000                      1.000000   \n",
              "325                 18.250000                      7.500000   \n",
              "326                  2.000000                      2.000000   \n",
              "327                 14.000000                      7.000000   \n",
              "328                  5.000000                      3.500000   \n",
              "\n",
              "     avg_unique_sub_cat_per_order  avg_spent_per_order  tenure_month  \\\n",
              "0                        3.454545         1.072945e+06             9   \n",
              "1                        4.250000         1.879375e+06            10   \n",
              "2                        3.864865         1.028532e+06             6   \n",
              "3                        3.000000         5.105000e+05             2   \n",
              "4                        5.000000         1.344000e+06             6   \n",
              "..                            ...                  ...           ...   \n",
              "324                      1.000000         9.675000e+05             1   \n",
              "325                      9.500000         4.848775e+06             1   \n",
              "326                      1.500000         4.465000e+05             1   \n",
              "327                      7.400000         1.753800e+06             1   \n",
              "328                      3.000000         7.182500e+05             1   \n",
              "\n",
              "     avg_units_per_order  churner  \n",
              "0               9.727273      0.0  \n",
              "1              11.000000      0.0  \n",
              "2              15.864865      1.0  \n",
              "3               5.500000      0.0  \n",
              "4              10.500000      0.0  \n",
              "..                   ...      ...  \n",
              "324             4.500000      0.0  \n",
              "325            46.750000      0.0  \n",
              "326             2.500000      0.0  \n",
              "327            22.000000      0.0  \n",
              "328             5.500000      0.0  \n",
              "\n",
              "[329 rows x 7 columns]"
            ]
          },
          "execution_count": 75,
          "metadata": {},
          "output_type": "execute_result"
        }
      ],
      "source": [
        "regressionmodeldatamerchant"
      ]
    },
    {
      "cell_type": "code",
      "execution_count": 76,
      "metadata": {
        "id": "UO7vjltoHfG3"
      },
      "outputs": [],
      "source": [
        "xm = regressionmodeldatamerchant.loc[:, regressionmodeldatamerchant.columns != 'churner']\n",
        "ym = regressionmodeldatamerchant.loc[:, regressionmodeldatamerchant.columns == 'churner']"
      ]
    },
    {
      "cell_type": "code",
      "execution_count": 77,
      "metadata": {
        "colab": {
          "base_uri": "https://localhost:8080/"
        },
        "id": "JgmYrW_GIUE9",
        "outputId": "49a915ca-4cab-45f9-b1dc-60701d0f8b5b"
      },
      "outputs": [
        {
          "name": "stderr",
          "output_type": "stream",
          "text": [
            "/Users/yingli/opt/anaconda3/lib/python3.9/site-packages/sklearn/utils/validation.py:1111: DataConversionWarning: A column-vector y was passed when a 1d array was expected. Please change the shape of y to (n_samples, ), for example using ravel().\n",
            "  y = column_or_1d(y, warn=True)\n"
          ]
        },
        {
          "data": {
            "text/html": [
              "<style>#sk-container-id-2 {color: black;background-color: white;}#sk-container-id-2 pre{padding: 0;}#sk-container-id-2 div.sk-toggleable {background-color: white;}#sk-container-id-2 label.sk-toggleable__label {cursor: pointer;display: block;width: 100%;margin-bottom: 0;padding: 0.3em;box-sizing: border-box;text-align: center;}#sk-container-id-2 label.sk-toggleable__label-arrow:before {content: \"▸\";float: left;margin-right: 0.25em;color: #696969;}#sk-container-id-2 label.sk-toggleable__label-arrow:hover:before {color: black;}#sk-container-id-2 div.sk-estimator:hover label.sk-toggleable__label-arrow:before {color: black;}#sk-container-id-2 div.sk-toggleable__content {max-height: 0;max-width: 0;overflow: hidden;text-align: left;background-color: #f0f8ff;}#sk-container-id-2 div.sk-toggleable__content pre {margin: 0.2em;color: black;border-radius: 0.25em;background-color: #f0f8ff;}#sk-container-id-2 input.sk-toggleable__control:checked~div.sk-toggleable__content {max-height: 200px;max-width: 100%;overflow: auto;}#sk-container-id-2 input.sk-toggleable__control:checked~label.sk-toggleable__label-arrow:before {content: \"▾\";}#sk-container-id-2 div.sk-estimator input.sk-toggleable__control:checked~label.sk-toggleable__label {background-color: #d4ebff;}#sk-container-id-2 div.sk-label input.sk-toggleable__control:checked~label.sk-toggleable__label {background-color: #d4ebff;}#sk-container-id-2 input.sk-hidden--visually {border: 0;clip: rect(1px 1px 1px 1px);clip: rect(1px, 1px, 1px, 1px);height: 1px;margin: -1px;overflow: hidden;padding: 0;position: absolute;width: 1px;}#sk-container-id-2 div.sk-estimator {font-family: monospace;background-color: #f0f8ff;border: 1px dotted black;border-radius: 0.25em;box-sizing: border-box;margin-bottom: 0.5em;}#sk-container-id-2 div.sk-estimator:hover {background-color: #d4ebff;}#sk-container-id-2 div.sk-parallel-item::after {content: \"\";width: 100%;border-bottom: 1px solid gray;flex-grow: 1;}#sk-container-id-2 div.sk-label:hover label.sk-toggleable__label {background-color: #d4ebff;}#sk-container-id-2 div.sk-serial::before {content: \"\";position: absolute;border-left: 1px solid gray;box-sizing: border-box;top: 0;bottom: 0;left: 50%;z-index: 0;}#sk-container-id-2 div.sk-serial {display: flex;flex-direction: column;align-items: center;background-color: white;padding-right: 0.2em;padding-left: 0.2em;position: relative;}#sk-container-id-2 div.sk-item {position: relative;z-index: 1;}#sk-container-id-2 div.sk-parallel {display: flex;align-items: stretch;justify-content: center;background-color: white;position: relative;}#sk-container-id-2 div.sk-item::before, #sk-container-id-2 div.sk-parallel-item::before {content: \"\";position: absolute;border-left: 1px solid gray;box-sizing: border-box;top: 0;bottom: 0;left: 50%;z-index: -1;}#sk-container-id-2 div.sk-parallel-item {display: flex;flex-direction: column;z-index: 1;position: relative;background-color: white;}#sk-container-id-2 div.sk-parallel-item:first-child::after {align-self: flex-end;width: 50%;}#sk-container-id-2 div.sk-parallel-item:last-child::after {align-self: flex-start;width: 50%;}#sk-container-id-2 div.sk-parallel-item:only-child::after {width: 0;}#sk-container-id-2 div.sk-dashed-wrapped {border: 1px dashed gray;margin: 0 0.4em 0.5em 0.4em;box-sizing: border-box;padding-bottom: 0.4em;background-color: white;}#sk-container-id-2 div.sk-label label {font-family: monospace;font-weight: bold;display: inline-block;line-height: 1.2em;}#sk-container-id-2 div.sk-label-container {text-align: center;}#sk-container-id-2 div.sk-container {/* jupyter's `normalize.less` sets `[hidden] { display: none; }` but bootstrap.min.css set `[hidden] { display: none !important; }` so we also need the `!important` here to be able to override the default hidden behavior on the sphinx rendered scikit-learn.org. See: https://github.com/scikit-learn/scikit-learn/issues/21755 */display: inline-block !important;position: relative;}#sk-container-id-2 div.sk-text-repr-fallback {display: none;}</style><div id=\"sk-container-id-2\" class=\"sk-top-container\"><div class=\"sk-text-repr-fallback\"><pre>LogisticRegression()</pre><b>In a Jupyter environment, please rerun this cell to show the HTML representation or trust the notebook. <br />On GitHub, the HTML representation is unable to render, please try loading this page with nbviewer.org.</b></div><div class=\"sk-container\" hidden><div class=\"sk-item\"><div class=\"sk-estimator sk-toggleable\"><input class=\"sk-toggleable__control sk-hidden--visually\" id=\"sk-estimator-id-2\" type=\"checkbox\" checked><label for=\"sk-estimator-id-2\" class=\"sk-toggleable__label sk-toggleable__label-arrow\">LogisticRegression</label><div class=\"sk-toggleable__content\"><pre>LogisticRegression()</pre></div></div></div></div></div>"
            ],
            "text/plain": [
              "LogisticRegression()"
            ]
          },
          "execution_count": 77,
          "metadata": {},
          "output_type": "execute_result"
        }
      ],
      "source": [
        "Xm_train, Xm_test, ym_train, ym_test = train_test_split(xm, ym, test_size=0.3, random_state=0)\n",
        "logregm = LogisticRegression()\n",
        "logregm.fit(Xm_train, ym_train)"
      ]
    },
    {
      "cell_type": "markdown",
      "metadata": {
        "id": "jt4y5Y8OJmQi"
      },
      "source": [
        "## Evaluating Logistic Regression, aggregated by merchant"
      ]
    },
    {
      "cell_type": "code",
      "execution_count": 78,
      "metadata": {
        "colab": {
          "base_uri": "https://localhost:8080/"
        },
        "id": "uMx5wX-JIjys",
        "outputId": "02636040-7bf7-4a0f-feff-a7caa1ab5ef5"
      },
      "outputs": [
        {
          "name": "stdout",
          "output_type": "stream",
          "text": [
            "Accuracy of logistic regression classifier on test set: 0.83\n"
          ]
        }
      ],
      "source": [
        "y_predm = logregm.predict(Xm_test)\n",
        "print('Accuracy of logistic regression classifier on test set: {:.2f}'.format(logregm.score(Xm_test, ym_test)))"
      ]
    },
    {
      "cell_type": "code",
      "execution_count": 79,
      "metadata": {
        "colab": {
          "base_uri": "https://localhost:8080/"
        },
        "id": "CXetyJe6JtRw",
        "outputId": "c7ce5c0e-ec49-4d81-c460-84d4ee115393"
      },
      "outputs": [
        {
          "data": {
            "image/png": "[encoded data removed]",
            "text/plain": [
              "<Figure size 432x288 with 1 Axes>"
            ]
          },
          "metadata": {
            "needs_background": "light"
          },
          "output_type": "display_data"
        }
      ],
      "source": [
        "logit_roc_aucm = roc_auc_score(ym_test, logregm.predict(Xm_test))\n",
        "fprm, tprm, thresholdsm = roc_curve(ym_test, logregm.predict_proba(Xm_test)[:,1])\n",
        "plt.figure()\n",
        "plt.plot(fprm, tprm, label='Logistic Regression (area = %0.2f)' % logit_roc_aucm)\n",
        "plt.plot([0, 1], [0, 1],'r--')\n",
        "plt.xlim([0.0, 1.0])\n",
        "plt.ylim([0.0, 1.05])\n",
        "plt.xlabel('False Positive Rate')\n",
        "plt.ylabel('True Positive Rate')\n",
        "plt.title('Receiver operating characteristic')\n",
        "plt.legend(loc=\"lower right\")\n",
        "plt.savefig('Log_ROC')\n",
        "plt.show()"
      ]
    },
    {
      "cell_type": "markdown",
      "metadata": {
        "id": "5U2BvS8Xzd91"
      },
      "source": [
        "#### Evaluating with full dataset"
      ]
    },
    {
      "cell_type": "code",
      "execution_count": 80,
      "metadata": {
        "colab": {
          "base_uri": "https://localhost:8080/"
        },
        "id": "5VAWjTXyzdMq",
        "outputId": "5bb0b162-4820-4e5c-fc51-a3d20967e866"
      },
      "outputs": [
        {
          "name": "stdout",
          "output_type": "stream",
          "text": [
            "Accuracy of logistic regression classifier on test set: 0.25\n"
          ]
        }
      ],
      "source": [
        "y_predmfull = logregm.predict(xmfull)\n",
        "print('Accuracy of logistic regression classifier on test set: {:.2f}'.format(logregm.score(xmfull, ymfull)))"
      ]
    },
    {
      "cell_type": "code",
      "execution_count": 81,
      "metadata": {
        "colab": {
          "base_uri": "https://localhost:8080/"
        },
        "id": "wQmNGFqk05Rr",
        "outputId": "5a277717-c5bf-468f-967c-7aab0d807c1b"
      },
      "outputs": [
        {
          "data": {
            "image/png": "[encoded data removed]",
            "text/plain": [
              "<Figure size 432x288 with 1 Axes>"
            ]
          },
          "metadata": {
            "needs_background": "light"
          },
          "output_type": "display_data"
        }
      ],
      "source": [
        "logit_roc_aucmfull = roc_auc_score(ymfull, logregm.predict(xmfull))\n",
        "fprmfull, tprmfull, thresholdsmfull = roc_curve(ymfull, logregm.predict_proba(xmfull)[:,1])\n",
        "plt.figure()\n",
        "plt.plot(fprmfull, tprmfull, label='Logistic Regression (area = %0.2f)' % logit_roc_aucm)\n",
        "plt.plot([0, 1], [0, 1],'r--')\n",
        "plt.xlim([0.0, 1.0])\n",
        "plt.ylim([0.0, 1.05])\n",
        "plt.xlabel('False Positive Rate')\n",
        "plt.ylabel('True Positive Rate')\n",
        "plt.title('Receiver operating characteristic')\n",
        "plt.legend(loc=\"lower right\")\n",
        "plt.savefig('Log_ROC')\n",
        "plt.show()"
      ]
    },
    {
      "cell_type": "markdown",
      "metadata": {},
      "source": [
        "### YINGLI:\n",
        "* the below note has incomplete sentence, giving reader impression that this work is very rushed\n",
        "* how should computation results be interpreted, and do the results imply that logistic regression is reasonable choice for use for the dataset?"
      ]
    },
    {
      "cell_type": "markdown",
      "metadata": {
        "id": "saCBrOOYSlZR"
      },
      "source": [
        "# Computing Correlation Between the Variables within our Dataset\n",
        "\n",
        "One of the assumptions of logistic regression is that the covariates are \n",
        "\n",
        "We have six variables:\n",
        "- `avg_unique_sku_per_order`,\n",
        "- `avg_unique_top_cat_per_order`,\n",
        "- `avg_unique_sub_cat_per_order`,\n",
        "- `avg_spent_per_order`,\n",
        "- `tenure_month`,\n",
        "- `tenure_month`,\n",
        "\n",
        "and one binary outcome, `churner`.\n",
        "\n",
        "To compute correlation between each variable and the binary outcome, we can use point biserial correlation, `scipy.stats.pointbiserialr(x,y)`.\n",
        "\n",
        "$$r_{pb} = \\left(\\frac{\\overline{Y_1} - \\overline{Y_2}}{s_Y}\\right) \\sqrt{\\frac{np_0(1-p_0)}{n-1}} $$\n",
        "\n",
        "where,\n",
        "\n",
        "$$ s_Y = \\sqrt{\\frac{∑_{k=1}^n (Y_k - \\overline{Y})^2}{n-1}}, $$\n",
        "\n",
        "$$ p_1 = \\left(\\frac{1}{n}\\right) ∑_{k=1}^n (X_k), $$\n",
        "\n",
        "and,\n",
        "\n",
        "$$ p_0 = 1-p_1. $$\n",
        "\n",
        "**The $X_k$'s are the boolean values.**\n",
        "\n",
        "More information on this correlation can be found [here](http://www.ce.memphis.edu/7012/L17_CategoricalVariableAssociation.pdf).\n",
        "\n",
        "Otherwise we can use the pearson correlation coefficient, $\\rho$."
      ]
    },
    {
      "cell_type": "code",
      "execution_count": 82,
      "metadata": {
        "id": "HFsqm8jWSlK6"
      },
      "outputs": [],
      "source": [
        "from scipy import stats"
      ]
    },
    {
      "cell_type": "markdown",
      "metadata": {
        "id": "syJH9Tx4frFX"
      },
      "source": [
        "# Using Our Dataframe Which We Aggregated by Orders"
      ]
    },
    {
      "cell_type": "code",
      "execution_count": 83,
      "metadata": {
        "colab": {
          "base_uri": "https://localhost:8080/"
        },
        "id": "XWKgVDNgfqV3",
        "outputId": "16a1275f-b548-4e60-d929-cf9aef8401e2"
      },
      "outputs": [
        {
          "name": "stdout",
          "output_type": "stream",
          "text": [
            "Point Biserial Correlation between churner and total_spent: \n",
            "PointbiserialrResult(correlation=0.05065102132161562, pvalue=4.123179088903714e-15)\n",
            "\n",
            "Point Biserial Correlation between churner and quantity_purchased: \n",
            "PointbiserialrResult(correlation=0.037992165748819445, pvalue=3.925687399331005e-09)\n",
            "\n",
            "Point Biserial Correlation between churner and num_skus: \n",
            "PointbiserialrResult(correlation=0.17494902922095532, pvalue=3.1121500240340318e-164)\n",
            "\n",
            "Point Biserial Correlation between churner and month: \n",
            "PointbiserialrResult(correlation=-0.04571056282967269, pvalue=1.3955831759635352e-12)\n",
            "\n",
            "Point Biserial Correlation between churner and churner: \n",
            "PointbiserialrResult(correlation=0.9999999999999912, pvalue=0.0)\n",
            "\n",
            "Point Biserial Correlation between churner and c_tenure: \n",
            "PointbiserialrResult(correlation=-0.16883332815292687, pvalue=6.271876328127201e-153)\n",
            "\n",
            "Point Biserial Correlation between churner and days_since: \n",
            "PointbiserialrResult(correlation=0.08117644844171375, pvalue=2.237880612028936e-36)\n",
            "\n"
          ]
        }
      ],
      "source": [
        "regressiondata.dropna()\n",
        "colnames2 = list(regressiondata.columns.values)\n",
        "for i in range(len(colnames2)):\n",
        "  print(\"Point Biserial Correlation between churner and \" + colnames2[i] + \": \")\n",
        "  print(stats.pointbiserialr(regressiondata[\"churner\"], regressiondata[colnames2[i]]))\n",
        "  print(\"\")"
      ]
    },
    {
      "cell_type": "code",
      "execution_count": 84,
      "metadata": {
        "colab": {
          "base_uri": "https://localhost:8080/"
        },
        "id": "aSq50_PIge0N",
        "outputId": "9c211cfe-98f5-422a-febb-321d6c8e11ec"
      },
      "outputs": [
        {
          "name": "stdout",
          "output_type": "stream",
          "text": [
            "Correlation between: total_spent and quantity_purchased\n",
            "[[1.         0.27424171]\n",
            " [0.27424171 1.        ]]\n",
            "\n",
            "Correlation between: total_spent and num_skus\n",
            "[[1.         0.50601373]\n",
            " [0.50601373 1.        ]]\n",
            "\n",
            "Correlation between: total_spent and month\n",
            "[[1.         0.01207836]\n",
            " [0.01207836 1.        ]]\n",
            "\n",
            "Correlation between: total_spent and churner\n",
            "[[1.         0.05065102]\n",
            " [0.05065102 1.        ]]\n",
            "\n",
            "Correlation between: quantity_purchased and num_skus\n",
            "[[1.         0.30089129]\n",
            " [0.30089129 1.        ]]\n",
            "\n",
            "Correlation between: quantity_purchased and month\n",
            "[[ 1.        -0.2325877]\n",
            " [-0.2325877  1.       ]]\n",
            "\n",
            "Correlation between: quantity_purchased and churner\n",
            "[[1.         0.03799217]\n",
            " [0.03799217 1.        ]]\n",
            "\n",
            "Correlation between: num_skus and month\n",
            "[[ 1.         -0.06807655]\n",
            " [-0.06807655  1.        ]]\n",
            "\n",
            "Correlation between: num_skus and churner\n",
            "[[1.         0.17494903]\n",
            " [0.17494903 1.        ]]\n",
            "\n",
            "Correlation between: month and churner\n",
            "[[ 1.         -0.04571056]\n",
            " [-0.04571056  1.        ]]\n",
            "\n"
          ]
        }
      ],
      "source": [
        "for i in range(len(colnames2)):\n",
        "  for j in np.arange(i + 1, 5, 1):\n",
        "    print(\"Correlation between: \" + colnames2[i] + \" and \" + colnames2[j])\n",
        "    print(np.corrcoef(regressiondata[colnames2[i]], regressiondata[colnames2[j]]))\n",
        "    print(\"\")"
      ]
    },
    {
      "cell_type": "markdown",
      "metadata": {
        "id": "WB9iHlz0fOYi"
      },
      "source": [
        "# Using Our Dataframe Which We Aggregated by Merchants"
      ]
    },
    {
      "cell_type": "code",
      "execution_count": 85,
      "metadata": {
        "colab": {
          "base_uri": "https://localhost:8080/"
        },
        "id": "4xm7jqfuYtOa",
        "outputId": "b4ffb671-b23b-47b9-8ed1-79291361c939"
      },
      "outputs": [
        {
          "name": "stdout",
          "output_type": "stream",
          "text": [
            "Point Biserial Correlation between churner and avg_unique_sku_per_order: \n",
            "PointbiserialrResult(correlation=-0.11012718661409836, pvalue=0.07460543666051839)\n",
            "\n",
            "Point Biserial Correlation between churner and avg_unique_top_cat_per_order: \n",
            "PointbiserialrResult(correlation=-0.18683741696504252, pvalue=0.002347027193514132)\n",
            "\n",
            "Point Biserial Correlation between churner and avg_unique_sub_cat_per_order: \n",
            "PointbiserialrResult(correlation=-0.19793847777848442, pvalue=0.0012521924620338093)\n",
            "\n",
            "Point Biserial Correlation between churner and avg_spent_per_order: \n",
            "PointbiserialrResult(correlation=-0.05432772894766839, pvalue=0.3802155114822083)\n",
            "\n",
            "Point Biserial Correlation between churner and tenure_month: \n",
            "PointbiserialrResult(correlation=-0.5815866119781992, pvalue=3.361841816870299e-25)\n",
            "\n",
            "Point Biserial Correlation between churner and avg_units_per_order: \n",
            "PointbiserialrResult(correlation=0.18047263883628684, pvalue=0.003314180535465843)\n",
            "\n",
            "Point Biserial Correlation between churner and churner: \n",
            "PointbiserialrResult(correlation=1.0, pvalue=0.0)\n",
            "\n"
          ]
        }
      ],
      "source": [
        "regressiondatamerchant.dropna()\n",
        "colnames = list(regressiondatamerchant.columns.values)\n",
        "#print(colnames)\n",
        "for i in np.arange(0,7):\n",
        "  print(\"Point Biserial Correlation between churner and \" + colnames[i] + \": \")\n",
        "  print(stats.pointbiserialr(regressiondatamerchant[\"churner\"], regressiondatamerchant[colnames[i]]))\n",
        "  print(\"\")"
      ]
    },
    {
      "cell_type": "markdown",
      "metadata": {
        "id": "Stvw1qbwe2-v"
      },
      "source": [
        "### A Word of Warning\n",
        "We need to be weary of considering `avg_unique_sku_per_order` and `avg_spent_per_order` in our analysis if we decide to aggregate by merchant statistics."
      ]
    },
    {
      "cell_type": "markdown",
      "metadata": {},
      "source": [
        "### YINGLI:\n",
        "* what does the above comment imply? What is the reason for needing to be weary?\n",
        "* that is the purpose of the below computation of correlations? Would the results below help decide on the selection of features? "
      ]
    },
    {
      "cell_type": "code",
      "execution_count": 86,
      "metadata": {
        "colab": {
          "base_uri": "https://localhost:8080/"
        },
        "id": "0EuDOMSSaGey",
        "outputId": "3daab2fa-f809-47dd-cde8-56cf2c755ea1"
      },
      "outputs": [
        {
          "name": "stdout",
          "output_type": "stream",
          "text": [
            "Correlation between: avg_unique_sku_per_order and avg_unique_top_cat_per_order\n",
            "[[1.         0.85162794]\n",
            " [0.85162794 1.        ]]\n",
            "\n",
            "Correlation between: avg_unique_sku_per_order and avg_unique_sub_cat_per_order\n",
            "[[1.         0.79949527]\n",
            " [0.79949527 1.        ]]\n",
            "\n",
            "Correlation between: avg_unique_sku_per_order and avg_spent_per_order\n",
            "[[1.         0.41732833]\n",
            " [0.41732833 1.        ]]\n",
            "\n",
            "Correlation between: avg_unique_sku_per_order and tenure_month\n",
            "[[1.        0.1836164]\n",
            " [0.1836164 1.       ]]\n",
            "\n",
            "Correlation between: avg_unique_sku_per_order and avg_units_per_order\n",
            "[[1.         0.30369585]\n",
            " [0.30369585 1.        ]]\n",
            "\n",
            "Correlation between: avg_unique_top_cat_per_order and avg_unique_sub_cat_per_order\n",
            "[[1.         0.97153292]\n",
            " [0.97153292 1.        ]]\n",
            "\n",
            "Correlation between: avg_unique_top_cat_per_order and avg_spent_per_order\n",
            "[[1.         0.20543736]\n",
            " [0.20543736 1.        ]]\n",
            "\n",
            "Correlation between: avg_unique_top_cat_per_order and tenure_month\n",
            "[[1.         0.21998638]\n",
            " [0.21998638 1.        ]]\n",
            "\n",
            "Correlation between: avg_unique_top_cat_per_order and avg_units_per_order\n",
            "[[1.         0.17490006]\n",
            " [0.17490006 1.        ]]\n",
            "\n",
            "Correlation between: avg_unique_sub_cat_per_order and avg_spent_per_order\n",
            "[[1.         0.18403379]\n",
            " [0.18403379 1.        ]]\n",
            "\n",
            "Correlation between: avg_unique_sub_cat_per_order and tenure_month\n",
            "[[1.         0.24392954]\n",
            " [0.24392954 1.        ]]\n",
            "\n",
            "Correlation between: avg_unique_sub_cat_per_order and avg_units_per_order\n",
            "[[1.         0.16811237]\n",
            " [0.16811237 1.        ]]\n",
            "\n",
            "Correlation between: avg_spent_per_order and tenure_month\n",
            "[[1.         0.15505392]\n",
            " [0.15505392 1.        ]]\n",
            "\n",
            "Correlation between: avg_spent_per_order and avg_units_per_order\n",
            "[[1.         0.27851333]\n",
            " [0.27851333 1.        ]]\n",
            "\n",
            "Correlation between: tenure_month and avg_units_per_order\n",
            "[[1.         0.09433119]\n",
            " [0.09433119 1.        ]]\n",
            "\n"
          ]
        }
      ],
      "source": [
        "for i in range(len(colnames)):\n",
        "  for j in np.arange(i + 1, 6, 1):\n",
        "    print(\"Correlation between: \" + colnames[i] + \" and \" + colnames[j])\n",
        "    print(np.corrcoef(regressiondatamerchant[colnames[i]], regressiondatamerchant[colnames[j]]))\n",
        "    print(\"\")"
      ]
    },
    {
      "cell_type": "code",
      "execution_count": 87,
      "metadata": {
        "id": "pW-U_dO-jqWg"
      },
      "outputs": [],
      "source": [
        "regressiondata.to_csv(\"by_order.csv\")\n",
        "regressiondatamerchant.to_csv(\"by_merchant.csv\")"
      ]
    },
    {
      "cell_type": "markdown",
      "metadata": {
        "id": "pU2Gj2XFqvyr"
      },
      "source": [
        "# Classification Decision Tree Model"
      ]
    },
    {
      "cell_type": "markdown",
      "metadata": {
        "id": "BpRUfa3ksQ-R"
      },
      "source": [
        "We import the necessary packages to build the decision tree classifier."
      ]
    },
    {
      "cell_type": "code",
      "execution_count": 88,
      "metadata": {
        "id": "msvjdlUqTdd_"
      },
      "outputs": [],
      "source": [
        "from sklearn import tree\n",
        "from sklearn.tree import DecisionTreeClassifier\n",
        "from sklearn.metrics import accuracy_score\n",
        "from sklearn.metrics import confusion_matrix"
      ]
    },
    {
      "cell_type": "markdown",
      "metadata": {
        "id": "0HCFuIAU49pg"
      },
      "source": [
        "## Decision Tree from df"
      ]
    },
    {
      "cell_type": "markdown",
      "metadata": {},
      "source": [
        "### YINGLI:\n",
        "* it would be good to make a separate dataframe for decision trees, as opposed to do \"drop columns\" on df\n",
        "* the reader of the code should not need to keep track of when df has what columns"
      ]
    },
    {
      "cell_type": "code",
      "execution_count": 89,
      "metadata": {
        "id": "7ZIryhCuIE3x"
      },
      "outputs": [],
      "source": [
        "df = df.dropna()\n",
        "df = df.drop(columns = [ 'merchant_id', 'month', 'since','quantity_purchased'])"
      ]
    },
    {
      "cell_type": "markdown",
      "metadata": {
        "id": "XL7cCzu5v6wt"
      },
      "source": [
        "We separate the the data from df into an outcome vector and a predictor dataframe, idexed by order_id"
      ]
    },
    {
      "cell_type": "code",
      "execution_count": 90,
      "metadata": {
        "id": "sfVvZ97Notow"
      },
      "outputs": [],
      "source": [
        "X = df.loc[:, df.columns != 'churner']\n",
        "y = df.loc[:, df.columns == 'churner']"
      ]
    },
    {
      "cell_type": "markdown",
      "metadata": {
        "id": "chjdvEncwUoY"
      },
      "source": [
        "We split the the outcome vector and the predictor dataframe into testing and training datasets. The test size is 20% of the data."
      ]
    },
    {
      "cell_type": "code",
      "execution_count": 91,
      "metadata": {
        "id": "gjFJk4QOTcXI"
      },
      "outputs": [],
      "source": [
        "x_train, x_test, y_train, y_test = train_test_split(X, y, test_size=.2)"
      ]
    },
    {
      "cell_type": "markdown",
      "metadata": {
        "id": "72C4_xWJVPAQ"
      },
      "source": [
        "Here, we build the decision tree for on the data from df"
      ]
    },
    {
      "cell_type": "code",
      "execution_count": 92,
      "metadata": {
        "id": "m_vpCVNcU5AC"
      },
      "outputs": [],
      "source": [
        "dtree = DecisionTreeClassifier(random_state = 4, criterion = 'gini', max_depth = 4)\n",
        "dtree.fit(x_train, y_train)  #train parameters: features and target\n",
        "pred = dtree.predict(x_test)  #parameter: new data to predict"
      ]
    },
    {
      "cell_type": "markdown",
      "metadata": {
        "id": "adkiqIsH0O17"
      },
      "source": [
        "This gives us the accuracy of the decision tree from df"
      ]
    },
    {
      "cell_type": "code",
      "execution_count": 93,
      "metadata": {
        "colab": {
          "base_uri": "https://localhost:8080/"
        },
        "id": "C1Gv0RFQlsc3",
        "outputId": "7078ed8a-e8e4-470e-be93-8e6d615a0322"
      },
      "outputs": [
        {
          "data": {
            "text/plain": [
              "0.8925"
            ]
          },
          "execution_count": 93,
          "metadata": {},
          "output_type": "execute_result"
        }
      ],
      "source": [
        "dtree.score(x_test,y_test)"
      ]
    },
    {
      "cell_type": "markdown",
      "metadata": {
        "id": "fW8Q-Gha0e1L"
      },
      "source": [
        "This gives us the confusion matrix of the decision tree from df"
      ]
    },
    {
      "cell_type": "code",
      "execution_count": 94,
      "metadata": {},
      "outputs": [
        {
          "data": {
            "text/plain": [
              "0.11586386460851776"
            ]
          },
          "execution_count": 94,
          "metadata": {},
          "output_type": "execute_result"
        }
      ],
      "source": [
        "623/5377\n"
      ]
    },
    {
      "cell_type": "code",
      "execution_count": 95,
      "metadata": {
        "colab": {
          "base_uri": "https://localhost:8080/"
        },
        "id": "yGqva81Jk-Fm",
        "outputId": "aeea8d3b-7cef-4e0a-b31d-56e861882e7e"
      },
      "outputs": [
        {
          "name": "stdout",
          "output_type": "stream",
          "text": [
            "[[5355    0]\n",
            " [ 645    0]]\n"
          ]
        }
      ],
      "source": [
        "cm = confusion_matrix(y_test, pred)\n",
        "print (cm)"
      ]
    },
    {
      "cell_type": "markdown",
      "metadata": {
        "id": "xJhtt7Xe7iKA"
      },
      "source": [
        "Here we create a visualization of the decision tree."
      ]
    },
    {
      "cell_type": "code",
      "execution_count": 96,
      "metadata": {
        "colab": {
          "base_uri": "https://localhost:8080/",
          "height": 300
        },
        "id": "W0r5LJd3VqWw",
        "outputId": "f25a2245-1e8d-4097-a1c2-43e993fe3d98"
      },
      "outputs": [],
      "source": [
        "from sklearn.tree import export_graphviz\n",
        "from six import StringIO\n",
        "from IPython.display import Image  \n",
        "import pydotplus\n",
        "dot_data = StringIO()\n",
        "export_graphviz(dtree, out_file=dot_data)\n",
        "graph = pydotplus.graph_from_dot_data(dot_data.getvalue())\n",
        "#graph.write_png('/Users/yingli/Development/DataScienceLifeCycle/datasciencelifecycle/sample_code/tree.png')\n",
        "#Image(graph.create_png())"
      ]
    },
    {
      "cell_type": "code",
      "execution_count": 97,
      "metadata": {
        "colab": {
          "base_uri": "https://localhost:8080/"
        },
        "id": "1HGdddF2VkVh",
        "outputId": "cb9c37f3-81f8-44e5-a4fd-608486702259"
      },
      "outputs": [
        {
          "data": {
            "text/plain": [
              "0.8925"
            ]
          },
          "execution_count": 97,
          "metadata": {},
          "output_type": "execute_result"
        }
      ],
      "source": [
        "### this one should be double checked to see if we need it!\n",
        "\n",
        "from sklearn.metrics import accuracy_score\n",
        "accuracy_score(y_test, pred)\n",
        "#parameters: targets to be predicted and predictions from new data used before"
      ]
    },
    {
      "cell_type": "markdown",
      "metadata": {
        "id": "borIuhrM5GW0"
      },
      "source": [
        "### Random Forrest Check"
      ]
    },
    {
      "cell_type": "code",
      "execution_count": 98,
      "metadata": {
        "colab": {
          "base_uri": "https://localhost:8080/"
        },
        "id": "6TClA1cpxBJ1",
        "outputId": "eda1322f-a430-4f0f-bb9c-a982d9800f1c"
      },
      "outputs": [
        {
          "name": "stderr",
          "output_type": "stream",
          "text": [
            "/var/folders/kf/38b2x8pj2x50xtns4nqt6ysw0000gn/T/ipykernel_22112/1393499094.py:7: DataConversionWarning: A column-vector y was passed when a 1d array was expected. Please change the shape of y to (n_samples,), for example using ravel().\n",
            "  rtree.fit(x_train, y_train)  #train parameters: features and target\n",
            "/Users/yingli/opt/anaconda3/lib/python3.9/site-packages/sklearn/ensemble/_forest.py:427: FutureWarning: `max_features='auto'` has been deprecated in 1.1 and will be removed in 1.3. To keep the past behaviour, explicitly set `max_features='sqrt'` or remove this parameter as it is also the default value for RandomForestClassifiers and ExtraTreesClassifiers.\n",
            "  warn(\n"
          ]
        }
      ],
      "source": [
        "from sklearn.ensemble import RandomForestClassifier\n",
        "\n",
        "\n",
        "rtree = RandomForestClassifier(random_state=1, bootstrap = True, criterion = 'entropy',\n",
        "                                   max_features = 'auto', min_samples_leaf = 1,\n",
        "                                   min_samples_split = 5, n_estimators = 500)\n",
        "rtree.fit(x_train, y_train)  #train parameters: features and target\n",
        "rpred = rtree.predict(x_test)  #parameter: new data to predict"
      ]
    },
    {
      "cell_type": "code",
      "execution_count": 99,
      "metadata": {
        "colab": {
          "base_uri": "https://localhost:8080/"
        },
        "id": "C-T0Y7D7x0h5",
        "outputId": "3e5a7909-6bc6-426c-b6d4-fde9da23a79b"
      },
      "outputs": [
        {
          "data": {
            "text/plain": [
              "0.8855"
            ]
          },
          "execution_count": 99,
          "metadata": {},
          "output_type": "execute_result"
        }
      ],
      "source": [
        "rtree.score(x_test,y_test)"
      ]
    },
    {
      "cell_type": "code",
      "execution_count": 100,
      "metadata": {
        "colab": {
          "base_uri": "https://localhost:8080/"
        },
        "id": "BvFv_i8Px5Ns",
        "outputId": "62a67c14-1662-49ad-f420-7c4c0fea062b"
      },
      "outputs": [
        {
          "name": "stdout",
          "output_type": "stream",
          "text": [
            "[[5241  114]\n",
            " [ 573   72]]\n"
          ]
        }
      ],
      "source": [
        "cm = confusion_matrix(y_test, rpred)\n",
        "print (cm)"
      ]
    },
    {
      "cell_type": "markdown",
      "metadata": {
        "id": "5xrMFED25Qxb"
      },
      "source": [
        "## Decision Tree from df2"
      ]
    },
    {
      "cell_type": "markdown",
      "metadata": {
        "id": "Pu0QItmv2CU0"
      },
      "source": [
        "We follow similar steps to the previous section, with df2"
      ]
    },
    {
      "cell_type": "code",
      "execution_count": 101,
      "metadata": {
        "colab": {
          "base_uri": "https://localhost:8080/",
          "height": 312
        },
        "id": "kfzkT5anq6gb",
        "outputId": "f0e2c340-6062-4037-91bd-355d2c849a84"
      },
      "outputs": [
        {
          "ename": "KeyError",
          "evalue": "\"['num_top_cats', 'num_sub_cats'] not found in axis\"",
          "output_type": "error",
          "traceback": [
            "\u001b[0;31m---------------------------------------------------------------------------\u001b[0m",
            "\u001b[0;31mKeyError\u001b[0m                                  Traceback (most recent call last)",
            "\u001b[1;32m/Users/yingli/Development/DataScienceLifeCycle/datasciencelifecycle/sample_code/Churning_ID_review.ipynb Cell 169\u001b[0m in \u001b[0;36m<cell line: 1>\u001b[0;34m()\u001b[0m\n\u001b[0;32m----> <a href='vscode-notebook-cell:/Users/yingli/Development/DataScienceLifeCycle/datasciencelifecycle/sample_code/Churning_ID_review.ipynb#Y310sZmlsZQ%3D%3D?line=0'>1</a>\u001b[0m df2 \u001b[39m=\u001b[39m df2\u001b[39m.\u001b[39;49mdrop(columns \u001b[39m=\u001b[39;49m [\u001b[39m'\u001b[39;49m\u001b[39morder_id\u001b[39;49m\u001b[39m'\u001b[39;49m, \u001b[39m'\u001b[39;49m\u001b[39mmerchant_id\u001b[39;49m\u001b[39m'\u001b[39;49m, \u001b[39m'\u001b[39;49m\u001b[39mnum_top_cats\u001b[39;49m\u001b[39m'\u001b[39;49m, \u001b[39m'\u001b[39;49m\u001b[39mnum_sub_cats\u001b[39;49m\u001b[39m'\u001b[39;49m, \u001b[39m'\u001b[39;49m\u001b[39msince\u001b[39;49m\u001b[39m'\u001b[39;49m, \u001b[39m'\u001b[39;49m\u001b[39mmonth\u001b[39;49m\u001b[39m'\u001b[39;49m, \u001b[39m'\u001b[39;49m\u001b[39mquantity_purchased\u001b[39;49m\u001b[39m'\u001b[39;49m])\n",
            "File \u001b[0;32m~/opt/anaconda3/lib/python3.9/site-packages/pandas/util/_decorators.py:311\u001b[0m, in \u001b[0;36mdeprecate_nonkeyword_arguments.<locals>.decorate.<locals>.wrapper\u001b[0;34m(*args, **kwargs)\u001b[0m\n\u001b[1;32m    305\u001b[0m \u001b[39mif\u001b[39;00m \u001b[39mlen\u001b[39m(args) \u001b[39m>\u001b[39m num_allow_args:\n\u001b[1;32m    306\u001b[0m     warnings\u001b[39m.\u001b[39mwarn(\n\u001b[1;32m    307\u001b[0m         msg\u001b[39m.\u001b[39mformat(arguments\u001b[39m=\u001b[39marguments),\n\u001b[1;32m    308\u001b[0m         \u001b[39mFutureWarning\u001b[39;00m,\n\u001b[1;32m    309\u001b[0m         stacklevel\u001b[39m=\u001b[39mstacklevel,\n\u001b[1;32m    310\u001b[0m     )\n\u001b[0;32m--> 311\u001b[0m \u001b[39mreturn\u001b[39;00m func(\u001b[39m*\u001b[39;49margs, \u001b[39m*\u001b[39;49m\u001b[39m*\u001b[39;49mkwargs)\n",
            "File \u001b[0;32m~/opt/anaconda3/lib/python3.9/site-packages/pandas/core/frame.py:4954\u001b[0m, in \u001b[0;36mDataFrame.drop\u001b[0;34m(self, labels, axis, index, columns, level, inplace, errors)\u001b[0m\n\u001b[1;32m   4806\u001b[0m \u001b[39m@deprecate_nonkeyword_arguments\u001b[39m(version\u001b[39m=\u001b[39m\u001b[39mNone\u001b[39;00m, allowed_args\u001b[39m=\u001b[39m[\u001b[39m\"\u001b[39m\u001b[39mself\u001b[39m\u001b[39m\"\u001b[39m, \u001b[39m\"\u001b[39m\u001b[39mlabels\u001b[39m\u001b[39m\"\u001b[39m])\n\u001b[1;32m   4807\u001b[0m \u001b[39mdef\u001b[39;00m \u001b[39mdrop\u001b[39m(\n\u001b[1;32m   4808\u001b[0m     \u001b[39mself\u001b[39m,\n\u001b[0;32m   (...)\u001b[0m\n\u001b[1;32m   4815\u001b[0m     errors: \u001b[39mstr\u001b[39m \u001b[39m=\u001b[39m \u001b[39m\"\u001b[39m\u001b[39mraise\u001b[39m\u001b[39m\"\u001b[39m,\n\u001b[1;32m   4816\u001b[0m ):\n\u001b[1;32m   4817\u001b[0m     \u001b[39m\"\"\"\u001b[39;00m\n\u001b[1;32m   4818\u001b[0m \u001b[39m    Drop specified labels from rows or columns.\u001b[39;00m\n\u001b[1;32m   4819\u001b[0m \n\u001b[0;32m   (...)\u001b[0m\n\u001b[1;32m   4952\u001b[0m \u001b[39m            weight  1.0     0.8\u001b[39;00m\n\u001b[1;32m   4953\u001b[0m \u001b[39m    \"\"\"\u001b[39;00m\n\u001b[0;32m-> 4954\u001b[0m     \u001b[39mreturn\u001b[39;00m \u001b[39msuper\u001b[39;49m()\u001b[39m.\u001b[39;49mdrop(\n\u001b[1;32m   4955\u001b[0m         labels\u001b[39m=\u001b[39;49mlabels,\n\u001b[1;32m   4956\u001b[0m         axis\u001b[39m=\u001b[39;49maxis,\n\u001b[1;32m   4957\u001b[0m         index\u001b[39m=\u001b[39;49mindex,\n\u001b[1;32m   4958\u001b[0m         columns\u001b[39m=\u001b[39;49mcolumns,\n\u001b[1;32m   4959\u001b[0m         level\u001b[39m=\u001b[39;49mlevel,\n\u001b[1;32m   4960\u001b[0m         inplace\u001b[39m=\u001b[39;49minplace,\n\u001b[1;32m   4961\u001b[0m         errors\u001b[39m=\u001b[39;49merrors,\n\u001b[1;32m   4962\u001b[0m     )\n",
            "File \u001b[0;32m~/opt/anaconda3/lib/python3.9/site-packages/pandas/core/generic.py:4267\u001b[0m, in \u001b[0;36mNDFrame.drop\u001b[0;34m(self, labels, axis, index, columns, level, inplace, errors)\u001b[0m\n\u001b[1;32m   4265\u001b[0m \u001b[39mfor\u001b[39;00m axis, labels \u001b[39min\u001b[39;00m axes\u001b[39m.\u001b[39mitems():\n\u001b[1;32m   4266\u001b[0m     \u001b[39mif\u001b[39;00m labels \u001b[39mis\u001b[39;00m \u001b[39mnot\u001b[39;00m \u001b[39mNone\u001b[39;00m:\n\u001b[0;32m-> 4267\u001b[0m         obj \u001b[39m=\u001b[39m obj\u001b[39m.\u001b[39;49m_drop_axis(labels, axis, level\u001b[39m=\u001b[39;49mlevel, errors\u001b[39m=\u001b[39;49merrors)\n\u001b[1;32m   4269\u001b[0m \u001b[39mif\u001b[39;00m inplace:\n\u001b[1;32m   4270\u001b[0m     \u001b[39mself\u001b[39m\u001b[39m.\u001b[39m_update_inplace(obj)\n",
            "File \u001b[0;32m~/opt/anaconda3/lib/python3.9/site-packages/pandas/core/generic.py:4311\u001b[0m, in \u001b[0;36mNDFrame._drop_axis\u001b[0;34m(self, labels, axis, level, errors, consolidate, only_slice)\u001b[0m\n\u001b[1;32m   4309\u001b[0m         new_axis \u001b[39m=\u001b[39m axis\u001b[39m.\u001b[39mdrop(labels, level\u001b[39m=\u001b[39mlevel, errors\u001b[39m=\u001b[39merrors)\n\u001b[1;32m   4310\u001b[0m     \u001b[39melse\u001b[39;00m:\n\u001b[0;32m-> 4311\u001b[0m         new_axis \u001b[39m=\u001b[39m axis\u001b[39m.\u001b[39;49mdrop(labels, errors\u001b[39m=\u001b[39;49merrors)\n\u001b[1;32m   4312\u001b[0m     indexer \u001b[39m=\u001b[39m axis\u001b[39m.\u001b[39mget_indexer(new_axis)\n\u001b[1;32m   4314\u001b[0m \u001b[39m# Case for non-unique axis\u001b[39;00m\n\u001b[1;32m   4315\u001b[0m \u001b[39melse\u001b[39;00m:\n",
            "File \u001b[0;32m~/opt/anaconda3/lib/python3.9/site-packages/pandas/core/indexes/base.py:6644\u001b[0m, in \u001b[0;36mIndex.drop\u001b[0;34m(self, labels, errors)\u001b[0m\n\u001b[1;32m   6642\u001b[0m \u001b[39mif\u001b[39;00m mask\u001b[39m.\u001b[39many():\n\u001b[1;32m   6643\u001b[0m     \u001b[39mif\u001b[39;00m errors \u001b[39m!=\u001b[39m \u001b[39m\"\u001b[39m\u001b[39mignore\u001b[39m\u001b[39m\"\u001b[39m:\n\u001b[0;32m-> 6644\u001b[0m         \u001b[39mraise\u001b[39;00m \u001b[39mKeyError\u001b[39;00m(\u001b[39mf\u001b[39m\u001b[39m\"\u001b[39m\u001b[39m{\u001b[39;00m\u001b[39mlist\u001b[39m(labels[mask])\u001b[39m}\u001b[39;00m\u001b[39m not found in axis\u001b[39m\u001b[39m\"\u001b[39m)\n\u001b[1;32m   6645\u001b[0m     indexer \u001b[39m=\u001b[39m indexer[\u001b[39m~\u001b[39mmask]\n\u001b[1;32m   6646\u001b[0m \u001b[39mreturn\u001b[39;00m \u001b[39mself\u001b[39m\u001b[39m.\u001b[39mdelete(indexer)\n",
            "\u001b[0;31mKeyError\u001b[0m: \"['num_top_cats', 'num_sub_cats'] not found in axis\""
          ]
        }
      ],
      "source": [
        "df2 = df2.drop(columns = ['order_id', 'merchant_id', 'num_top_cats', 'num_sub_cats', 'since', 'month', 'quantity_purchased'])"
      ]
    },
    {
      "cell_type": "code",
      "execution_count": null,
      "metadata": {
        "id": "bHT-TkLsqm0m"
      },
      "outputs": [],
      "source": [
        "df2 = df2.dropna()"
      ]
    },
    {
      "cell_type": "code",
      "execution_count": null,
      "metadata": {
        "id": "VvWNL_NOrA6n"
      },
      "outputs": [],
      "source": [
        "A = df2.loc[:, df2.columns != 'churner']\n",
        "B = df2.loc[:, df2.columns == 'churner']"
      ]
    },
    {
      "cell_type": "code",
      "execution_count": null,
      "metadata": {
        "id": "vkF_9VrRrJ1n"
      },
      "outputs": [],
      "source": [
        "a_train, a_test, b_train, b_test = train_test_split(A, B, test_size=.2)"
      ]
    },
    {
      "cell_type": "code",
      "execution_count": null,
      "metadata": {
        "colab": {
          "base_uri": "https://localhost:8080/",
          "height": 485
        },
        "id": "TGNmgmcECuOy",
        "outputId": "fadeeab0-4995-42f9-d38f-817bbb3fda45"
      },
      "outputs": [
        {
          "ename": "TypeError",
          "evalue": "ignored",
          "output_type": "error",
          "traceback": [
            "\u001b[0;31m---------------------------------------------------------------------------\u001b[0m",
            "\u001b[0;31mTypeError\u001b[0m                                 Traceback (most recent call last)",
            "\u001b[0;32m<ipython-input-112-c8c1c2e7e851>\u001b[0m in \u001b[0;36m<module>\u001b[0;34m\u001b[0m\n\u001b[1;32m      1\u001b[0m \u001b[0mdtree\u001b[0m \u001b[0;34m=\u001b[0m \u001b[0mDecisionTreeClassifier\u001b[0m\u001b[0;34m(\u001b[0m\u001b[0mrandom_state\u001b[0m \u001b[0;34m=\u001b[0m \u001b[0;36m0\u001b[0m\u001b[0;34m,\u001b[0m \u001b[0mmax_depth\u001b[0m \u001b[0;34m=\u001b[0m \u001b[0;36m4\u001b[0m\u001b[0;34m)\u001b[0m\u001b[0;34m\u001b[0m\u001b[0;34m\u001b[0m\u001b[0m\n\u001b[0;32m----> 2\u001b[0;31m \u001b[0mdtree\u001b[0m\u001b[0;34m.\u001b[0m\u001b[0mfit\u001b[0m\u001b[0;34m(\u001b[0m\u001b[0ma_train\u001b[0m\u001b[0;34m,\u001b[0m \u001b[0mb_train\u001b[0m\u001b[0;34m)\u001b[0m  \u001b[0;31m#train parameters: features and target\u001b[0m\u001b[0;34m\u001b[0m\u001b[0;34m\u001b[0m\u001b[0m\n\u001b[0m\u001b[1;32m      3\u001b[0m \u001b[0mpred_a\u001b[0m \u001b[0;34m=\u001b[0m \u001b[0mdtree\u001b[0m\u001b[0;34m.\u001b[0m\u001b[0mpredict\u001b[0m\u001b[0;34m(\u001b[0m\u001b[0ma_test\u001b[0m\u001b[0;34m)\u001b[0m  \u001b[0;31m#parameter: new data to predict\u001b[0m\u001b[0;34m\u001b[0m\u001b[0;34m\u001b[0m\u001b[0m\n\u001b[1;32m      4\u001b[0m \u001b[0;34m\u001b[0m\u001b[0m\n\u001b[1;32m      5\u001b[0m \u001b[0ma_train\u001b[0m\u001b[0;34m\u001b[0m\u001b[0;34m\u001b[0m\u001b[0m\n",
            "\u001b[0;32m/usr/local/lib/python3.7/dist-packages/sklearn/tree/_classes.py\u001b[0m in \u001b[0;36mfit\u001b[0;34m(self, X, y, sample_weight, check_input, X_idx_sorted)\u001b[0m\n\u001b[1;32m    940\u001b[0m             \u001b[0msample_weight\u001b[0m\u001b[0;34m=\u001b[0m\u001b[0msample_weight\u001b[0m\u001b[0;34m,\u001b[0m\u001b[0;34m\u001b[0m\u001b[0;34m\u001b[0m\u001b[0m\n\u001b[1;32m    941\u001b[0m             \u001b[0mcheck_input\u001b[0m\u001b[0;34m=\u001b[0m\u001b[0mcheck_input\u001b[0m\u001b[0;34m,\u001b[0m\u001b[0;34m\u001b[0m\u001b[0;34m\u001b[0m\u001b[0m\n\u001b[0;32m--> 942\u001b[0;31m             \u001b[0mX_idx_sorted\u001b[0m\u001b[0;34m=\u001b[0m\u001b[0mX_idx_sorted\u001b[0m\u001b[0;34m,\u001b[0m\u001b[0;34m\u001b[0m\u001b[0;34m\u001b[0m\u001b[0m\n\u001b[0m\u001b[1;32m    943\u001b[0m         )\n\u001b[1;32m    944\u001b[0m         \u001b[0;32mreturn\u001b[0m \u001b[0mself\u001b[0m\u001b[0;34m\u001b[0m\u001b[0;34m\u001b[0m\u001b[0m\n",
            "\u001b[0;32m/usr/local/lib/python3.7/dist-packages/sklearn/tree/_classes.py\u001b[0m in \u001b[0;36mfit\u001b[0;34m(self, X, y, sample_weight, check_input, X_idx_sorted)\u001b[0m\n\u001b[1;32m    164\u001b[0m             \u001b[0mcheck_y_params\u001b[0m \u001b[0;34m=\u001b[0m \u001b[0mdict\u001b[0m\u001b[0;34m(\u001b[0m\u001b[0mensure_2d\u001b[0m\u001b[0;34m=\u001b[0m\u001b[0;32mFalse\u001b[0m\u001b[0;34m,\u001b[0m \u001b[0mdtype\u001b[0m\u001b[0;34m=\u001b[0m\u001b[0;32mNone\u001b[0m\u001b[0;34m)\u001b[0m\u001b[0;34m\u001b[0m\u001b[0;34m\u001b[0m\u001b[0m\n\u001b[1;32m    165\u001b[0m             X, y = self._validate_data(\n\u001b[0;32m--> 166\u001b[0;31m                 \u001b[0mX\u001b[0m\u001b[0;34m,\u001b[0m \u001b[0my\u001b[0m\u001b[0;34m,\u001b[0m \u001b[0mvalidate_separately\u001b[0m\u001b[0;34m=\u001b[0m\u001b[0;34m(\u001b[0m\u001b[0mcheck_X_params\u001b[0m\u001b[0;34m,\u001b[0m \u001b[0mcheck_y_params\u001b[0m\u001b[0;34m)\u001b[0m\u001b[0;34m\u001b[0m\u001b[0;34m\u001b[0m\u001b[0m\n\u001b[0m\u001b[1;32m    167\u001b[0m             )\n\u001b[1;32m    168\u001b[0m             \u001b[0;32mif\u001b[0m \u001b[0missparse\u001b[0m\u001b[0;34m(\u001b[0m\u001b[0mX\u001b[0m\u001b[0;34m)\u001b[0m\u001b[0;34m:\u001b[0m\u001b[0;34m\u001b[0m\u001b[0;34m\u001b[0m\u001b[0m\n",
            "\u001b[0;32m/usr/local/lib/python3.7/dist-packages/sklearn/base.py\u001b[0m in \u001b[0;36m_validate_data\u001b[0;34m(self, X, y, reset, validate_separately, **check_params)\u001b[0m\n\u001b[1;32m    576\u001b[0m                 \u001b[0;31m# :(\u001b[0m\u001b[0;34m\u001b[0m\u001b[0;34m\u001b[0m\u001b[0;34m\u001b[0m\u001b[0m\n\u001b[1;32m    577\u001b[0m                 \u001b[0mcheck_X_params\u001b[0m\u001b[0;34m,\u001b[0m \u001b[0mcheck_y_params\u001b[0m \u001b[0;34m=\u001b[0m \u001b[0mvalidate_separately\u001b[0m\u001b[0;34m\u001b[0m\u001b[0;34m\u001b[0m\u001b[0m\n\u001b[0;32m--> 578\u001b[0;31m                 \u001b[0mX\u001b[0m \u001b[0;34m=\u001b[0m \u001b[0mcheck_array\u001b[0m\u001b[0;34m(\u001b[0m\u001b[0mX\u001b[0m\u001b[0;34m,\u001b[0m \u001b[0;34m**\u001b[0m\u001b[0mcheck_X_params\u001b[0m\u001b[0;34m)\u001b[0m\u001b[0;34m\u001b[0m\u001b[0;34m\u001b[0m\u001b[0m\n\u001b[0m\u001b[1;32m    579\u001b[0m                 \u001b[0my\u001b[0m \u001b[0;34m=\u001b[0m \u001b[0mcheck_array\u001b[0m\u001b[0;34m(\u001b[0m\u001b[0my\u001b[0m\u001b[0;34m,\u001b[0m \u001b[0;34m**\u001b[0m\u001b[0mcheck_y_params\u001b[0m\u001b[0;34m)\u001b[0m\u001b[0;34m\u001b[0m\u001b[0;34m\u001b[0m\u001b[0m\n\u001b[1;32m    580\u001b[0m             \u001b[0;32melse\u001b[0m\u001b[0;34m:\u001b[0m\u001b[0;34m\u001b[0m\u001b[0;34m\u001b[0m\u001b[0m\n",
            "\u001b[0;32m/usr/local/lib/python3.7/dist-packages/sklearn/utils/validation.py\u001b[0m in \u001b[0;36mcheck_array\u001b[0;34m(array, accept_sparse, accept_large_sparse, dtype, order, copy, force_all_finite, ensure_2d, allow_nd, ensure_min_samples, ensure_min_features, estimator)\u001b[0m\n\u001b[1;32m    663\u001b[0m \u001b[0;34m\u001b[0m\u001b[0m\n\u001b[1;32m    664\u001b[0m         \u001b[0;32mif\u001b[0m \u001b[0mall\u001b[0m\u001b[0;34m(\u001b[0m\u001b[0misinstance\u001b[0m\u001b[0;34m(\u001b[0m\u001b[0mdtype\u001b[0m\u001b[0;34m,\u001b[0m \u001b[0mnp\u001b[0m\u001b[0;34m.\u001b[0m\u001b[0mdtype\u001b[0m\u001b[0;34m)\u001b[0m \u001b[0;32mfor\u001b[0m \u001b[0mdtype\u001b[0m \u001b[0;32min\u001b[0m \u001b[0mdtypes_orig\u001b[0m\u001b[0;34m)\u001b[0m\u001b[0;34m:\u001b[0m\u001b[0;34m\u001b[0m\u001b[0;34m\u001b[0m\u001b[0m\n\u001b[0;32m--> 665\u001b[0;31m             \u001b[0mdtype_orig\u001b[0m \u001b[0;34m=\u001b[0m \u001b[0mnp\u001b[0m\u001b[0;34m.\u001b[0m\u001b[0mresult_type\u001b[0m\u001b[0;34m(\u001b[0m\u001b[0;34m*\u001b[0m\u001b[0mdtypes_orig\u001b[0m\u001b[0;34m)\u001b[0m\u001b[0;34m\u001b[0m\u001b[0;34m\u001b[0m\u001b[0m\n\u001b[0m\u001b[1;32m    666\u001b[0m \u001b[0;34m\u001b[0m\u001b[0m\n\u001b[1;32m    667\u001b[0m     \u001b[0;32mif\u001b[0m \u001b[0mdtype_numeric\u001b[0m\u001b[0;34m:\u001b[0m\u001b[0;34m\u001b[0m\u001b[0;34m\u001b[0m\u001b[0m\n",
            "\u001b[0;32m<__array_function__ internals>\u001b[0m in \u001b[0;36mresult_type\u001b[0;34m(*args, **kwargs)\u001b[0m\n",
            "\u001b[0;31mTypeError\u001b[0m: The DType <class 'numpy.dtype[float64]'> could not be promoted by <class 'numpy.dtype[timedelta64]'>. This means that no common DType exists for the given inputs. For example they cannot be stored in a single array unless the dtype is `object`. The full list of DTypes is: (<class 'numpy.dtype[int64]'>, <class 'numpy.dtype[int64]'>, <class 'numpy.dtype[float64]'>, <class 'numpy.dtype[int64]'>, <class 'numpy.dtype[int64]'>, <class 'numpy.dtype[int64]'>, <class 'numpy.dtype[timedelta64]'>, <class 'numpy.dtype[int64]'>, <class 'numpy.dtype[float64]'>)"
          ]
        }
      ],
      "source": [
        "dtree = DecisionTreeClassifier(random_state = 0, max_depth = 4)\n",
        "dtree.fit(a_train, b_train)  #train parameters: features and target\n",
        "pred_a = dtree.predict(a_test)  #parameter: new data to predict\n",
        "\n",
        "a_train"
      ]
    },
    {
      "cell_type": "code",
      "execution_count": null,
      "metadata": {
        "id": "nQJJbixeDDxi"
      },
      "outputs": [],
      "source": [
        "accuracy_score_a = accuracy_score(b_test, pred_a)\n",
        "accuracy_score_a"
      ]
    },
    {
      "cell_type": "code",
      "execution_count": null,
      "metadata": {
        "id": "nFg4ALD9rXL3"
      },
      "outputs": [],
      "source": [
        "pred2 = dtree.predict(a_test)\n",
        "accuracy_score(b_test, pred2)"
      ]
    }
  ],
  "metadata": {
    "colab": {
      "provenance": []
    },
    "kernelspec": {
      "display_name": "Python 3.9.12 ('base')",
      "language": "python",
      "name": "python3"
    },
    "language_info": {
      "codemirror_mode": {
        "name": "ipython",
        "version": 3
      },
      "file_extension": ".py",
      "mimetype": "text/x-python",
      "name": "python",
      "nbconvert_exporter": "python",
      "pygments_lexer": "ipython3",
      "version": "3.9.12"
    },
    "vscode": {
      "interpreter": {
        "hash": "e57d65b3db466a255fb366a0fd9ddb903b84d832e81688bf0eb6e7b10d96915d"
      }
    }
  },
  "nbformat": 4,
  "nbformat_minor": 0
}
