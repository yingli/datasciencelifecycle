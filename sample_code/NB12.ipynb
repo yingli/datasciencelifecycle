{
 "cells": [
  {
   "cell_type": "code",
   "execution_count": null,
   "metadata": {},
   "outputs": [],
   "source": [
    "from basket_util import *\n",
    "\n",
    "import pandas as pd\n",
    "import numpy as np\n",
    "import seaborn as sns\n",
    "import matplotlib.pyplot as plt\n",
    "import matplotlib.cm as cm\n",
    "import math\n",
    "import collections\n",
    "\n",
    "import plotly as py\n",
    "import plotly.express as px\n",
    "import plotly.offline as pyo\n",
    "import plotly.graph_objs as go\n",
    "\n",
    "from pySankey.sankey import sankey\n",
    "\n",
    "from mlxtend.preprocessing import TransactionEncoder\n",
    "from mlxtend.frequent_patterns import association_rules\n",
    "from mlxtend.frequent_patterns import fpgrowth\n",
    "\n",
    "from sklearn.cluster import KMeans\n",
    "from sklearn.metrics import silhouette_samples, silhouette_score\n",
    "\n",
    "from datetime import datetime, timedelta\n",
    "\n",
    "import warnings\n",
    "warnings.filterwarnings('ignore')\n",
    "\n",
    "from plotly.offline import iplot, plot, init_notebook_mode, download_plotlyjs\n",
    "init_notebook_mode(connected=True)\n"
   ]
  },
  {
   "cell_type": "code",
   "execution_count": null,
   "metadata": {},
   "outputs": [],
   "source": [
    "df = (merchants\n",
    "    #.query('last_month < 20')\n",
    "    .groupby(['first_month','last_month'])\n",
    "    ['merchant_id']\n",
    "    .agg('nunique')\n",
    "    .reset_index()\n",
    ")\n",
    "df[df['first_month']==df['last_month']].merchant_id.sum()"
   ]
  },
  {
   "cell_type": "code",
   "execution_count": null,
   "metadata": {},
   "outputs": [],
   "source": [
    "df1 = (merchants\n",
    "    .query('tenure_month > 2' and 'last_month == 16')\n",
    ") # churner\n",
    "df2 = (merchants\n",
    "    .query('tenure_month > 5' and 'last_month > 16')\n",
    ") # non-churner\n",
    "df1.merchant_id.nunique(), df2.merchant_id.nunique()"
   ]
  },
  {
   "cell_type": "code",
   "execution_count": null,
   "metadata": {},
   "outputs": [],
   "source": [
    "df1 = (merchants\n",
    "    .query('tenure_month > 2')\n",
    "    .query('last_month == 16')\n",
    ") # churner\n",
    "df2 = (merchants\n",
    "    .query('tenure_month > 5')\n",
    "    .query('last_month > 16')\n",
    ") # non-churner\n",
    "df1.merchant_id.nunique(), df2.merchant_id.nunique()"
   ]
  },
  {
   "cell_type": "code",
   "execution_count": null,
   "metadata": {},
   "outputs": [],
   "source": [
    "df = (merchants.query('last_month > 16' and 'tenure_month > 5')\n",
    "    .groupby('tenure_month')\n",
    "    ['merchant_id']\n",
    "    .agg('nunique') # aggregate using custom function\n",
    "    .reset_index()\n",
    "    #.query('month_num < 18')\n",
    ")\n",
    "df.merchant_id.sum()"
   ]
  },
  {
   "cell_type": "code",
   "execution_count": null,
   "metadata": {},
   "outputs": [],
   "source": [
    "df = (baskets #.query('month_num < 18')\n",
    "    .groupby('merchant_id')\n",
    "    ['month_num']\n",
    "    .agg(max) # aggregate using custom function\n",
    "    .reset_index()\n",
    "    .query('month_num < 18')\n",
    ")\n",
    "df.shape"
   ]
  }
 ],
 "metadata": {
  "kernelspec": {
   "display_name": "Python 3.8.2 64-bit",
   "language": "python",
   "name": "python3"
  },
  "language_info": {
   "name": "python",
   "version": "3.8.2"
  },
  "orig_nbformat": 4,
  "vscode": {
   "interpreter": {
    "hash": "31f2aee4e71d21fbe5cf8b01ff0e069b9275f58929596ceb00d14d90e3e16cd6"
   }
  }
 },
 "nbformat": 4,
 "nbformat_minor": 2
}
