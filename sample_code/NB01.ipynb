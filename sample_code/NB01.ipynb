{
 "cells": [
  {
   "cell_type": "markdown",
   "metadata": {},
   "source": [
    "## Setting up"
   ]
  },
  {
   "cell_type": "markdown",
   "metadata": {},
   "source": [
    "### Import pandas and read in the csv file and set it to a dataframe called baskets"
   ]
  },
  {
   "cell_type": "code",
   "execution_count": 1,
   "metadata": {
    "id": "2eYcfvLr2ahn",
    "pycharm": {
     "name": "#%%\n"
    }
   },
   "outputs": [],
   "source": [
    "import pandas as pd\n",
    "import numpy as np"
   ]
  },
  {
   "cell_type": "code",
   "execution_count": 2,
   "metadata": {},
   "outputs": [],
   "source": [
    "baskets = pd.read_csv('new_baskets_full.csv')"
   ]
  },
  {
   "cell_type": "markdown",
   "metadata": {},
   "source": [
    "## Conduct basic data inspection\n",
    "\n",
    " - take a look at the first three rows, and last few rows"
   ]
  },
  {
   "cell_type": "code",
   "execution_count": 3,
   "metadata": {},
   "outputs": [
    {
     "data": {
      "text/html": [
       "<div>\n",
       "<style scoped>\n",
       "    .dataframe tbody tr th:only-of-type {\n",
       "        vertical-align: middle;\n",
       "    }\n",
       "\n",
       "    .dataframe tbody tr th {\n",
       "        vertical-align: top;\n",
       "    }\n",
       "\n",
       "    .dataframe thead th {\n",
       "        text-align: right;\n",
       "    }\n",
       "</style>\n",
       "<table border=\"1\" class=\"dataframe\">\n",
       "  <thead>\n",
       "    <tr style=\"text-align: right;\">\n",
       "      <th></th>\n",
       "      <th>id</th>\n",
       "      <th>order_id</th>\n",
       "      <th>placed_at</th>\n",
       "      <th>merchant_id</th>\n",
       "      <th>sku_id</th>\n",
       "      <th>top_cat_id</th>\n",
       "      <th>sub_cat_id</th>\n",
       "      <th>qty</th>\n",
       "      <th>price</th>\n",
       "    </tr>\n",
       "  </thead>\n",
       "  <tbody>\n",
       "    <tr>\n",
       "      <th>0</th>\n",
       "      <td>1</td>\n",
       "      <td>2</td>\n",
       "      <td>2021-04-09 16:19:27.998</td>\n",
       "      <td>46</td>\n",
       "      <td>101</td>\n",
       "      <td>3.0</td>\n",
       "      <td>94.0</td>\n",
       "      <td>400</td>\n",
       "      <td>134000.0</td>\n",
       "    </tr>\n",
       "    <tr>\n",
       "      <th>1</th>\n",
       "      <td>2</td>\n",
       "      <td>2</td>\n",
       "      <td>2021-04-09 16:19:27.998</td>\n",
       "      <td>46</td>\n",
       "      <td>100</td>\n",
       "      <td>3.0</td>\n",
       "      <td>94.0</td>\n",
       "      <td>400</td>\n",
       "      <td>137000.0</td>\n",
       "    </tr>\n",
       "    <tr>\n",
       "      <th>2</th>\n",
       "      <td>3</td>\n",
       "      <td>2</td>\n",
       "      <td>2021-04-09 16:19:27.998</td>\n",
       "      <td>46</td>\n",
       "      <td>102</td>\n",
       "      <td>3.0</td>\n",
       "      <td>94.0</td>\n",
       "      <td>400</td>\n",
       "      <td>169000.0</td>\n",
       "    </tr>\n",
       "  </tbody>\n",
       "</table>\n",
       "</div>"
      ],
      "text/plain": [
       "   id  order_id                placed_at  merchant_id  sku_id  top_cat_id  \\\n",
       "0   1         2  2021-04-09 16:19:27.998           46     101         3.0   \n",
       "1   2         2  2021-04-09 16:19:27.998           46     100         3.0   \n",
       "2   3         2  2021-04-09 16:19:27.998           46     102         3.0   \n",
       "\n",
       "   sub_cat_id  qty     price  \n",
       "0        94.0  400  134000.0  \n",
       "1        94.0  400  137000.0  \n",
       "2        94.0  400  169000.0  "
      ]
     },
     "execution_count": 3,
     "metadata": {},
     "output_type": "execute_result"
    }
   ],
   "source": [
    "baskets.head(3)"
   ]
  },
  {
   "cell_type": "code",
   "execution_count": 4,
   "metadata": {},
   "outputs": [
    {
     "data": {
      "text/html": [
       "<div>\n",
       "<style scoped>\n",
       "    .dataframe tbody tr th:only-of-type {\n",
       "        vertical-align: middle;\n",
       "    }\n",
       "\n",
       "    .dataframe tbody tr th {\n",
       "        vertical-align: top;\n",
       "    }\n",
       "\n",
       "    .dataframe thead th {\n",
       "        text-align: right;\n",
       "    }\n",
       "</style>\n",
       "<table border=\"1\" class=\"dataframe\">\n",
       "  <thead>\n",
       "    <tr style=\"text-align: right;\">\n",
       "      <th></th>\n",
       "      <th>id</th>\n",
       "      <th>order_id</th>\n",
       "      <th>placed_at</th>\n",
       "      <th>merchant_id</th>\n",
       "      <th>sku_id</th>\n",
       "      <th>top_cat_id</th>\n",
       "      <th>sub_cat_id</th>\n",
       "      <th>qty</th>\n",
       "      <th>price</th>\n",
       "    </tr>\n",
       "  </thead>\n",
       "  <tbody>\n",
       "    <tr>\n",
       "      <th>336467</th>\n",
       "      <td>336466</td>\n",
       "      <td>61811</td>\n",
       "      <td>2022-08-15 22:08:20.176</td>\n",
       "      <td>122</td>\n",
       "      <td>684</td>\n",
       "      <td>32.0</td>\n",
       "      <td>85.0</td>\n",
       "      <td>2</td>\n",
       "      <td>127000.0</td>\n",
       "    </tr>\n",
       "    <tr>\n",
       "      <th>336468</th>\n",
       "      <td>336467</td>\n",
       "      <td>61960</td>\n",
       "      <td>2022-08-15 22:43:04.251</td>\n",
       "      <td>552</td>\n",
       "      <td>1326</td>\n",
       "      <td>9.0</td>\n",
       "      <td>23.0</td>\n",
       "      <td>2</td>\n",
       "      <td>424500.0</td>\n",
       "    </tr>\n",
       "    <tr>\n",
       "      <th>336469</th>\n",
       "      <td>330841</td>\n",
       "      <td>59500</td>\n",
       "      <td>2022-08-15 23:43:03.647</td>\n",
       "      <td>1906</td>\n",
       "      <td>530</td>\n",
       "      <td>14.0</td>\n",
       "      <td>86.0</td>\n",
       "      <td>10</td>\n",
       "      <td>56000.0</td>\n",
       "    </tr>\n",
       "    <tr>\n",
       "      <th>336470</th>\n",
       "      <td>330848</td>\n",
       "      <td>59500</td>\n",
       "      <td>2022-08-15 23:43:03.647</td>\n",
       "      <td>1906</td>\n",
       "      <td>564</td>\n",
       "      <td>14.0</td>\n",
       "      <td>86.0</td>\n",
       "      <td>5</td>\n",
       "      <td>28000.0</td>\n",
       "    </tr>\n",
       "    <tr>\n",
       "      <th>336471</th>\n",
       "      <td>336468</td>\n",
       "      <td>59500</td>\n",
       "      <td>2022-08-15 23:43:03.647</td>\n",
       "      <td>1906</td>\n",
       "      <td>200</td>\n",
       "      <td>4.0</td>\n",
       "      <td>7.0</td>\n",
       "      <td>20</td>\n",
       "      <td>14750.0</td>\n",
       "    </tr>\n",
       "  </tbody>\n",
       "</table>\n",
       "</div>"
      ],
      "text/plain": [
       "            id  order_id                placed_at  merchant_id  sku_id  \\\n",
       "336467  336466     61811  2022-08-15 22:08:20.176          122     684   \n",
       "336468  336467     61960  2022-08-15 22:43:04.251          552    1326   \n",
       "336469  330841     59500  2022-08-15 23:43:03.647         1906     530   \n",
       "336470  330848     59500  2022-08-15 23:43:03.647         1906     564   \n",
       "336471  336468     59500  2022-08-15 23:43:03.647         1906     200   \n",
       "\n",
       "        top_cat_id  sub_cat_id  qty     price  \n",
       "336467        32.0        85.0    2  127000.0  \n",
       "336468         9.0        23.0    2  424500.0  \n",
       "336469        14.0        86.0   10   56000.0  \n",
       "336470        14.0        86.0    5   28000.0  \n",
       "336471         4.0         7.0   20   14750.0  "
      ]
     },
     "execution_count": 4,
     "metadata": {},
     "output_type": "execute_result"
    }
   ],
   "source": [
    "baskets.tail()"
   ]
  },
  {
   "cell_type": "markdown",
   "metadata": {},
   "source": [
    "### dataframe dimensions, column names, column data types, ranges of column values"
   ]
  },
  {
   "cell_type": "code",
   "execution_count": 5,
   "metadata": {},
   "outputs": [
    {
     "data": {
      "text/plain": [
       "(336472, 9)"
      ]
     },
     "execution_count": 5,
     "metadata": {},
     "output_type": "execute_result"
    }
   ],
   "source": [
    "baskets.shape"
   ]
  },
  {
   "cell_type": "code",
   "execution_count": 6,
   "metadata": {
    "colab": {
     "base_uri": "https://localhost:8080/"
    },
    "id": "fiOM4VZs9ZRV",
    "outputId": "58b2036b-2ad6-4100-d7e2-520f823c9a93",
    "pycharm": {
     "name": "#%%\n"
    }
   },
   "outputs": [
    {
     "data": {
      "text/plain": [
       "Index(['id', 'order_id', 'placed_at', 'merchant_id', 'sku_id', 'top_cat_id',\n",
       "       'sub_cat_id', 'qty', 'price'],\n",
       "      dtype='object')"
      ]
     },
     "execution_count": 6,
     "metadata": {},
     "output_type": "execute_result"
    }
   ],
   "source": [
    "baskets.columns"
   ]
  },
  {
   "cell_type": "code",
   "execution_count": 7,
   "metadata": {},
   "outputs": [
    {
     "data": {
      "text/plain": [
       "id               int64\n",
       "order_id         int64\n",
       "placed_at       object\n",
       "merchant_id      int64\n",
       "sku_id           int64\n",
       "top_cat_id     float64\n",
       "sub_cat_id     float64\n",
       "qty              int64\n",
       "price          float64\n",
       "dtype: object"
      ]
     },
     "execution_count": 7,
     "metadata": {},
     "output_type": "execute_result"
    }
   ],
   "source": [
    "baskets.dtypes"
   ]
  },
  {
   "cell_type": "markdown",
   "metadata": {},
   "source": [
    " - noticed columns \"placed_at\" is not numeric and the rest are numerical columns"
   ]
  },
  {
   "cell_type": "code",
   "execution_count": 8,
   "metadata": {},
   "outputs": [
    {
     "name": "stdout",
     "output_type": "stream",
     "text": [
      "<class 'pandas.core.frame.DataFrame'>\n",
      "RangeIndex: 336472 entries, 0 to 336471\n",
      "Data columns (total 9 columns):\n",
      " #   Column       Non-Null Count   Dtype  \n",
      "---  ------       --------------   -----  \n",
      " 0   id           336472 non-null  int64  \n",
      " 1   order_id     336472 non-null  int64  \n",
      " 2   placed_at    336472 non-null  object \n",
      " 3   merchant_id  336472 non-null  int64  \n",
      " 4   sku_id       336472 non-null  int64  \n",
      " 5   top_cat_id   336461 non-null  float64\n",
      " 6   sub_cat_id   336461 non-null  float64\n",
      " 7   qty          336472 non-null  int64  \n",
      " 8   price        336472 non-null  float64\n",
      "dtypes: float64(3), int64(5), object(1)\n",
      "memory usage: 23.1+ MB\n"
     ]
    }
   ],
   "source": [
    "baskets.info()"
   ]
  },
  {
   "cell_type": "markdown",
   "metadata": {},
   "source": [
    " - question: what can you observe from the above result?"
   ]
  },
  {
   "cell_type": "markdown",
   "metadata": {},
   "source": [
    " - why are the count on top_cat_id and sub_cat_id different from others? "
   ]
  },
  {
   "cell_type": "code",
   "execution_count": 9,
   "metadata": {},
   "outputs": [
    {
     "data": {
      "text/html": [
       "<div>\n",
       "<style scoped>\n",
       "    .dataframe tbody tr th:only-of-type {\n",
       "        vertical-align: middle;\n",
       "    }\n",
       "\n",
       "    .dataframe tbody tr th {\n",
       "        vertical-align: top;\n",
       "    }\n",
       "\n",
       "    .dataframe thead th {\n",
       "        text-align: right;\n",
       "    }\n",
       "</style>\n",
       "<table border=\"1\" class=\"dataframe\">\n",
       "  <thead>\n",
       "    <tr style=\"text-align: right;\">\n",
       "      <th></th>\n",
       "      <th>id</th>\n",
       "      <th>order_id</th>\n",
       "      <th>merchant_id</th>\n",
       "      <th>sku_id</th>\n",
       "      <th>top_cat_id</th>\n",
       "      <th>sub_cat_id</th>\n",
       "      <th>qty</th>\n",
       "      <th>price</th>\n",
       "    </tr>\n",
       "  </thead>\n",
       "  <tbody>\n",
       "    <tr>\n",
       "      <th>count</th>\n",
       "      <td>336472.000000</td>\n",
       "      <td>336472.000000</td>\n",
       "      <td>336472.000000</td>\n",
       "      <td>336472.000000</td>\n",
       "      <td>336461.000000</td>\n",
       "      <td>336461.000000</td>\n",
       "      <td>3.364720e+05</td>\n",
       "      <td>3.364720e+05</td>\n",
       "    </tr>\n",
       "    <tr>\n",
       "      <th>mean</th>\n",
       "      <td>168236.500000</td>\n",
       "      <td>29079.405656</td>\n",
       "      <td>798.592706</td>\n",
       "      <td>525.308685</td>\n",
       "      <td>10.319098</td>\n",
       "      <td>45.395065</td>\n",
       "      <td>3.789684e+01</td>\n",
       "      <td>1.378956e+05</td>\n",
       "    </tr>\n",
       "    <tr>\n",
       "      <th>std</th>\n",
       "      <td>97131.244225</td>\n",
       "      <td>18909.738357</td>\n",
       "      <td>550.271799</td>\n",
       "      <td>304.262943</td>\n",
       "      <td>7.906257</td>\n",
       "      <td>27.767388</td>\n",
       "      <td>1.035873e+04</td>\n",
       "      <td>1.744689e+05</td>\n",
       "    </tr>\n",
       "    <tr>\n",
       "      <th>min</th>\n",
       "      <td>1.000000</td>\n",
       "      <td>1.000000</td>\n",
       "      <td>1.000000</td>\n",
       "      <td>1.000000</td>\n",
       "      <td>1.000000</td>\n",
       "      <td>1.000000</td>\n",
       "      <td>1.000000e+00</td>\n",
       "      <td>4.375000e-02</td>\n",
       "    </tr>\n",
       "    <tr>\n",
       "      <th>25%</th>\n",
       "      <td>84118.750000</td>\n",
       "      <td>11485.000000</td>\n",
       "      <td>352.000000</td>\n",
       "      <td>322.000000</td>\n",
       "      <td>4.000000</td>\n",
       "      <td>27.000000</td>\n",
       "      <td>1.000000e+00</td>\n",
       "      <td>4.600000e+04</td>\n",
       "    </tr>\n",
       "    <tr>\n",
       "      <th>50%</th>\n",
       "      <td>168236.500000</td>\n",
       "      <td>28436.000000</td>\n",
       "      <td>664.000000</td>\n",
       "      <td>438.000000</td>\n",
       "      <td>8.000000</td>\n",
       "      <td>43.000000</td>\n",
       "      <td>2.000000e+00</td>\n",
       "      <td>1.070000e+05</td>\n",
       "    </tr>\n",
       "    <tr>\n",
       "      <th>75%</th>\n",
       "      <td>252354.250000</td>\n",
       "      <td>46193.250000</td>\n",
       "      <td>1217.000000</td>\n",
       "      <td>589.000000</td>\n",
       "      <td>14.000000</td>\n",
       "      <td>69.000000</td>\n",
       "      <td>5.000000e+00</td>\n",
       "      <td>1.845000e+05</td>\n",
       "    </tr>\n",
       "    <tr>\n",
       "      <th>max</th>\n",
       "      <td>336472.000000</td>\n",
       "      <td>62048.000000</td>\n",
       "      <td>2138.000000</td>\n",
       "      <td>1617.000000</td>\n",
       "      <td>33.000000</td>\n",
       "      <td>96.000000</td>\n",
       "      <td>4.800000e+06</td>\n",
       "      <td>5.875000e+07</td>\n",
       "    </tr>\n",
       "  </tbody>\n",
       "</table>\n",
       "</div>"
      ],
      "text/plain": [
       "                  id       order_id    merchant_id         sku_id  \\\n",
       "count  336472.000000  336472.000000  336472.000000  336472.000000   \n",
       "mean   168236.500000   29079.405656     798.592706     525.308685   \n",
       "std     97131.244225   18909.738357     550.271799     304.262943   \n",
       "min         1.000000       1.000000       1.000000       1.000000   \n",
       "25%     84118.750000   11485.000000     352.000000     322.000000   \n",
       "50%    168236.500000   28436.000000     664.000000     438.000000   \n",
       "75%    252354.250000   46193.250000    1217.000000     589.000000   \n",
       "max    336472.000000   62048.000000    2138.000000    1617.000000   \n",
       "\n",
       "          top_cat_id     sub_cat_id           qty         price  \n",
       "count  336461.000000  336461.000000  3.364720e+05  3.364720e+05  \n",
       "mean       10.319098      45.395065  3.789684e+01  1.378956e+05  \n",
       "std         7.906257      27.767388  1.035873e+04  1.744689e+05  \n",
       "min         1.000000       1.000000  1.000000e+00  4.375000e-02  \n",
       "25%         4.000000      27.000000  1.000000e+00  4.600000e+04  \n",
       "50%         8.000000      43.000000  2.000000e+00  1.070000e+05  \n",
       "75%        14.000000      69.000000  5.000000e+00  1.845000e+05  \n",
       "max        33.000000      96.000000  4.800000e+06  5.875000e+07  "
      ]
     },
     "execution_count": 9,
     "metadata": {},
     "output_type": "execute_result"
    }
   ],
   "source": [
    "baskets.describe()"
   ]
  },
  {
   "cell_type": "markdown",
   "metadata": {},
   "source": [
    " - noticed that the \"placed_at\" column was not shown in the above result, maybe due to its type?  \n",
    " - wondering that ID columns' statistics may not make sense other than count, min, max, since they are supposed to be identifiers"
   ]
  },
  {
   "cell_type": "markdown",
   "metadata": {},
   "source": [
    "## Conduct some more data inspection"
   ]
  },
  {
   "cell_type": "markdown",
   "metadata": {},
   "source": [
    " - take a look at 3 random rows"
   ]
  },
  {
   "cell_type": "code",
   "execution_count": 10,
   "metadata": {},
   "outputs": [
    {
     "data": {
      "text/html": [
       "<div>\n",
       "<style scoped>\n",
       "    .dataframe tbody tr th:only-of-type {\n",
       "        vertical-align: middle;\n",
       "    }\n",
       "\n",
       "    .dataframe tbody tr th {\n",
       "        vertical-align: top;\n",
       "    }\n",
       "\n",
       "    .dataframe thead th {\n",
       "        text-align: right;\n",
       "    }\n",
       "</style>\n",
       "<table border=\"1\" class=\"dataframe\">\n",
       "  <thead>\n",
       "    <tr style=\"text-align: right;\">\n",
       "      <th></th>\n",
       "      <th>id</th>\n",
       "      <th>order_id</th>\n",
       "      <th>placed_at</th>\n",
       "      <th>merchant_id</th>\n",
       "      <th>sku_id</th>\n",
       "      <th>top_cat_id</th>\n",
       "      <th>sub_cat_id</th>\n",
       "      <th>qty</th>\n",
       "      <th>price</th>\n",
       "    </tr>\n",
       "  </thead>\n",
       "  <tbody>\n",
       "    <tr>\n",
       "      <th>64753</th>\n",
       "      <td>64790</td>\n",
       "      <td>8373</td>\n",
       "      <td>2021-10-28 14:46:48.302</td>\n",
       "      <td>516</td>\n",
       "      <td>622</td>\n",
       "      <td>15.0</td>\n",
       "      <td>48.0</td>\n",
       "      <td>1</td>\n",
       "      <td>223000.0</td>\n",
       "    </tr>\n",
       "    <tr>\n",
       "      <th>297103</th>\n",
       "      <td>297212</td>\n",
       "      <td>54238</td>\n",
       "      <td>2022-05-30 13:12:56.574</td>\n",
       "      <td>1628</td>\n",
       "      <td>1541</td>\n",
       "      <td>4.0</td>\n",
       "      <td>28.0</td>\n",
       "      <td>1</td>\n",
       "      <td>205000.0</td>\n",
       "    </tr>\n",
       "    <tr>\n",
       "      <th>304441</th>\n",
       "      <td>304575</td>\n",
       "      <td>55813</td>\n",
       "      <td>2022-06-14 10:39:34.228</td>\n",
       "      <td>1646</td>\n",
       "      <td>1016</td>\n",
       "      <td>14.0</td>\n",
       "      <td>48.0</td>\n",
       "      <td>5</td>\n",
       "      <td>18500.0</td>\n",
       "    </tr>\n",
       "  </tbody>\n",
       "</table>\n",
       "</div>"
      ],
      "text/plain": [
       "            id  order_id                placed_at  merchant_id  sku_id  \\\n",
       "64753    64790      8373  2021-10-28 14:46:48.302          516     622   \n",
       "297103  297212     54238  2022-05-30 13:12:56.574         1628    1541   \n",
       "304441  304575     55813  2022-06-14 10:39:34.228         1646    1016   \n",
       "\n",
       "        top_cat_id  sub_cat_id  qty     price  \n",
       "64753         15.0        48.0    1  223000.0  \n",
       "297103         4.0        28.0    1  205000.0  \n",
       "304441        14.0        48.0    5   18500.0  "
      ]
     },
     "execution_count": 10,
     "metadata": {},
     "output_type": "execute_result"
    }
   ],
   "source": [
    "# set seed for random function so that we get same rows when re-run the cell\n",
    "np.random.seed(17)\n",
    "baskets.iloc[np.random.randint(0, baskets.shape[0],3)]"
   ]
  },
  {
   "cell_type": "markdown",
   "metadata": {},
   "source": [
    " - take a look at transactions for a specific merchant_id, say the first merchant"
   ]
  },
  {
   "cell_type": "code",
   "execution_count": 20,
   "metadata": {},
   "outputs": [
    {
     "data": {
      "text/html": [
       "<div>\n",
       "<style scoped>\n",
       "    .dataframe tbody tr th:only-of-type {\n",
       "        vertical-align: middle;\n",
       "    }\n",
       "\n",
       "    .dataframe tbody tr th {\n",
       "        vertical-align: top;\n",
       "    }\n",
       "\n",
       "    .dataframe thead th {\n",
       "        text-align: right;\n",
       "    }\n",
       "</style>\n",
       "<table border=\"1\" class=\"dataframe\">\n",
       "  <thead>\n",
       "    <tr style=\"text-align: right;\">\n",
       "      <th></th>\n",
       "      <th>id</th>\n",
       "      <th>order_id</th>\n",
       "      <th>placed_at</th>\n",
       "      <th>merchant_id</th>\n",
       "      <th>sku_id</th>\n",
       "      <th>top_cat_id</th>\n",
       "      <th>sub_cat_id</th>\n",
       "      <th>qty</th>\n",
       "      <th>price</th>\n",
       "    </tr>\n",
       "  </thead>\n",
       "  <tbody>\n",
       "    <tr>\n",
       "      <th>0</th>\n",
       "      <td>1</td>\n",
       "      <td>2</td>\n",
       "      <td>2021-04-09 16:19:27.998</td>\n",
       "      <td>46</td>\n",
       "      <td>101</td>\n",
       "      <td>3.0</td>\n",
       "      <td>94.0</td>\n",
       "      <td>400</td>\n",
       "      <td>134000.0</td>\n",
       "    </tr>\n",
       "    <tr>\n",
       "      <th>1</th>\n",
       "      <td>2</td>\n",
       "      <td>2</td>\n",
       "      <td>2021-04-09 16:19:27.998</td>\n",
       "      <td>46</td>\n",
       "      <td>100</td>\n",
       "      <td>3.0</td>\n",
       "      <td>94.0</td>\n",
       "      <td>400</td>\n",
       "      <td>137000.0</td>\n",
       "    </tr>\n",
       "    <tr>\n",
       "      <th>2</th>\n",
       "      <td>3</td>\n",
       "      <td>2</td>\n",
       "      <td>2021-04-09 16:19:27.998</td>\n",
       "      <td>46</td>\n",
       "      <td>102</td>\n",
       "      <td>3.0</td>\n",
       "      <td>94.0</td>\n",
       "      <td>400</td>\n",
       "      <td>169000.0</td>\n",
       "    </tr>\n",
       "    <tr>\n",
       "      <th>3</th>\n",
       "      <td>4</td>\n",
       "      <td>2</td>\n",
       "      <td>2021-04-09 16:19:27.998</td>\n",
       "      <td>46</td>\n",
       "      <td>99</td>\n",
       "      <td>3.0</td>\n",
       "      <td>94.0</td>\n",
       "      <td>400</td>\n",
       "      <td>129000.0</td>\n",
       "    </tr>\n",
       "    <tr>\n",
       "      <th>4</th>\n",
       "      <td>5</td>\n",
       "      <td>2</td>\n",
       "      <td>2021-04-09 16:19:27.998</td>\n",
       "      <td>46</td>\n",
       "      <td>68</td>\n",
       "      <td>3.0</td>\n",
       "      <td>70.0</td>\n",
       "      <td>360</td>\n",
       "      <td>148500.0</td>\n",
       "    </tr>\n",
       "    <tr>\n",
       "      <th>5</th>\n",
       "      <td>6</td>\n",
       "      <td>2</td>\n",
       "      <td>2021-04-09 16:19:27.998</td>\n",
       "      <td>46</td>\n",
       "      <td>21</td>\n",
       "      <td>4.0</td>\n",
       "      <td>21.0</td>\n",
       "      <td>200</td>\n",
       "      <td>552500.0</td>\n",
       "    </tr>\n",
       "    <tr>\n",
       "      <th>6</th>\n",
       "      <td>7</td>\n",
       "      <td>2</td>\n",
       "      <td>2021-04-09 16:19:27.998</td>\n",
       "      <td>46</td>\n",
       "      <td>103</td>\n",
       "      <td>3.0</td>\n",
       "      <td>94.0</td>\n",
       "      <td>170</td>\n",
       "      <td>103000.0</td>\n",
       "    </tr>\n",
       "    <tr>\n",
       "      <th>7</th>\n",
       "      <td>8</td>\n",
       "      <td>2</td>\n",
       "      <td>2021-04-09 16:19:27.998</td>\n",
       "      <td>46</td>\n",
       "      <td>98</td>\n",
       "      <td>3.0</td>\n",
       "      <td>94.0</td>\n",
       "      <td>50</td>\n",
       "      <td>104000.0</td>\n",
       "    </tr>\n",
       "    <tr>\n",
       "      <th>72</th>\n",
       "      <td>65</td>\n",
       "      <td>15</td>\n",
       "      <td>2021-05-05 14:42:19.221</td>\n",
       "      <td>46</td>\n",
       "      <td>21</td>\n",
       "      <td>4.0</td>\n",
       "      <td>21.0</td>\n",
       "      <td>200</td>\n",
       "      <td>567500.0</td>\n",
       "    </tr>\n",
       "    <tr>\n",
       "      <th>73</th>\n",
       "      <td>66</td>\n",
       "      <td>15</td>\n",
       "      <td>2021-05-05 14:42:19.221</td>\n",
       "      <td>46</td>\n",
       "      <td>68</td>\n",
       "      <td>3.0</td>\n",
       "      <td>70.0</td>\n",
       "      <td>400</td>\n",
       "      <td>158000.0</td>\n",
       "    </tr>\n",
       "    <tr>\n",
       "      <th>74</th>\n",
       "      <td>67</td>\n",
       "      <td>15</td>\n",
       "      <td>2021-05-05 14:42:19.221</td>\n",
       "      <td>46</td>\n",
       "      <td>98</td>\n",
       "      <td>3.0</td>\n",
       "      <td>94.0</td>\n",
       "      <td>400</td>\n",
       "      <td>181000.0</td>\n",
       "    </tr>\n",
       "    <tr>\n",
       "      <th>75</th>\n",
       "      <td>68</td>\n",
       "      <td>15</td>\n",
       "      <td>2021-05-05 14:42:19.221</td>\n",
       "      <td>46</td>\n",
       "      <td>99</td>\n",
       "      <td>3.0</td>\n",
       "      <td>94.0</td>\n",
       "      <td>400</td>\n",
       "      <td>145000.0</td>\n",
       "    </tr>\n",
       "    <tr>\n",
       "      <th>76</th>\n",
       "      <td>69</td>\n",
       "      <td>15</td>\n",
       "      <td>2021-05-05 14:42:19.221</td>\n",
       "      <td>46</td>\n",
       "      <td>100</td>\n",
       "      <td>3.0</td>\n",
       "      <td>94.0</td>\n",
       "      <td>400</td>\n",
       "      <td>150500.0</td>\n",
       "    </tr>\n",
       "    <tr>\n",
       "      <th>77</th>\n",
       "      <td>70</td>\n",
       "      <td>15</td>\n",
       "      <td>2021-05-05 14:42:19.221</td>\n",
       "      <td>46</td>\n",
       "      <td>101</td>\n",
       "      <td>3.0</td>\n",
       "      <td>94.0</td>\n",
       "      <td>400</td>\n",
       "      <td>147500.0</td>\n",
       "    </tr>\n",
       "    <tr>\n",
       "      <th>78</th>\n",
       "      <td>71</td>\n",
       "      <td>15</td>\n",
       "      <td>2021-05-05 14:42:19.221</td>\n",
       "      <td>46</td>\n",
       "      <td>102</td>\n",
       "      <td>3.0</td>\n",
       "      <td>94.0</td>\n",
       "      <td>400</td>\n",
       "      <td>174000.0</td>\n",
       "    </tr>\n",
       "    <tr>\n",
       "      <th>79</th>\n",
       "      <td>155</td>\n",
       "      <td>15</td>\n",
       "      <td>2021-05-05 14:42:19.221</td>\n",
       "      <td>46</td>\n",
       "      <td>93</td>\n",
       "      <td>3.0</td>\n",
       "      <td>91.0</td>\n",
       "      <td>50</td>\n",
       "      <td>114000.0</td>\n",
       "    </tr>\n",
       "    <tr>\n",
       "      <th>661</th>\n",
       "      <td>662</td>\n",
       "      <td>56</td>\n",
       "      <td>2021-06-09 15:33:31.837</td>\n",
       "      <td>46</td>\n",
       "      <td>21</td>\n",
       "      <td>4.0</td>\n",
       "      <td>21.0</td>\n",
       "      <td>400</td>\n",
       "      <td>567500.0</td>\n",
       "    </tr>\n",
       "    <tr>\n",
       "      <th>662</th>\n",
       "      <td>663</td>\n",
       "      <td>56</td>\n",
       "      <td>2021-06-09 15:33:31.837</td>\n",
       "      <td>46</td>\n",
       "      <td>68</td>\n",
       "      <td>3.0</td>\n",
       "      <td>70.0</td>\n",
       "      <td>350</td>\n",
       "      <td>169000.0</td>\n",
       "    </tr>\n",
       "    <tr>\n",
       "      <th>663</th>\n",
       "      <td>664</td>\n",
       "      <td>56</td>\n",
       "      <td>2021-06-09 15:33:31.837</td>\n",
       "      <td>46</td>\n",
       "      <td>98</td>\n",
       "      <td>3.0</td>\n",
       "      <td>94.0</td>\n",
       "      <td>450</td>\n",
       "      <td>104000.0</td>\n",
       "    </tr>\n",
       "    <tr>\n",
       "      <th>664</th>\n",
       "      <td>665</td>\n",
       "      <td>56</td>\n",
       "      <td>2021-06-09 15:33:31.837</td>\n",
       "      <td>46</td>\n",
       "      <td>99</td>\n",
       "      <td>3.0</td>\n",
       "      <td>94.0</td>\n",
       "      <td>350</td>\n",
       "      <td>129000.0</td>\n",
       "    </tr>\n",
       "    <tr>\n",
       "      <th>665</th>\n",
       "      <td>666</td>\n",
       "      <td>56</td>\n",
       "      <td>2021-06-09 15:33:31.837</td>\n",
       "      <td>46</td>\n",
       "      <td>101</td>\n",
       "      <td>3.0</td>\n",
       "      <td>94.0</td>\n",
       "      <td>450</td>\n",
       "      <td>147500.0</td>\n",
       "    </tr>\n",
       "    <tr>\n",
       "      <th>666</th>\n",
       "      <td>667</td>\n",
       "      <td>56</td>\n",
       "      <td>2021-06-09 15:33:31.837</td>\n",
       "      <td>46</td>\n",
       "      <td>102</td>\n",
       "      <td>3.0</td>\n",
       "      <td>94.0</td>\n",
       "      <td>450</td>\n",
       "      <td>174000.0</td>\n",
       "    </tr>\n",
       "    <tr>\n",
       "      <th>47277</th>\n",
       "      <td>47346</td>\n",
       "      <td>5759</td>\n",
       "      <td>2021-10-16 16:39:55.855</td>\n",
       "      <td>46</td>\n",
       "      <td>199</td>\n",
       "      <td>4.0</td>\n",
       "      <td>7.0</td>\n",
       "      <td>5</td>\n",
       "      <td>20500.0</td>\n",
       "    </tr>\n",
       "    <tr>\n",
       "      <th>47278</th>\n",
       "      <td>47347</td>\n",
       "      <td>5759</td>\n",
       "      <td>2021-10-16 16:39:55.855</td>\n",
       "      <td>46</td>\n",
       "      <td>547</td>\n",
       "      <td>4.0</td>\n",
       "      <td>4.0</td>\n",
       "      <td>5</td>\n",
       "      <td>59500.0</td>\n",
       "    </tr>\n",
       "  </tbody>\n",
       "</table>\n",
       "</div>"
      ],
      "text/plain": [
       "          id  order_id                placed_at  merchant_id  sku_id  \\\n",
       "0          1         2  2021-04-09 16:19:27.998           46     101   \n",
       "1          2         2  2021-04-09 16:19:27.998           46     100   \n",
       "2          3         2  2021-04-09 16:19:27.998           46     102   \n",
       "3          4         2  2021-04-09 16:19:27.998           46      99   \n",
       "4          5         2  2021-04-09 16:19:27.998           46      68   \n",
       "5          6         2  2021-04-09 16:19:27.998           46      21   \n",
       "6          7         2  2021-04-09 16:19:27.998           46     103   \n",
       "7          8         2  2021-04-09 16:19:27.998           46      98   \n",
       "72        65        15  2021-05-05 14:42:19.221           46      21   \n",
       "73        66        15  2021-05-05 14:42:19.221           46      68   \n",
       "74        67        15  2021-05-05 14:42:19.221           46      98   \n",
       "75        68        15  2021-05-05 14:42:19.221           46      99   \n",
       "76        69        15  2021-05-05 14:42:19.221           46     100   \n",
       "77        70        15  2021-05-05 14:42:19.221           46     101   \n",
       "78        71        15  2021-05-05 14:42:19.221           46     102   \n",
       "79       155        15  2021-05-05 14:42:19.221           46      93   \n",
       "661      662        56  2021-06-09 15:33:31.837           46      21   \n",
       "662      663        56  2021-06-09 15:33:31.837           46      68   \n",
       "663      664        56  2021-06-09 15:33:31.837           46      98   \n",
       "664      665        56  2021-06-09 15:33:31.837           46      99   \n",
       "665      666        56  2021-06-09 15:33:31.837           46     101   \n",
       "666      667        56  2021-06-09 15:33:31.837           46     102   \n",
       "47277  47346      5759  2021-10-16 16:39:55.855           46     199   \n",
       "47278  47347      5759  2021-10-16 16:39:55.855           46     547   \n",
       "\n",
       "       top_cat_id  sub_cat_id  qty     price  \n",
       "0             3.0        94.0  400  134000.0  \n",
       "1             3.0        94.0  400  137000.0  \n",
       "2             3.0        94.0  400  169000.0  \n",
       "3             3.0        94.0  400  129000.0  \n",
       "4             3.0        70.0  360  148500.0  \n",
       "5             4.0        21.0  200  552500.0  \n",
       "6             3.0        94.0  170  103000.0  \n",
       "7             3.0        94.0   50  104000.0  \n",
       "72            4.0        21.0  200  567500.0  \n",
       "73            3.0        70.0  400  158000.0  \n",
       "74            3.0        94.0  400  181000.0  \n",
       "75            3.0        94.0  400  145000.0  \n",
       "76            3.0        94.0  400  150500.0  \n",
       "77            3.0        94.0  400  147500.0  \n",
       "78            3.0        94.0  400  174000.0  \n",
       "79            3.0        91.0   50  114000.0  \n",
       "661           4.0        21.0  400  567500.0  \n",
       "662           3.0        70.0  350  169000.0  \n",
       "663           3.0        94.0  450  104000.0  \n",
       "664           3.0        94.0  350  129000.0  \n",
       "665           3.0        94.0  450  147500.0  \n",
       "666           3.0        94.0  450  174000.0  \n",
       "47277         4.0         7.0    5   20500.0  \n",
       "47278         4.0         4.0    5   59500.0  "
      ]
     },
     "execution_count": 20,
     "metadata": {},
     "output_type": "execute_result"
    }
   ],
   "source": [
    "m_id = baskets.merchant_id[0]\n",
    "baskets[baskets['merchant_id'] == m_id]"
   ]
  },
  {
   "cell_type": "markdown",
   "metadata": {},
   "source": [
    " - how much did it cost in total for this particular merchant?"
   ]
  },
  {
   "cell_type": "code",
   "execution_count": 21,
   "metadata": {},
   "outputs": [
    {
     "data": {
      "text/plain": [
       "4485500.0"
      ]
     },
     "execution_count": 21,
     "metadata": {},
     "output_type": "execute_result"
    }
   ],
   "source": [
    "baskets[baskets['merchant_id'] == m_id].price.sum()"
   ]
  },
  {
   "cell_type": "markdown",
   "metadata": {},
   "source": [
    " - what is the average price for the first order?"
   ]
  },
  {
   "cell_type": "code",
   "execution_count": 22,
   "metadata": {},
   "outputs": [
    {
     "data": {
      "text/plain": [
       "184625.0"
      ]
     },
     "execution_count": 22,
     "metadata": {},
     "output_type": "execute_result"
    }
   ],
   "source": [
    "o_id = baskets.order_id[0]\n",
    "baskets[baskets['order_id'] == o_id].price.mean()"
   ]
  },
  {
   "cell_type": "markdown",
   "metadata": {},
   "source": [
    " - what are the average price, min and max prices for all rows in this dataset?"
   ]
  },
  {
   "cell_type": "code",
   "execution_count": 23,
   "metadata": {},
   "outputs": [
    {
     "data": {
      "text/plain": [
       "(137895.60407784148, 0.04375, 58750000.0)"
      ]
     },
     "execution_count": 23,
     "metadata": {},
     "output_type": "execute_result"
    }
   ],
   "source": [
    "baskets['price'].mean(), baskets['price'].min(), baskets['price'].max(), "
   ]
  },
  {
   "cell_type": "markdown",
   "metadata": {},
   "source": [
    " - how many rows have price of 0\n",
    " - question: Why would some items have price of 0? \n",
    "\n",
    "*** TODO: find out why would some items have price of 0?\n",
    "  "
   ]
  },
  {
   "cell_type": "code",
   "execution_count": 24,
   "metadata": {},
   "outputs": [
    {
     "data": {
      "text/plain": [
       "id             0\n",
       "order_id       0\n",
       "placed_at      0\n",
       "merchant_id    0\n",
       "sku_id         0\n",
       "top_cat_id     0\n",
       "sub_cat_id     0\n",
       "qty            0\n",
       "price          0\n",
       "dtype: int64"
      ]
     },
     "execution_count": 24,
     "metadata": {},
     "output_type": "execute_result"
    }
   ],
   "source": [
    "baskets[baskets['price']==0].count()"
   ]
  },
  {
   "cell_type": "markdown",
   "metadata": {},
   "source": [
    " - check columns' number of unique values"
   ]
  },
  {
   "cell_type": "code",
   "execution_count": 25,
   "metadata": {},
   "outputs": [
    {
     "data": {
      "text/plain": [
       "id             336472\n",
       "order_id        62048\n",
       "placed_at       62047\n",
       "merchant_id      2138\n",
       "sku_id           1617\n",
       "top_cat_id         33\n",
       "sub_cat_id         96\n",
       "qty               355\n",
       "price            2171\n",
       "dtype: int64"
      ]
     },
     "execution_count": 25,
     "metadata": {},
     "output_type": "execute_result"
    }
   ],
   "source": [
    "baskets.nunique()"
   ]
  },
  {
   "cell_type": "markdown",
   "metadata": {},
   "source": [
    "- question: what can you observe from the above result? what might seem to be peculiar? "
   ]
  },
  {
   "cell_type": "markdown",
   "metadata": {},
   "source": [
    " - notice unique placed_at is one greater than unique order_id\n",
    " - question: is it possible that two orders are made on exactly the same milisecond? In theory it is possible, but might there be potential fraud?\n",
    "\n",
    "  *** TODO: how can we find out which two orders happened on the exact same millisecond? \n"
   ]
  },
  {
   "cell_type": "markdown",
   "metadata": {},
   "source": [
    " - can we check the min and max of \"date\" column?"
   ]
  },
  {
   "cell_type": "code",
   "execution_count": 26,
   "metadata": {},
   "outputs": [
    {
     "data": {
      "text/plain": [
       "('2021-04-09 16:19:27.998', '2022-08-15 23:43:03.647')"
      ]
     },
     "execution_count": 26,
     "metadata": {},
     "output_type": "execute_result"
    }
   ],
   "source": [
    "baskets['placed_at'].min(), baskets['placed_at'].max()"
   ]
  },
  {
   "cell_type": "markdown",
   "metadata": {},
   "source": [
    " - how many merchant transacted on a particular day, say December 31, 2021?\n",
    " - what is the type \"object\" anyways?"
   ]
  },
  {
   "cell_type": "code",
   "execution_count": 27,
   "metadata": {},
   "outputs": [
    {
     "data": {
      "text/plain": [
       "('2021-04-09 16:19:27.998', str)"
      ]
     },
     "execution_count": 27,
     "metadata": {},
     "output_type": "execute_result"
    }
   ],
   "source": [
    "baskets['placed_at'][1], type(baskets['placed_at'][1])"
   ]
  },
  {
   "cell_type": "markdown",
   "metadata": {},
   "source": [
    " - how do we work with a string object and get the date, hour, min, second, millisecond?"
   ]
  },
  {
   "cell_type": "markdown",
   "metadata": {},
   "source": [
    "### save some data to a file"
   ]
  },
  {
   "cell_type": "code",
   "execution_count": 28,
   "metadata": {},
   "outputs": [],
   "source": [
    "baskets[baskets['merchant_id'] == 1004].to_csv(\"test_dave.csv\", sep = \",\", index=False)"
   ]
  },
  {
   "cell_type": "markdown",
   "metadata": {},
   "source": [
    "### gather all observations, questions, and TODOs\n",
    "\n",
    " - columns \"placed_at\" and \"supplier_id\" are not numeric and the rest are numerical columns\n",
    " - why are the count on top_cat_id and sub_cat_id different from others? \n",
    " - ID columns' statistics make sense other than count, min, max, since they are supposed to be identifiers, should we treat them as categorical?\n",
    " - why would some items have price of 0?\n",
    " - unique placed_at is one greater than unique order_id\n",
    " - is it possible that two orders are made on exactly the same milisecond? In theory it is possible, but might there be potential fraud?\n",
    " - how can we find out which two orders happened on the exact same millisecond? \n",
    " - how many merchant transacted on a particular day, say December 31, 2021?\n",
    " - how do we work with a string object and get the date, hour, min, second, millisecond? "
   ]
  },
  {
   "cell_type": "markdown",
   "metadata": {},
   "source": []
  }
 ],
 "metadata": {
  "colab": {
   "name": "AwanTunai.ipynb",
   "provenance": []
  },
  "kernelspec": {
   "display_name": "Python 3 (ipykernel)",
   "language": "python",
   "name": "python3"
  },
  "language_info": {
   "codemirror_mode": {
    "name": "ipython",
    "version": 3
   },
   "file_extension": ".py",
   "mimetype": "text/x-python",
   "name": "python",
   "nbconvert_exporter": "python",
   "pygments_lexer": "ipython3",
   "version": "3.9.12"
  },
  "vscode": {
   "interpreter": {
    "hash": "e57d65b3db466a255fb366a0fd9ddb903b84d832e81688bf0eb6e7b10d96915d"
   }
  }
 },
 "nbformat": 4,
 "nbformat_minor": 4
}
