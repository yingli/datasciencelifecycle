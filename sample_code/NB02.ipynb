{
 "cells": [
  {
   "cell_type": "markdown",
   "metadata": {},
   "source": [
    "## Setting up"
   ]
  },
  {
   "cell_type": "markdown",
   "metadata": {},
   "source": [
    "### Import pandas and read in the csv file and set it to a dataframe called baskets"
   ]
  },
  {
   "cell_type": "code",
   "execution_count": 8,
   "metadata": {
    "id": "2eYcfvLr2ahn",
    "pycharm": {
     "name": "#%%\n"
    }
   },
   "outputs": [],
   "source": [
    "import pandas as pd\n",
    "import numpy as np"
   ]
  },
  {
   "cell_type": "markdown",
   "metadata": {},
   "source": [
    "### questions that were not answered from last notebook:\n",
    "\n",
    " - why are the count on top_cat_id and sub_cat_id different from others? \n",
    " - ID columns' statistics make sense other than count, min, max, since they are supposed to be identifiers, should we treat them as categorical?\n",
    " - why would some items have price of 0?\n",
    " - unique placed_at is one greater than unique order_id, is it possible that two orders are made on exactly the same milisecond? In theory it is possible, but might there be potential fraud?\n",
    " - how can we find out which two orders happened on the exact same millisecond? \n",
    " - how many merchant transacted on a particular day, say December 31, 2021?\n",
    " - how do we work with a string object and get the date, hour, min, second, millisecond? "
   ]
  },
  {
   "cell_type": "markdown",
   "metadata": {},
   "source": [
    "### plan for this notebook to work on:\n",
    " - why are the count on top_cat_id and sub_cat_id different from others? \n",
    " - how can we find out which two orders happened on the exact same millisecond? \n",
    " - how many merchant transacted on a particular day, say December 31, 2021?\n",
    " - how do we work with a string object and get the date, hour, min, second, millisecond? \n",
    " \n",
    "### the remaining questions may need business answer\n",
    " - ID columns' statistics make sense other than count, min, max, since they are supposed to be identifiers, should we treat them as categorical?\n",
    " - why would some items have price of 0?\n",
    " - unique placed_at is one greater than unique order_id, is it possible that two orders are made on exactly the same milisecond? In theory it is possible, but might there be potential fraud?\n"
   ]
  },
  {
   "cell_type": "code",
   "execution_count": 9,
   "metadata": {},
   "outputs": [
    {
     "data": {
      "text/plain": [
       "id             30803\n",
       "order_id       30803\n",
       "placed_at      30803\n",
       "merchant_id    30803\n",
       "sku_id         30803\n",
       "top_cat_id     30803\n",
       "sub_cat_id     30803\n",
       "qty            30803\n",
       "price          30803\n",
       "dtype: int64"
      ]
     },
     "execution_count": 9,
     "metadata": {},
     "output_type": "execute_result"
    }
   ],
   "source": [
    "baskets = pd.read_csv('new_baskets_sample_random_10.csv')\n",
    "baskets.count()"
   ]
  },
  {
   "cell_type": "markdown",
   "metadata": {},
   "source": [
    "###  why are the count on top_cat_id and sub_cat_id different from others?\n",
    " - check the python reference on \"count\" function\n",
    " - https://pandas.pydata.org/docs/reference/api/pandas.DataFrame.count.html\n",
    " - function count documentation says \"Count non-NA cells for each column or row\" \n",
    " - usually count value difference could be due to some null value in the column\n",
    " - use isnull, or isna to find out "
   ]
  },
  {
   "cell_type": "code",
   "execution_count": 10,
   "metadata": {},
   "outputs": [
    {
     "data": {
      "text/plain": [
       "id             0\n",
       "order_id       0\n",
       "placed_at      0\n",
       "merchant_id    0\n",
       "sku_id         0\n",
       "top_cat_id     0\n",
       "sub_cat_id     0\n",
       "qty            0\n",
       "price          0\n",
       "dtype: int64"
      ]
     },
     "execution_count": 10,
     "metadata": {},
     "output_type": "execute_result"
    }
   ],
   "source": [
    "baskets.isnull().sum()"
   ]
  },
  {
   "cell_type": "code",
   "execution_count": 11,
   "metadata": {},
   "outputs": [
    {
     "data": {
      "text/plain": [
       "id             0\n",
       "order_id       0\n",
       "placed_at      0\n",
       "merchant_id    0\n",
       "sku_id         0\n",
       "top_cat_id     0\n",
       "sub_cat_id     0\n",
       "qty            0\n",
       "price          0\n",
       "dtype: int64"
      ]
     },
     "execution_count": 11,
     "metadata": {},
     "output_type": "execute_result"
    }
   ],
   "source": [
    "baskets.isna().sum()"
   ]
  },
  {
   "cell_type": "code",
   "execution_count": 12,
   "metadata": {},
   "outputs": [
    {
     "data": {
      "text/html": [
       "<div>\n",
       "<style scoped>\n",
       "    .dataframe tbody tr th:only-of-type {\n",
       "        vertical-align: middle;\n",
       "    }\n",
       "\n",
       "    .dataframe tbody tr th {\n",
       "        vertical-align: top;\n",
       "    }\n",
       "\n",
       "    .dataframe thead th {\n",
       "        text-align: right;\n",
       "    }\n",
       "</style>\n",
       "<table border=\"1\" class=\"dataframe\">\n",
       "  <thead>\n",
       "    <tr style=\"text-align: right;\">\n",
       "      <th></th>\n",
       "      <th>id</th>\n",
       "      <th>order_id</th>\n",
       "      <th>placed_at</th>\n",
       "      <th>merchant_id</th>\n",
       "      <th>sku_id</th>\n",
       "      <th>top_cat_id</th>\n",
       "      <th>sub_cat_id</th>\n",
       "      <th>qty</th>\n",
       "      <th>price</th>\n",
       "    </tr>\n",
       "  </thead>\n",
       "  <tbody>\n",
       "  </tbody>\n",
       "</table>\n",
       "</div>"
      ],
      "text/plain": [
       "Empty DataFrame\n",
       "Columns: [id, order_id, placed_at, merchant_id, sku_id, top_cat_id, sub_cat_id, qty, price]\n",
       "Index: []"
      ]
     },
     "execution_count": 12,
     "metadata": {},
     "output_type": "execute_result"
    }
   ],
   "source": [
    "baskets[baskets['top_cat_id'].isnull()]"
   ]
  },
  {
   "cell_type": "markdown",
   "metadata": {},
   "source": [
    "- what observations can you make from the above results?"
   ]
  },
  {
   "cell_type": "markdown",
   "metadata": {},
   "source": [
    " - top_cat_id and sub_cat_id null happened on the same rows, because there are 7 null for top_cat_id and 7 null for sub-cat_id\n",
    " - this happened on different SKUs, different merchants, different \n",
    " - we see at least one record has price 0 where top_cat_id and sub_cat_id are null, not sure if this is coincident "
   ]
  },
  {
   "cell_type": "markdown",
   "metadata": {},
   "source": [
    "## working with datatime"
   ]
  },
  {
   "cell_type": "code",
   "execution_count": 13,
   "metadata": {},
   "outputs": [
    {
     "data": {
      "text/html": [
       "<div>\n",
       "<style scoped>\n",
       "    .dataframe tbody tr th:only-of-type {\n",
       "        vertical-align: middle;\n",
       "    }\n",
       "\n",
       "    .dataframe tbody tr th {\n",
       "        vertical-align: top;\n",
       "    }\n",
       "\n",
       "    .dataframe thead th {\n",
       "        text-align: right;\n",
       "    }\n",
       "</style>\n",
       "<table border=\"1\" class=\"dataframe\">\n",
       "  <thead>\n",
       "    <tr style=\"text-align: right;\">\n",
       "      <th></th>\n",
       "      <th>id</th>\n",
       "      <th>order_id</th>\n",
       "      <th>placed_at</th>\n",
       "      <th>merchant_id</th>\n",
       "      <th>sku_id</th>\n",
       "      <th>top_cat_id</th>\n",
       "      <th>sub_cat_id</th>\n",
       "      <th>qty</th>\n",
       "      <th>price</th>\n",
       "    </tr>\n",
       "  </thead>\n",
       "  <tbody>\n",
       "  </tbody>\n",
       "</table>\n",
       "</div>"
      ],
      "text/plain": [
       "Empty DataFrame\n",
       "Columns: [id, order_id, placed_at, merchant_id, sku_id, top_cat_id, sub_cat_id, qty, price]\n",
       "Index: []"
      ]
     },
     "execution_count": 13,
     "metadata": {},
     "output_type": "execute_result"
    }
   ],
   "source": [
    "baskets[baskets.duplicated(keep=False)]"
   ]
  },
  {
   "cell_type": "code",
   "execution_count": 14,
   "metadata": {},
   "outputs": [
    {
     "data": {
      "text/html": [
       "<div>\n",
       "<style scoped>\n",
       "    .dataframe tbody tr th:only-of-type {\n",
       "        vertical-align: middle;\n",
       "    }\n",
       "\n",
       "    .dataframe tbody tr th {\n",
       "        vertical-align: top;\n",
       "    }\n",
       "\n",
       "    .dataframe thead th {\n",
       "        text-align: right;\n",
       "    }\n",
       "</style>\n",
       "<table border=\"1\" class=\"dataframe\">\n",
       "  <thead>\n",
       "    <tr style=\"text-align: right;\">\n",
       "      <th></th>\n",
       "      <th>id</th>\n",
       "      <th>order_id</th>\n",
       "      <th>placed_at</th>\n",
       "      <th>merchant_id</th>\n",
       "      <th>sku_id</th>\n",
       "      <th>top_cat_id</th>\n",
       "      <th>sub_cat_id</th>\n",
       "      <th>qty</th>\n",
       "      <th>price</th>\n",
       "      <th>datetime</th>\n",
       "      <th>date</th>\n",
       "      <th>year</th>\n",
       "      <th>month</th>\n",
       "      <th>day</th>\n",
       "      <th>hour</th>\n",
       "      <th>weekday</th>\n",
       "    </tr>\n",
       "  </thead>\n",
       "  <tbody>\n",
       "    <tr>\n",
       "      <th>0</th>\n",
       "      <td>43</td>\n",
       "      <td>8</td>\n",
       "      <td>2021-04-17 20:16:49.181</td>\n",
       "      <td>84</td>\n",
       "      <td>59</td>\n",
       "      <td>4.0</td>\n",
       "      <td>51.0</td>\n",
       "      <td>1500</td>\n",
       "      <td>12000.0</td>\n",
       "      <td>2021-04-17 20:16:49.181</td>\n",
       "      <td>2021-04-17</td>\n",
       "      <td>2021</td>\n",
       "      <td>4</td>\n",
       "      <td>17</td>\n",
       "      <td>20</td>\n",
       "      <td>6</td>\n",
       "    </tr>\n",
       "    <tr>\n",
       "      <th>1</th>\n",
       "      <td>44</td>\n",
       "      <td>8</td>\n",
       "      <td>2021-04-17 20:16:49.181</td>\n",
       "      <td>84</td>\n",
       "      <td>102</td>\n",
       "      <td>3.0</td>\n",
       "      <td>94.0</td>\n",
       "      <td>100</td>\n",
       "      <td>169000.0</td>\n",
       "      <td>2021-04-17 20:16:49.181</td>\n",
       "      <td>2021-04-17</td>\n",
       "      <td>2021</td>\n",
       "      <td>4</td>\n",
       "      <td>17</td>\n",
       "      <td>20</td>\n",
       "      <td>6</td>\n",
       "    </tr>\n",
       "    <tr>\n",
       "      <th>2</th>\n",
       "      <td>45</td>\n",
       "      <td>8</td>\n",
       "      <td>2021-04-17 20:16:49.181</td>\n",
       "      <td>84</td>\n",
       "      <td>101</td>\n",
       "      <td>3.0</td>\n",
       "      <td>94.0</td>\n",
       "      <td>100</td>\n",
       "      <td>134000.0</td>\n",
       "      <td>2021-04-17 20:16:49.181</td>\n",
       "      <td>2021-04-17</td>\n",
       "      <td>2021</td>\n",
       "      <td>4</td>\n",
       "      <td>17</td>\n",
       "      <td>20</td>\n",
       "      <td>6</td>\n",
       "    </tr>\n",
       "  </tbody>\n",
       "</table>\n",
       "</div>"
      ],
      "text/plain": [
       "   id  order_id                placed_at  merchant_id  sku_id  top_cat_id  \\\n",
       "0  43         8  2021-04-17 20:16:49.181           84      59         4.0   \n",
       "1  44         8  2021-04-17 20:16:49.181           84     102         3.0   \n",
       "2  45         8  2021-04-17 20:16:49.181           84     101         3.0   \n",
       "\n",
       "   sub_cat_id   qty     price                datetime        date  year  \\\n",
       "0        51.0  1500   12000.0 2021-04-17 20:16:49.181  2021-04-17  2021   \n",
       "1        94.0   100  169000.0 2021-04-17 20:16:49.181  2021-04-17  2021   \n",
       "2        94.0   100  134000.0 2021-04-17 20:16:49.181  2021-04-17  2021   \n",
       "\n",
       "   month  day  hour  weekday  \n",
       "0      4   17    20        6  \n",
       "1      4   17    20        6  \n",
       "2      4   17    20        6  "
      ]
     },
     "execution_count": 14,
     "metadata": {},
     "output_type": "execute_result"
    }
   ],
   "source": [
    "from datetime import datetime, timedelta\n",
    "\n",
    "baskets = pd.read_csv('new_baskets_sample_random_10.csv')\n",
    "baskets['datetime'] = pd.to_datetime(baskets['placed_at'])\n",
    "\n",
    "baskets['date'] = baskets['datetime'].apply(lambda x: datetime.date(x))\n",
    "baskets['year'] = baskets['datetime'].apply(lambda x: x.year)\n",
    "baskets['month'] = baskets['datetime'].apply(lambda x: x.month)\n",
    "baskets['day'] = baskets['datetime'].apply(lambda x: x.day)\n",
    "baskets['hour'] = baskets['datetime'].apply(lambda x: x.hour)\n",
    "baskets['weekday'] = baskets['datetime'].apply(lambda x: datetime.isoweekday(x))\n",
    "baskets.head(3)\n"
   ]
  },
  {
   "cell_type": "markdown",
   "metadata": {},
   "source": [
    "### another way to do the date convertions"
   ]
  },
  {
   "cell_type": "code",
   "execution_count": 15,
   "metadata": {},
   "outputs": [
    {
     "data": {
      "text/html": [
       "<div>\n",
       "<style scoped>\n",
       "    .dataframe tbody tr th:only-of-type {\n",
       "        vertical-align: middle;\n",
       "    }\n",
       "\n",
       "    .dataframe tbody tr th {\n",
       "        vertical-align: top;\n",
       "    }\n",
       "\n",
       "    .dataframe thead th {\n",
       "        text-align: right;\n",
       "    }\n",
       "</style>\n",
       "<table border=\"1\" class=\"dataframe\">\n",
       "  <thead>\n",
       "    <tr style=\"text-align: right;\">\n",
       "      <th></th>\n",
       "      <th>id</th>\n",
       "      <th>order_id</th>\n",
       "      <th>placed_at</th>\n",
       "      <th>merchant_id</th>\n",
       "      <th>sku_id</th>\n",
       "      <th>top_cat_id</th>\n",
       "      <th>sub_cat_id</th>\n",
       "      <th>qty</th>\n",
       "      <th>price</th>\n",
       "      <th>datetime</th>\n",
       "      <th>date</th>\n",
       "      <th>year</th>\n",
       "      <th>month</th>\n",
       "      <th>day</th>\n",
       "      <th>hour</th>\n",
       "      <th>weekday</th>\n",
       "    </tr>\n",
       "  </thead>\n",
       "  <tbody>\n",
       "    <tr>\n",
       "      <th>0</th>\n",
       "      <td>43</td>\n",
       "      <td>8</td>\n",
       "      <td>2021-04-17 20:16:49.181</td>\n",
       "      <td>84</td>\n",
       "      <td>59</td>\n",
       "      <td>4.0</td>\n",
       "      <td>51.0</td>\n",
       "      <td>1500</td>\n",
       "      <td>12000.0</td>\n",
       "      <td>2021-04-17 20:16:49.181</td>\n",
       "      <td>2021-04-17</td>\n",
       "      <td>2021</td>\n",
       "      <td>4</td>\n",
       "      <td>17</td>\n",
       "      <td>20</td>\n",
       "      <td>5</td>\n",
       "    </tr>\n",
       "    <tr>\n",
       "      <th>1</th>\n",
       "      <td>44</td>\n",
       "      <td>8</td>\n",
       "      <td>2021-04-17 20:16:49.181</td>\n",
       "      <td>84</td>\n",
       "      <td>102</td>\n",
       "      <td>3.0</td>\n",
       "      <td>94.0</td>\n",
       "      <td>100</td>\n",
       "      <td>169000.0</td>\n",
       "      <td>2021-04-17 20:16:49.181</td>\n",
       "      <td>2021-04-17</td>\n",
       "      <td>2021</td>\n",
       "      <td>4</td>\n",
       "      <td>17</td>\n",
       "      <td>20</td>\n",
       "      <td>5</td>\n",
       "    </tr>\n",
       "    <tr>\n",
       "      <th>2</th>\n",
       "      <td>45</td>\n",
       "      <td>8</td>\n",
       "      <td>2021-04-17 20:16:49.181</td>\n",
       "      <td>84</td>\n",
       "      <td>101</td>\n",
       "      <td>3.0</td>\n",
       "      <td>94.0</td>\n",
       "      <td>100</td>\n",
       "      <td>134000.0</td>\n",
       "      <td>2021-04-17 20:16:49.181</td>\n",
       "      <td>2021-04-17</td>\n",
       "      <td>2021</td>\n",
       "      <td>4</td>\n",
       "      <td>17</td>\n",
       "      <td>20</td>\n",
       "      <td>5</td>\n",
       "    </tr>\n",
       "  </tbody>\n",
       "</table>\n",
       "</div>"
      ],
      "text/plain": [
       "   id  order_id                placed_at  merchant_id  sku_id  top_cat_id  \\\n",
       "0  43         8  2021-04-17 20:16:49.181           84      59         4.0   \n",
       "1  44         8  2021-04-17 20:16:49.181           84     102         3.0   \n",
       "2  45         8  2021-04-17 20:16:49.181           84     101         3.0   \n",
       "\n",
       "   sub_cat_id   qty     price                datetime        date  year  \\\n",
       "0        51.0  1500   12000.0 2021-04-17 20:16:49.181  2021-04-17  2021   \n",
       "1        94.0   100  169000.0 2021-04-17 20:16:49.181  2021-04-17  2021   \n",
       "2        94.0   100  134000.0 2021-04-17 20:16:49.181  2021-04-17  2021   \n",
       "\n",
       "   month  day  hour  weekday  \n",
       "0      4   17    20        5  \n",
       "1      4   17    20        5  \n",
       "2      4   17    20        5  "
      ]
     },
     "execution_count": 15,
     "metadata": {},
     "output_type": "execute_result"
    }
   ],
   "source": [
    "baskets = pd.read_csv('new_baskets_sample_random_10.csv')\n",
    "baskets['datetime'] = baskets['placed_at'].apply(lambda x: datetime.fromisoformat(x))\n",
    "\n",
    "#pandas.Series.dt is an interface on a pandas series that gives you convenient access to operations on data stored as a pandas datetime. \n",
    "baskets['date'] = baskets['datetime'].dt.date\n",
    "baskets['year'] = baskets['datetime'].dt.year\n",
    "baskets['month'] = baskets['datetime'].dt.month\n",
    "baskets['day'] = baskets['datetime'].dt.day\n",
    "baskets['hour'] = baskets['datetime'].dt.hour\n",
    "baskets['weekday'] = baskets['datetime'].dt.weekday\n",
    "baskets.head(3)"
   ]
  },
  {
   "cell_type": "markdown",
   "metadata": {},
   "source": [
    " - now we can answer the question of how many merchant transacted on a particular day, say December 31, 2021?"
   ]
  },
  {
   "cell_type": "code",
   "execution_count": 16,
   "metadata": {},
   "outputs": [
    {
     "data": {
      "text/plain": [
       "id             90\n",
       "order_id       90\n",
       "placed_at      90\n",
       "merchant_id    90\n",
       "sku_id         90\n",
       "top_cat_id     90\n",
       "sub_cat_id     90\n",
       "qty            90\n",
       "price          90\n",
       "datetime       90\n",
       "date           90\n",
       "year           90\n",
       "month          90\n",
       "day            90\n",
       "hour           90\n",
       "weekday        90\n",
       "dtype: int64"
      ]
     },
     "execution_count": 16,
     "metadata": {},
     "output_type": "execute_result"
    }
   ],
   "source": [
    "baskets[baskets['date']== pd.to_datetime('2021-12-31').date()].count()"
   ]
  },
  {
   "cell_type": "markdown",
   "metadata": {},
   "source": [
    " - this above looks like it is counting the number of rows"
   ]
  },
  {
   "cell_type": "code",
   "execution_count": 17,
   "metadata": {},
   "outputs": [
    {
     "data": {
      "text/plain": [
       "id             90\n",
       "order_id       27\n",
       "placed_at      27\n",
       "merchant_id    20\n",
       "sku_id         71\n",
       "top_cat_id     13\n",
       "sub_cat_id     28\n",
       "qty            14\n",
       "price          67\n",
       "datetime       27\n",
       "date            1\n",
       "year            1\n",
       "month           1\n",
       "day             1\n",
       "hour            7\n",
       "weekday         1\n",
       "dtype: int64"
      ]
     },
     "execution_count": 17,
     "metadata": {},
     "output_type": "execute_result"
    }
   ],
   "source": [
    "baskets[baskets['date']== pd.to_datetime('2021-12-31').date()].nunique()"
   ]
  },
  {
   "cell_type": "markdown",
   "metadata": {},
   "source": [
    " - what can be observed from the above result?\n",
    " - 23 merchants transacted on Dec 31, 2021, making a total 27 orders, over 9 hours\n",
    " - ......"
   ]
  },
  {
   "cell_type": "markdown",
   "metadata": {},
   "source": [
    "### answer the question of how to find the two orders that are placed on the exact same millisecond"
   ]
  },
  {
   "cell_type": "code",
   "execution_count": 18,
   "metadata": {},
   "outputs": [
    {
     "data": {
      "text/html": [
       "<div>\n",
       "<style scoped>\n",
       "    .dataframe tbody tr th:only-of-type {\n",
       "        vertical-align: middle;\n",
       "    }\n",
       "\n",
       "    .dataframe tbody tr th {\n",
       "        vertical-align: top;\n",
       "    }\n",
       "\n",
       "    .dataframe thead th {\n",
       "        text-align: right;\n",
       "    }\n",
       "</style>\n",
       "<table border=\"1\" class=\"dataframe\">\n",
       "  <thead>\n",
       "    <tr style=\"text-align: right;\">\n",
       "      <th></th>\n",
       "      <th>id</th>\n",
       "      <th>order_id</th>\n",
       "      <th>placed_at</th>\n",
       "      <th>merchant_id</th>\n",
       "      <th>sku_id</th>\n",
       "      <th>top_cat_id</th>\n",
       "      <th>sub_cat_id</th>\n",
       "      <th>qty</th>\n",
       "      <th>price</th>\n",
       "      <th>datetime</th>\n",
       "      <th>date</th>\n",
       "      <th>year</th>\n",
       "      <th>month</th>\n",
       "      <th>day</th>\n",
       "      <th>hour</th>\n",
       "      <th>weekday</th>\n",
       "    </tr>\n",
       "  </thead>\n",
       "  <tbody>\n",
       "  </tbody>\n",
       "</table>\n",
       "</div>"
      ],
      "text/plain": [
       "Empty DataFrame\n",
       "Columns: [id, order_id, placed_at, merchant_id, sku_id, top_cat_id, sub_cat_id, qty, price, datetime, date, year, month, day, hour, weekday]\n",
       "Index: []"
      ]
     },
     "execution_count": 18,
     "metadata": {},
     "output_type": "execute_result"
    }
   ],
   "source": [
    "# we only need to look at columns of order_id and placed_at, and find which rows have different order_id but same placed_at time\n",
    "# any rows that have exact same order_id and same placed_at are considered duplicate and we can drop them\n",
    "df = baskets.drop_duplicates(subset = ['order_id','placed_at'])\n",
    "# and then look at the all rows with same placed_at, find the duplicates \n",
    "# the order_id's in those rows would be the orders that have antoher order that have the same placed_at time\n",
    "o_id = df[df.duplicated(subset = ['placed_at'],keep=False)]['order_id'].reset_index()\n",
    "baskets[baskets['order_id'].isin(o_id['order_id'])]"
   ]
  },
  {
   "cell_type": "markdown",
   "metadata": {},
   "source": [
    " - what can be observed from the above results?\n",
    " - do the rows look normal? it is not impossible for two orders being placed at exactly same millisecond, isn't it? \n",
    " - should we check on other columns whether they have exactly same but should not? \n",
    " - check for duplicates?"
   ]
  },
  {
   "cell_type": "code",
   "execution_count": 19,
   "metadata": {},
   "outputs": [
    {
     "data": {
      "text/html": [
       "<div>\n",
       "<style scoped>\n",
       "    .dataframe tbody tr th:only-of-type {\n",
       "        vertical-align: middle;\n",
       "    }\n",
       "\n",
       "    .dataframe tbody tr th {\n",
       "        vertical-align: top;\n",
       "    }\n",
       "\n",
       "    .dataframe thead th {\n",
       "        text-align: right;\n",
       "    }\n",
       "</style>\n",
       "<table border=\"1\" class=\"dataframe\">\n",
       "  <thead>\n",
       "    <tr style=\"text-align: right;\">\n",
       "      <th></th>\n",
       "      <th>id</th>\n",
       "      <th>order_id</th>\n",
       "      <th>placed_at</th>\n",
       "      <th>merchant_id</th>\n",
       "      <th>sku_id</th>\n",
       "      <th>top_cat_id</th>\n",
       "      <th>sub_cat_id</th>\n",
       "      <th>qty</th>\n",
       "      <th>price</th>\n",
       "    </tr>\n",
       "  </thead>\n",
       "  <tbody>\n",
       "  </tbody>\n",
       "</table>\n",
       "</div>"
      ],
      "text/plain": [
       "Empty DataFrame\n",
       "Columns: [id, order_id, placed_at, merchant_id, sku_id, top_cat_id, sub_cat_id, qty, price]\n",
       "Index: []"
      ]
     },
     "execution_count": 19,
     "metadata": {},
     "output_type": "execute_result"
    }
   ],
   "source": [
    "baskets = pd.read_csv('new_baskets_sample_random_10.csv')\n",
    "baskets[baskets.duplicated(keep=False)]"
   ]
  },
  {
   "cell_type": "code",
   "execution_count": 20,
   "metadata": {},
   "outputs": [
    {
     "data": {
      "text/html": [
       "<div>\n",
       "<style scoped>\n",
       "    .dataframe tbody tr th:only-of-type {\n",
       "        vertical-align: middle;\n",
       "    }\n",
       "\n",
       "    .dataframe tbody tr th {\n",
       "        vertical-align: top;\n",
       "    }\n",
       "\n",
       "    .dataframe thead th {\n",
       "        text-align: right;\n",
       "    }\n",
       "</style>\n",
       "<table border=\"1\" class=\"dataframe\">\n",
       "  <thead>\n",
       "    <tr style=\"text-align: right;\">\n",
       "      <th></th>\n",
       "      <th>id</th>\n",
       "      <th>order_id</th>\n",
       "      <th>placed_at</th>\n",
       "      <th>merchant_id</th>\n",
       "      <th>sku_id</th>\n",
       "      <th>top_cat_id</th>\n",
       "      <th>sub_cat_id</th>\n",
       "      <th>qty</th>\n",
       "      <th>price</th>\n",
       "    </tr>\n",
       "  </thead>\n",
       "  <tbody>\n",
       "  </tbody>\n",
       "</table>\n",
       "</div>"
      ],
      "text/plain": [
       "Empty DataFrame\n",
       "Columns: [id, order_id, placed_at, merchant_id, sku_id, top_cat_id, sub_cat_id, qty, price]\n",
       "Index: []"
      ]
     },
     "execution_count": 20,
     "metadata": {},
     "output_type": "execute_result"
    }
   ],
   "source": [
    "baskets[baskets.duplicated(subset=['id'],keep=False)]\n"
   ]
  },
  {
   "cell_type": "code",
   "execution_count": 21,
   "metadata": {},
   "outputs": [
    {
     "data": {
      "text/plain": [
       "id             30803\n",
       "order_id       30803\n",
       "placed_at      30803\n",
       "merchant_id    30803\n",
       "sku_id         30803\n",
       "top_cat_id     30803\n",
       "sub_cat_id     30803\n",
       "qty            30803\n",
       "price          30803\n",
       "dtype: int64"
      ]
     },
     "execution_count": 21,
     "metadata": {},
     "output_type": "execute_result"
    }
   ],
   "source": [
    "baskets.count()"
   ]
  },
  {
   "cell_type": "code",
   "execution_count": 22,
   "metadata": {},
   "outputs": [
    {
     "data": {
      "text/plain": [
       "id             30803\n",
       "order_id        5440\n",
       "placed_at       5440\n",
       "merchant_id      216\n",
       "sku_id          1220\n",
       "top_cat_id        33\n",
       "sub_cat_id        89\n",
       "qty              129\n",
       "price           1036\n",
       "dtype: int64"
      ]
     },
     "execution_count": 22,
     "metadata": {},
     "output_type": "execute_result"
    }
   ],
   "source": [
    "baskets.nunique()"
   ]
  },
  {
   "cell_type": "markdown",
   "metadata": {},
   "source": [
    "### gather all observations and questions\n",
    "\n",
    " - top_cat_id and sub_cat_id null happened on the same rows, because there are 7 null for top_cat_id and 7 null for sub-cat_id, this happened on different SKUs, different merchants, different dates\n",
    " - we see at least one record has price 0 where top_cat_id and sub_cat_id are null, not sure if this is coincident \n",
    " - 23 merchants transacted on Dec 31, 2021, making a total 27 orders, over 9 hours\n",
    " - we found two worders two orders being placed at exactly same millisecond, they look legit\n",
    " - there are two rows in the data that are duplicated once, making them doubled\n",
    "###  new question\n",
    " - should we remove the duplicates? \n",
    " - what should we do about nulls in the data?\n",
    "\n",
    "### the remaining questions may need business answer that we are not able to answer by data alone\n",
    " - ID columns' statistics make sense other than count, min, max, since they are supposed to be identifiers, should we treat them as categorical?\n",
    " - why would some items have price of 0?\n",
    " - unique placed_at is one greater than unique order_id, is it possible that two orders are made on exactly the same milisecond? In theory it is possible, but might there be potential fraud?\n",
    "\n"
   ]
  }
 ],
 "metadata": {
  "colab": {
   "name": "AwanTunai.ipynb",
   "provenance": []
  },
  "kernelspec": {
   "display_name": "Python 3 (ipykernel)",
   "language": "python",
   "name": "python3"
  },
  "language_info": {
   "codemirror_mode": {
    "name": "ipython",
    "version": 3
   },
   "file_extension": ".py",
   "mimetype": "text/x-python",
   "name": "python",
   "nbconvert_exporter": "python",
   "pygments_lexer": "ipython3",
   "version": "3.9.12"
  },
  "vscode": {
   "interpreter": {
    "hash": "e57d65b3db466a255fb366a0fd9ddb903b84d832e81688bf0eb6e7b10d96915d"
   }
  }
 },
 "nbformat": 4,
 "nbformat_minor": 4
}
